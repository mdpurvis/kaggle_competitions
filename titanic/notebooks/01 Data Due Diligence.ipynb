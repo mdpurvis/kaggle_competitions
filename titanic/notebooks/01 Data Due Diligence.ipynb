{
 "cells": [
  {
   "cell_type": "code",
   "execution_count": 1,
   "metadata": {
    "ExecuteTime": {
     "end_time": "2020-07-08T03:13:26.292465Z",
     "start_time": "2020-07-08T03:13:24.486317Z"
    }
   },
   "outputs": [],
   "source": [
    "import pandas as pd\n",
    "\n",
    "import seaborn as sns\n",
    "import matplotlib.pyplot as plt\n",
    "\n",
    "import sys\n",
    "sys.path.insert(1, '../src/')\n",
    "from titanic import *\n",
    "from titanic_mp import *"
   ]
  },
  {
   "cell_type": "markdown",
   "metadata": {},
   "source": [
    "# Load in Training and Test DataSets\n",
    "# Check for Missing Values in Columns Provided"
   ]
  },
  {
   "cell_type": "code",
   "execution_count": 2,
   "metadata": {
    "ExecuteTime": {
     "end_time": "2020-07-08T03:13:28.009112Z",
     "start_time": "2020-07-08T03:13:27.974694Z"
    }
   },
   "outputs": [
    {
     "name": "stdout",
     "output_type": "stream",
     "text": [
      "In Training Set:\n",
      "\n",
      "Number of rows: 891\n",
      "Number of columns: 13 \n",
      "\n",
      "Column PassengerId has 0 missing values out of 891.  0%\n",
      "Column Survived has 0 missing values out of 891.  0%\n",
      "Column Pclass has 0 missing values out of 891.  0%\n",
      "Column Name has 0 missing values out of 891.  0%\n",
      "Column Sex has 0 missing values out of 891.  0%\n",
      "Column Age has 177 missing values out of 891.  19%\n",
      "Column SibSp has 0 missing values out of 891.  0%\n",
      "Column Parch has 0 missing values out of 891.  0%\n",
      "Column Ticket has 0 missing values out of 891.  0%\n",
      "Column Fare has 0 missing values out of 891.  0%\n",
      "Column Cabin has 687 missing values out of 891.  77%\n",
      "Column Embarked has 2 missing values out of 891.  0%\n",
      "Column Total has 0 missing values out of 891.  0%\n"
     ]
    }
   ],
   "source": [
    "# importing data sets from kernel \n",
    "\n",
    "df = pd.read_csv('../data/raw/train.csv')\n",
    "df['Total'] = 0\n",
    "\n",
    "rows = len(df)\n",
    "columns = len(df.columns)\n",
    "values = rows*columns\n",
    "non_na = df.count().sum()\n",
    "na = values-non_na\n",
    "print('In Training Set:\\n')\n",
    "print('Number of rows:', rows)\n",
    "print('Number of columns:', columns, '\\n')\n",
    "\n",
    "\n",
    "identify_blanks(df)\n",
    "\n",
    "\n",
    "\n",
    "\n",
    "# test = pd.read_csv('../data/raw/test.csv')\n",
    "\n",
    "# rows_test = len(test)\n",
    "# columns_test = len(test.columns)\n",
    "# values = rows_test*columns_test\n",
    "# non_na_test = test.count().sum()\n",
    "# na_test = values_test-non_na_test\n",
    "\n",
    "# print('Number of rows:', rows_test, '\\n')\n",
    "# print('Number of columns:', columns_test, '\\n')\n",
    "\n",
    "\n",
    "# print('     In Test Set:')\n",
    "# identify_blanks(test)"
   ]
  },
  {
   "cell_type": "code",
   "execution_count": 3,
   "metadata": {
    "ExecuteTime": {
     "end_time": "2020-07-08T03:13:29.831847Z",
     "start_time": "2020-07-08T03:13:29.821510Z"
    }
   },
   "outputs": [
    {
     "name": "stdout",
     "output_type": "stream",
     "text": [
      "Below is a list of columns that have missing values:\n"
     ]
    },
    {
     "data": {
      "text/plain": [
       "['Age', 'Cabin', 'Embarked']"
      ]
     },
     "execution_count": 3,
     "metadata": {},
     "output_type": "execute_result"
    }
   ],
   "source": [
    "print('Below is a list of columns that have missing values:')\n",
    "#Highlight what columns have missing values\n",
    "[col for col in df.columns if df[col].isnull().any()]"
   ]
  },
  {
   "cell_type": "markdown",
   "metadata": {},
   "source": [
    "# Begin to Clean Data to Assess how to handle Missing Columns above"
   ]
  },
  {
   "cell_type": "markdown",
   "metadata": {},
   "source": [
    "## Delimit out the 'Name' column to become more relevant\n",
    "### Before (below)"
   ]
  },
  {
   "cell_type": "code",
   "execution_count": 4,
   "metadata": {
    "ExecuteTime": {
     "end_time": "2020-07-08T03:13:31.723638Z",
     "start_time": "2020-07-08T03:13:31.717656Z"
    }
   },
   "outputs": [
    {
     "data": {
      "text/plain": [
       "'Braund, Mr. Owen Harris'"
      ]
     },
     "execution_count": 4,
     "metadata": {},
     "output_type": "execute_result"
    }
   ],
   "source": [
    "df['Name'][0]"
   ]
  },
  {
   "cell_type": "markdown",
   "metadata": {},
   "source": [
    "### After (below)\n",
    "\n",
    "Prefix = Mr\n",
    "\n",
    "First_Name = Owen\n",
    "\n",
    "Last_Name = Braund"
   ]
  },
  {
   "cell_type": "code",
   "execution_count": 5,
   "metadata": {
    "ExecuteTime": {
     "end_time": "2020-07-08T03:13:33.252709Z",
     "start_time": "2020-07-08T03:13:33.237804Z"
    }
   },
   "outputs": [],
   "source": [
    "df_name1 = df.Name.str.split(',', expand=True).add_prefix('Name_')\n",
    "df1 = df.join(df_name1)\n",
    "df1.rename(columns={'Name_0':'Last_Name', 'Name':'Full_Name', 'Name_1':'Name'}, inplace=True)"
   ]
  },
  {
   "cell_type": "code",
   "execution_count": 6,
   "metadata": {
    "ExecuteTime": {
     "end_time": "2020-07-08T03:13:34.689856Z",
     "start_time": "2020-07-08T03:13:34.676891Z"
    }
   },
   "outputs": [],
   "source": [
    "df_name2 = df1.Name.str.split('.', expand=True).add_prefix('Name_')\n",
    "df2 = df1.join(df_name2)\n",
    "df2.rename(columns={'Name_0':'Prefix', 'Name_1':'Name_Fix'}, inplace=True)\n",
    "df2.drop(columns=['Name_2'], inplace=True)"
   ]
  },
  {
   "cell_type": "code",
   "execution_count": 7,
   "metadata": {
    "ExecuteTime": {
     "end_time": "2020-07-08T03:13:35.804552Z",
     "start_time": "2020-07-08T03:13:35.789560Z"
    }
   },
   "outputs": [],
   "source": [
    "df_name3 = df2.Name_Fix.str.split(' ', expand=True).add_prefix('Name_')\n",
    "df3 = df2.join(df_name3)\n",
    "df3.rename(columns={'Name_1':'First_Name'}, inplace=True)\n",
    "df3.drop(columns=['Name_0',\n",
    "                 'Name_2',\n",
    "                 'Name_3',\n",
    "                 'Name_4',\n",
    "                 'Name_5',\n",
    "                 'Name_6',\n",
    "                 'Name_7',\n",
    "                 'Name_8',\n",
    "                 'Name_9',\n",
    "                 'Name_10',\n",
    "                 'Name_Fix',\n",
    "                 'Name'], inplace=True)"
   ]
  },
  {
   "cell_type": "code",
   "execution_count": 8,
   "metadata": {
    "ExecuteTime": {
     "end_time": "2020-07-08T03:13:39.885861Z",
     "start_time": "2020-07-08T03:13:39.877122Z"
    }
   },
   "outputs": [],
   "source": [
    "df3 = df3[['PassengerId', 'Survived', 'Pclass', 'Full_Name', \n",
    "           'Sex', 'Age', 'SibSp','Parch', 'Ticket', 'Fare', 'Cabin', \n",
    "           'Embarked', 'Prefix', 'First_Name', 'Last_Name', 'Total']]\n",
    "\n",
    "df3['Prefix'] = df3['Prefix'].str.strip()"
   ]
  },
  {
   "cell_type": "markdown",
   "metadata": {},
   "source": [
    "## Below will confirm the named prefixes to have a direct correlation to the Sex of the individual:"
   ]
  },
  {
   "cell_type": "code",
   "execution_count": 9,
   "metadata": {
    "ExecuteTime": {
     "end_time": "2020-07-08T03:13:47.411284Z",
     "start_time": "2020-07-08T03:13:47.389136Z"
    },
    "cell_style": "split"
   },
   "outputs": [
    {
     "name": "stdout",
     "output_type": "stream",
     "text": [
      "              Prefix  pct_total\n",
      "Mr               517   0.580247\n",
      "Miss             182   0.204265\n",
      "Mrs              125   0.140292\n",
      "Master            40   0.044893\n",
      "Dr                 7   0.007856\n",
      "Rev                6   0.006734\n",
      "Major              2   0.002245\n",
      "Col                2   0.002245\n",
      "Mlle               2   0.002245\n",
      "the Countess       1   0.001122\n",
      "Capt               1   0.001122\n",
      "Ms                 1   0.001122\n",
      "Don                1   0.001122\n",
      "Lady               1   0.001122\n",
      "Mme                1   0.001122\n"
     ]
    }
   ],
   "source": [
    "freq_dist(df3, 'Prefix')"
   ]
  },
  {
   "cell_type": "code",
   "execution_count": 10,
   "metadata": {
    "ExecuteTime": {
     "end_time": "2020-07-08T03:13:48.217513Z",
     "start_time": "2020-07-08T03:13:48.165462Z"
    },
    "cell_style": "split",
    "scrolled": true
   },
   "outputs": [
    {
     "name": "stdout",
     "output_type": "stream",
     "text": [
      "Mr:  male    517\n",
      "Name: Sex, dtype: int64 \n",
      "\n",
      "Miss:  female    182\n",
      "Name: Sex, dtype: int64 \n",
      "\n",
      "Mrs:  female    125\n",
      "Name: Sex, dtype: int64 \n",
      "\n",
      "Master:  male    40\n",
      "Name: Sex, dtype: int64 \n",
      "\n",
      "Dr:  male      6\n",
      "female    1\n",
      "Name: Sex, dtype: int64 \n",
      "\n",
      "Rev:  male    6\n",
      "Name: Sex, dtype: int64 \n",
      "\n",
      "Mlle:  female    2\n",
      "Name: Sex, dtype: int64 \n",
      "\n",
      "Col:  male    2\n",
      "Name: Sex, dtype: int64 \n",
      "\n",
      "Major:  male    2\n",
      "Name: Sex, dtype: int64 \n",
      "\n",
      "Mme:  female    1\n",
      "Name: Sex, dtype: int64 \n",
      "\n",
      "Lady:  female    1\n",
      "Name: Sex, dtype: int64 \n",
      "\n",
      "Don:  male    1\n",
      "Name: Sex, dtype: int64 \n",
      "\n",
      "Ms:  female    1\n",
      "Name: Sex, dtype: int64 \n",
      "\n",
      "the Countess:  female    1\n",
      "Name: Sex, dtype: int64 \n",
      "\n",
      "Capt:  male    1\n",
      "Name: Sex, dtype: int64 \n",
      "\n"
     ]
    }
   ],
   "source": [
    "print('Mr: ',df3.loc[df3['Prefix']=='Mr'].Sex.value_counts(dropna=False), '\\n')\n",
    "print('Miss: ',df3.loc[df3['Prefix']=='Miss'].Sex.value_counts(dropna=False), '\\n')\n",
    "print('Mrs: ',df3.loc[df3['Prefix']=='Mrs'].Sex.value_counts(dropna=False), '\\n')\n",
    "print('Master: ',df3.loc[df3['Prefix']=='Master'].Sex.value_counts(dropna=False), '\\n')\n",
    "print('Dr: ',df3.loc[df3['Prefix']=='Dr'].Sex.value_counts(dropna=False), '\\n')\n",
    "print('Rev: ',df3.loc[df3['Prefix']=='Rev'].Sex.value_counts(dropna=False), '\\n')\n",
    "print('Mlle: ',df3.loc[df3['Prefix']=='Mlle'].Sex.value_counts(dropna=False), '\\n')\n",
    "print('Col: ',df3.loc[df3['Prefix']=='Col'].Sex.value_counts(dropna=False), '\\n')\n",
    "print('Major: ',df3.loc[df3['Prefix']=='Major'].Sex.value_counts(dropna=False), '\\n')\n",
    "print('Mme: ',df3.loc[df3['Prefix']=='Mme'].Sex.value_counts(dropna=False), '\\n')\n",
    "print('Lady: ',df3.loc[df3['Prefix']=='Lady'].Sex.value_counts(dropna=False), '\\n')\n",
    "print('Don: ',df3.loc[df3['Prefix']=='Don'].Sex.value_counts(dropna=False), '\\n')\n",
    "print('Ms: ',df3.loc[df3['Prefix']=='Ms'].Sex.value_counts(dropna=False), '\\n')\n",
    "print('the Countess: ',df3.loc[df3['Prefix']=='the Countess'].Sex.value_counts(dropna=False), '\\n')\n",
    "print('Capt: ',df3.loc[df3['Prefix']=='Capt'].Sex.value_counts(dropna=False), '\\n')"
   ]
  },
  {
   "cell_type": "markdown",
   "metadata": {},
   "source": [
    "## Split the samples with ages missing and included and conduct a comparison of survival rates based on named prefixes"
   ]
  },
  {
   "cell_type": "code",
   "execution_count": 11,
   "metadata": {
    "ExecuteTime": {
     "end_time": "2020-07-08T03:13:49.688930Z",
     "start_time": "2020-07-08T03:13:49.684939Z"
    },
    "cell_style": "split"
   },
   "outputs": [],
   "source": [
    "df_age_missing = df3.loc[df['Age'].isnull()]"
   ]
  },
  {
   "cell_type": "code",
   "execution_count": 12,
   "metadata": {
    "ExecuteTime": {
     "end_time": "2020-07-08T03:13:50.410523Z",
     "start_time": "2020-07-08T03:13:50.405535Z"
    },
    "cell_style": "split"
   },
   "outputs": [],
   "source": [
    "df_age_incl = df3.loc[df['Age'].notnull()]"
   ]
  },
  {
   "cell_type": "code",
   "execution_count": 13,
   "metadata": {
    "ExecuteTime": {
     "end_time": "2020-07-08T03:13:51.166988Z",
     "start_time": "2020-07-08T03:13:51.109993Z"
    },
    "cell_style": "split"
   },
   "outputs": [
    {
     "name": "stdout",
     "output_type": "stream",
     "text": [
      "Summary for passengers with missing ages below:\n"
     ]
    },
    {
     "data": {
      "text/html": [
       "<div>\n",
       "<style scoped>\n",
       "    .dataframe tbody tr th:only-of-type {\n",
       "        vertical-align: middle;\n",
       "    }\n",
       "\n",
       "    .dataframe tbody tr th {\n",
       "        vertical-align: top;\n",
       "    }\n",
       "\n",
       "    .dataframe thead th {\n",
       "        text-align: right;\n",
       "    }\n",
       "</style>\n",
       "<table border=\"1\" class=\"dataframe\">\n",
       "  <thead>\n",
       "    <tr style=\"text-align: right;\">\n",
       "      <th></th>\n",
       "      <th>PassengerId</th>\n",
       "      <th>Survived</th>\n",
       "      <th>Pclass</th>\n",
       "      <th>Full_Name</th>\n",
       "      <th>Sex</th>\n",
       "      <th>Age</th>\n",
       "      <th>SibSp</th>\n",
       "      <th>Parch</th>\n",
       "      <th>Ticket</th>\n",
       "      <th>Fare</th>\n",
       "      <th>Cabin</th>\n",
       "      <th>Embarked</th>\n",
       "      <th>Prefix</th>\n",
       "      <th>First_Name</th>\n",
       "      <th>Last_Name</th>\n",
       "      <th>Total</th>\n",
       "    </tr>\n",
       "  </thead>\n",
       "  <tbody>\n",
       "    <tr>\n",
       "      <th>count</th>\n",
       "      <td>177.000000</td>\n",
       "      <td>177.000000</td>\n",
       "      <td>177.000000</td>\n",
       "      <td>177</td>\n",
       "      <td>177</td>\n",
       "      <td>0.0</td>\n",
       "      <td>177.000000</td>\n",
       "      <td>177.000000</td>\n",
       "      <td>177</td>\n",
       "      <td>177.000000</td>\n",
       "      <td>19</td>\n",
       "      <td>177</td>\n",
       "      <td>177</td>\n",
       "      <td>177</td>\n",
       "      <td>177</td>\n",
       "      <td>177.0</td>\n",
       "    </tr>\n",
       "    <tr>\n",
       "      <th>unique</th>\n",
       "      <td>NaN</td>\n",
       "      <td>NaN</td>\n",
       "      <td>NaN</td>\n",
       "      <td>177</td>\n",
       "      <td>2</td>\n",
       "      <td>NaN</td>\n",
       "      <td>NaN</td>\n",
       "      <td>NaN</td>\n",
       "      <td>155</td>\n",
       "      <td>NaN</td>\n",
       "      <td>19</td>\n",
       "      <td>3</td>\n",
       "      <td>5</td>\n",
       "      <td>123</td>\n",
       "      <td>150</td>\n",
       "      <td>NaN</td>\n",
       "    </tr>\n",
       "    <tr>\n",
       "      <th>top</th>\n",
       "      <td>NaN</td>\n",
       "      <td>NaN</td>\n",
       "      <td>NaN</td>\n",
       "      <td>Davison, Mrs. Thomas Henry (Mary E Finck)</td>\n",
       "      <td>male</td>\n",
       "      <td>NaN</td>\n",
       "      <td>NaN</td>\n",
       "      <td>NaN</td>\n",
       "      <td>CA. 2343</td>\n",
       "      <td>NaN</td>\n",
       "      <td>C52</td>\n",
       "      <td>S</td>\n",
       "      <td>Mr</td>\n",
       "      <td>Thomas</td>\n",
       "      <td>Sage</td>\n",
       "      <td>NaN</td>\n",
       "    </tr>\n",
       "    <tr>\n",
       "      <th>freq</th>\n",
       "      <td>NaN</td>\n",
       "      <td>NaN</td>\n",
       "      <td>NaN</td>\n",
       "      <td>1</td>\n",
       "      <td>124</td>\n",
       "      <td>NaN</td>\n",
       "      <td>NaN</td>\n",
       "      <td>NaN</td>\n",
       "      <td>7</td>\n",
       "      <td>NaN</td>\n",
       "      <td>1</td>\n",
       "      <td>90</td>\n",
       "      <td>119</td>\n",
       "      <td>9</td>\n",
       "      <td>7</td>\n",
       "      <td>NaN</td>\n",
       "    </tr>\n",
       "    <tr>\n",
       "      <th>mean</th>\n",
       "      <td>435.581921</td>\n",
       "      <td>0.293785</td>\n",
       "      <td>2.598870</td>\n",
       "      <td>NaN</td>\n",
       "      <td>NaN</td>\n",
       "      <td>NaN</td>\n",
       "      <td>0.564972</td>\n",
       "      <td>0.180791</td>\n",
       "      <td>NaN</td>\n",
       "      <td>22.158567</td>\n",
       "      <td>NaN</td>\n",
       "      <td>NaN</td>\n",
       "      <td>NaN</td>\n",
       "      <td>NaN</td>\n",
       "      <td>NaN</td>\n",
       "      <td>0.0</td>\n",
       "    </tr>\n",
       "    <tr>\n",
       "      <th>std</th>\n",
       "      <td>250.552901</td>\n",
       "      <td>0.456787</td>\n",
       "      <td>0.763216</td>\n",
       "      <td>NaN</td>\n",
       "      <td>NaN</td>\n",
       "      <td>NaN</td>\n",
       "      <td>1.626316</td>\n",
       "      <td>0.534145</td>\n",
       "      <td>NaN</td>\n",
       "      <td>31.874608</td>\n",
       "      <td>NaN</td>\n",
       "      <td>NaN</td>\n",
       "      <td>NaN</td>\n",
       "      <td>NaN</td>\n",
       "      <td>NaN</td>\n",
       "      <td>0.0</td>\n",
       "    </tr>\n",
       "    <tr>\n",
       "      <th>min</th>\n",
       "      <td>6.000000</td>\n",
       "      <td>0.000000</td>\n",
       "      <td>1.000000</td>\n",
       "      <td>NaN</td>\n",
       "      <td>NaN</td>\n",
       "      <td>NaN</td>\n",
       "      <td>0.000000</td>\n",
       "      <td>0.000000</td>\n",
       "      <td>NaN</td>\n",
       "      <td>0.000000</td>\n",
       "      <td>NaN</td>\n",
       "      <td>NaN</td>\n",
       "      <td>NaN</td>\n",
       "      <td>NaN</td>\n",
       "      <td>NaN</td>\n",
       "      <td>0.0</td>\n",
       "    </tr>\n",
       "    <tr>\n",
       "      <th>25%</th>\n",
       "      <td>230.000000</td>\n",
       "      <td>0.000000</td>\n",
       "      <td>3.000000</td>\n",
       "      <td>NaN</td>\n",
       "      <td>NaN</td>\n",
       "      <td>NaN</td>\n",
       "      <td>0.000000</td>\n",
       "      <td>0.000000</td>\n",
       "      <td>NaN</td>\n",
       "      <td>7.750000</td>\n",
       "      <td>NaN</td>\n",
       "      <td>NaN</td>\n",
       "      <td>NaN</td>\n",
       "      <td>NaN</td>\n",
       "      <td>NaN</td>\n",
       "      <td>0.0</td>\n",
       "    </tr>\n",
       "    <tr>\n",
       "      <th>50%</th>\n",
       "      <td>452.000000</td>\n",
       "      <td>0.000000</td>\n",
       "      <td>3.000000</td>\n",
       "      <td>NaN</td>\n",
       "      <td>NaN</td>\n",
       "      <td>NaN</td>\n",
       "      <td>0.000000</td>\n",
       "      <td>0.000000</td>\n",
       "      <td>NaN</td>\n",
       "      <td>8.050000</td>\n",
       "      <td>NaN</td>\n",
       "      <td>NaN</td>\n",
       "      <td>NaN</td>\n",
       "      <td>NaN</td>\n",
       "      <td>NaN</td>\n",
       "      <td>0.0</td>\n",
       "    </tr>\n",
       "    <tr>\n",
       "      <th>75%</th>\n",
       "      <td>634.000000</td>\n",
       "      <td>1.000000</td>\n",
       "      <td>3.000000</td>\n",
       "      <td>NaN</td>\n",
       "      <td>NaN</td>\n",
       "      <td>NaN</td>\n",
       "      <td>0.000000</td>\n",
       "      <td>0.000000</td>\n",
       "      <td>NaN</td>\n",
       "      <td>24.150000</td>\n",
       "      <td>NaN</td>\n",
       "      <td>NaN</td>\n",
       "      <td>NaN</td>\n",
       "      <td>NaN</td>\n",
       "      <td>NaN</td>\n",
       "      <td>0.0</td>\n",
       "    </tr>\n",
       "    <tr>\n",
       "      <th>max</th>\n",
       "      <td>889.000000</td>\n",
       "      <td>1.000000</td>\n",
       "      <td>3.000000</td>\n",
       "      <td>NaN</td>\n",
       "      <td>NaN</td>\n",
       "      <td>NaN</td>\n",
       "      <td>8.000000</td>\n",
       "      <td>2.000000</td>\n",
       "      <td>NaN</td>\n",
       "      <td>227.525000</td>\n",
       "      <td>NaN</td>\n",
       "      <td>NaN</td>\n",
       "      <td>NaN</td>\n",
       "      <td>NaN</td>\n",
       "      <td>NaN</td>\n",
       "      <td>0.0</td>\n",
       "    </tr>\n",
       "  </tbody>\n",
       "</table>\n",
       "</div>"
      ],
      "text/plain": [
       "        PassengerId    Survived      Pclass  \\\n",
       "count    177.000000  177.000000  177.000000   \n",
       "unique          NaN         NaN         NaN   \n",
       "top             NaN         NaN         NaN   \n",
       "freq            NaN         NaN         NaN   \n",
       "mean     435.581921    0.293785    2.598870   \n",
       "std      250.552901    0.456787    0.763216   \n",
       "min        6.000000    0.000000    1.000000   \n",
       "25%      230.000000    0.000000    3.000000   \n",
       "50%      452.000000    0.000000    3.000000   \n",
       "75%      634.000000    1.000000    3.000000   \n",
       "max      889.000000    1.000000    3.000000   \n",
       "\n",
       "                                        Full_Name   Sex  Age       SibSp  \\\n",
       "count                                         177   177  0.0  177.000000   \n",
       "unique                                        177     2  NaN         NaN   \n",
       "top     Davison, Mrs. Thomas Henry (Mary E Finck)  male  NaN         NaN   \n",
       "freq                                            1   124  NaN         NaN   \n",
       "mean                                          NaN   NaN  NaN    0.564972   \n",
       "std                                           NaN   NaN  NaN    1.626316   \n",
       "min                                           NaN   NaN  NaN    0.000000   \n",
       "25%                                           NaN   NaN  NaN    0.000000   \n",
       "50%                                           NaN   NaN  NaN    0.000000   \n",
       "75%                                           NaN   NaN  NaN    0.000000   \n",
       "max                                           NaN   NaN  NaN    8.000000   \n",
       "\n",
       "             Parch    Ticket        Fare Cabin Embarked Prefix First_Name  \\\n",
       "count   177.000000       177  177.000000    19      177    177        177   \n",
       "unique         NaN       155         NaN    19        3      5        123   \n",
       "top            NaN  CA. 2343         NaN   C52        S     Mr     Thomas   \n",
       "freq           NaN         7         NaN     1       90    119          9   \n",
       "mean      0.180791       NaN   22.158567   NaN      NaN    NaN        NaN   \n",
       "std       0.534145       NaN   31.874608   NaN      NaN    NaN        NaN   \n",
       "min       0.000000       NaN    0.000000   NaN      NaN    NaN        NaN   \n",
       "25%       0.000000       NaN    7.750000   NaN      NaN    NaN        NaN   \n",
       "50%       0.000000       NaN    8.050000   NaN      NaN    NaN        NaN   \n",
       "75%       0.000000       NaN   24.150000   NaN      NaN    NaN        NaN   \n",
       "max       2.000000       NaN  227.525000   NaN      NaN    NaN        NaN   \n",
       "\n",
       "       Last_Name  Total  \n",
       "count        177  177.0  \n",
       "unique       150    NaN  \n",
       "top         Sage    NaN  \n",
       "freq           7    NaN  \n",
       "mean         NaN    0.0  \n",
       "std          NaN    0.0  \n",
       "min          NaN    0.0  \n",
       "25%          NaN    0.0  \n",
       "50%          NaN    0.0  \n",
       "75%          NaN    0.0  \n",
       "max          NaN    0.0  "
      ]
     },
     "execution_count": 13,
     "metadata": {},
     "output_type": "execute_result"
    }
   ],
   "source": [
    "print('Summary for passengers with missing ages below:')\n",
    "df_age_missing.describe(include='all')"
   ]
  },
  {
   "cell_type": "code",
   "execution_count": 14,
   "metadata": {
    "ExecuteTime": {
     "end_time": "2020-07-08T03:13:51.913025Z",
     "start_time": "2020-07-08T03:13:51.861098Z"
    },
    "cell_style": "split"
   },
   "outputs": [
    {
     "name": "stdout",
     "output_type": "stream",
     "text": [
      "Summary for passengers with ages include below:\n"
     ]
    },
    {
     "data": {
      "text/html": [
       "<div>\n",
       "<style scoped>\n",
       "    .dataframe tbody tr th:only-of-type {\n",
       "        vertical-align: middle;\n",
       "    }\n",
       "\n",
       "    .dataframe tbody tr th {\n",
       "        vertical-align: top;\n",
       "    }\n",
       "\n",
       "    .dataframe thead th {\n",
       "        text-align: right;\n",
       "    }\n",
       "</style>\n",
       "<table border=\"1\" class=\"dataframe\">\n",
       "  <thead>\n",
       "    <tr style=\"text-align: right;\">\n",
       "      <th></th>\n",
       "      <th>PassengerId</th>\n",
       "      <th>Survived</th>\n",
       "      <th>Pclass</th>\n",
       "      <th>Full_Name</th>\n",
       "      <th>Sex</th>\n",
       "      <th>Age</th>\n",
       "      <th>SibSp</th>\n",
       "      <th>Parch</th>\n",
       "      <th>Ticket</th>\n",
       "      <th>Fare</th>\n",
       "      <th>Cabin</th>\n",
       "      <th>Embarked</th>\n",
       "      <th>Prefix</th>\n",
       "      <th>First_Name</th>\n",
       "      <th>Last_Name</th>\n",
       "      <th>Total</th>\n",
       "    </tr>\n",
       "  </thead>\n",
       "  <tbody>\n",
       "    <tr>\n",
       "      <th>count</th>\n",
       "      <td>714.000000</td>\n",
       "      <td>714.000000</td>\n",
       "      <td>714.000000</td>\n",
       "      <td>714</td>\n",
       "      <td>714</td>\n",
       "      <td>714.000000</td>\n",
       "      <td>714.000000</td>\n",
       "      <td>714.000000</td>\n",
       "      <td>714</td>\n",
       "      <td>714.000000</td>\n",
       "      <td>185</td>\n",
       "      <td>712</td>\n",
       "      <td>714</td>\n",
       "      <td>714</td>\n",
       "      <td>714</td>\n",
       "      <td>714.0</td>\n",
       "    </tr>\n",
       "    <tr>\n",
       "      <th>unique</th>\n",
       "      <td>NaN</td>\n",
       "      <td>NaN</td>\n",
       "      <td>NaN</td>\n",
       "      <td>714</td>\n",
       "      <td>2</td>\n",
       "      <td>NaN</td>\n",
       "      <td>NaN</td>\n",
       "      <td>NaN</td>\n",
       "      <td>542</td>\n",
       "      <td>NaN</td>\n",
       "      <td>134</td>\n",
       "      <td>3</td>\n",
       "      <td>17</td>\n",
       "      <td>367</td>\n",
       "      <td>535</td>\n",
       "      <td>NaN</td>\n",
       "    </tr>\n",
       "    <tr>\n",
       "      <th>top</th>\n",
       "      <td>NaN</td>\n",
       "      <td>NaN</td>\n",
       "      <td>NaN</td>\n",
       "      <td>Connaghton, Mr. Michael</td>\n",
       "      <td>male</td>\n",
       "      <td>NaN</td>\n",
       "      <td>NaN</td>\n",
       "      <td>NaN</td>\n",
       "      <td>347082</td>\n",
       "      <td>NaN</td>\n",
       "      <td>C23 C25 C27</td>\n",
       "      <td>S</td>\n",
       "      <td>Mr</td>\n",
       "      <td>William</td>\n",
       "      <td>Andersson</td>\n",
       "      <td>NaN</td>\n",
       "    </tr>\n",
       "    <tr>\n",
       "      <th>freq</th>\n",
       "      <td>NaN</td>\n",
       "      <td>NaN</td>\n",
       "      <td>NaN</td>\n",
       "      <td>1</td>\n",
       "      <td>453</td>\n",
       "      <td>NaN</td>\n",
       "      <td>NaN</td>\n",
       "      <td>NaN</td>\n",
       "      <td>7</td>\n",
       "      <td>NaN</td>\n",
       "      <td>4</td>\n",
       "      <td>554</td>\n",
       "      <td>398</td>\n",
       "      <td>43</td>\n",
       "      <td>9</td>\n",
       "      <td>NaN</td>\n",
       "    </tr>\n",
       "    <tr>\n",
       "      <th>mean</th>\n",
       "      <td>448.582633</td>\n",
       "      <td>0.406162</td>\n",
       "      <td>2.236695</td>\n",
       "      <td>NaN</td>\n",
       "      <td>NaN</td>\n",
       "      <td>29.699118</td>\n",
       "      <td>0.512605</td>\n",
       "      <td>0.431373</td>\n",
       "      <td>NaN</td>\n",
       "      <td>34.694514</td>\n",
       "      <td>NaN</td>\n",
       "      <td>NaN</td>\n",
       "      <td>NaN</td>\n",
       "      <td>NaN</td>\n",
       "      <td>NaN</td>\n",
       "      <td>0.0</td>\n",
       "    </tr>\n",
       "    <tr>\n",
       "      <th>std</th>\n",
       "      <td>259.119524</td>\n",
       "      <td>0.491460</td>\n",
       "      <td>0.838250</td>\n",
       "      <td>NaN</td>\n",
       "      <td>NaN</td>\n",
       "      <td>14.526497</td>\n",
       "      <td>0.929783</td>\n",
       "      <td>0.853289</td>\n",
       "      <td>NaN</td>\n",
       "      <td>52.918930</td>\n",
       "      <td>NaN</td>\n",
       "      <td>NaN</td>\n",
       "      <td>NaN</td>\n",
       "      <td>NaN</td>\n",
       "      <td>NaN</td>\n",
       "      <td>0.0</td>\n",
       "    </tr>\n",
       "    <tr>\n",
       "      <th>min</th>\n",
       "      <td>1.000000</td>\n",
       "      <td>0.000000</td>\n",
       "      <td>1.000000</td>\n",
       "      <td>NaN</td>\n",
       "      <td>NaN</td>\n",
       "      <td>0.420000</td>\n",
       "      <td>0.000000</td>\n",
       "      <td>0.000000</td>\n",
       "      <td>NaN</td>\n",
       "      <td>0.000000</td>\n",
       "      <td>NaN</td>\n",
       "      <td>NaN</td>\n",
       "      <td>NaN</td>\n",
       "      <td>NaN</td>\n",
       "      <td>NaN</td>\n",
       "      <td>0.0</td>\n",
       "    </tr>\n",
       "    <tr>\n",
       "      <th>25%</th>\n",
       "      <td>222.250000</td>\n",
       "      <td>0.000000</td>\n",
       "      <td>1.000000</td>\n",
       "      <td>NaN</td>\n",
       "      <td>NaN</td>\n",
       "      <td>20.125000</td>\n",
       "      <td>0.000000</td>\n",
       "      <td>0.000000</td>\n",
       "      <td>NaN</td>\n",
       "      <td>8.050000</td>\n",
       "      <td>NaN</td>\n",
       "      <td>NaN</td>\n",
       "      <td>NaN</td>\n",
       "      <td>NaN</td>\n",
       "      <td>NaN</td>\n",
       "      <td>0.0</td>\n",
       "    </tr>\n",
       "    <tr>\n",
       "      <th>50%</th>\n",
       "      <td>445.000000</td>\n",
       "      <td>0.000000</td>\n",
       "      <td>2.000000</td>\n",
       "      <td>NaN</td>\n",
       "      <td>NaN</td>\n",
       "      <td>28.000000</td>\n",
       "      <td>0.000000</td>\n",
       "      <td>0.000000</td>\n",
       "      <td>NaN</td>\n",
       "      <td>15.741700</td>\n",
       "      <td>NaN</td>\n",
       "      <td>NaN</td>\n",
       "      <td>NaN</td>\n",
       "      <td>NaN</td>\n",
       "      <td>NaN</td>\n",
       "      <td>0.0</td>\n",
       "    </tr>\n",
       "    <tr>\n",
       "      <th>75%</th>\n",
       "      <td>677.750000</td>\n",
       "      <td>1.000000</td>\n",
       "      <td>3.000000</td>\n",
       "      <td>NaN</td>\n",
       "      <td>NaN</td>\n",
       "      <td>38.000000</td>\n",
       "      <td>1.000000</td>\n",
       "      <td>1.000000</td>\n",
       "      <td>NaN</td>\n",
       "      <td>33.375000</td>\n",
       "      <td>NaN</td>\n",
       "      <td>NaN</td>\n",
       "      <td>NaN</td>\n",
       "      <td>NaN</td>\n",
       "      <td>NaN</td>\n",
       "      <td>0.0</td>\n",
       "    </tr>\n",
       "    <tr>\n",
       "      <th>max</th>\n",
       "      <td>891.000000</td>\n",
       "      <td>1.000000</td>\n",
       "      <td>3.000000</td>\n",
       "      <td>NaN</td>\n",
       "      <td>NaN</td>\n",
       "      <td>80.000000</td>\n",
       "      <td>5.000000</td>\n",
       "      <td>6.000000</td>\n",
       "      <td>NaN</td>\n",
       "      <td>512.329200</td>\n",
       "      <td>NaN</td>\n",
       "      <td>NaN</td>\n",
       "      <td>NaN</td>\n",
       "      <td>NaN</td>\n",
       "      <td>NaN</td>\n",
       "      <td>0.0</td>\n",
       "    </tr>\n",
       "  </tbody>\n",
       "</table>\n",
       "</div>"
      ],
      "text/plain": [
       "        PassengerId    Survived      Pclass                Full_Name   Sex  \\\n",
       "count    714.000000  714.000000  714.000000                      714   714   \n",
       "unique          NaN         NaN         NaN                      714     2   \n",
       "top             NaN         NaN         NaN  Connaghton, Mr. Michael  male   \n",
       "freq            NaN         NaN         NaN                        1   453   \n",
       "mean     448.582633    0.406162    2.236695                      NaN   NaN   \n",
       "std      259.119524    0.491460    0.838250                      NaN   NaN   \n",
       "min        1.000000    0.000000    1.000000                      NaN   NaN   \n",
       "25%      222.250000    0.000000    1.000000                      NaN   NaN   \n",
       "50%      445.000000    0.000000    2.000000                      NaN   NaN   \n",
       "75%      677.750000    1.000000    3.000000                      NaN   NaN   \n",
       "max      891.000000    1.000000    3.000000                      NaN   NaN   \n",
       "\n",
       "               Age       SibSp       Parch  Ticket        Fare        Cabin  \\\n",
       "count   714.000000  714.000000  714.000000     714  714.000000          185   \n",
       "unique         NaN         NaN         NaN     542         NaN          134   \n",
       "top            NaN         NaN         NaN  347082         NaN  C23 C25 C27   \n",
       "freq           NaN         NaN         NaN       7         NaN            4   \n",
       "mean     29.699118    0.512605    0.431373     NaN   34.694514          NaN   \n",
       "std      14.526497    0.929783    0.853289     NaN   52.918930          NaN   \n",
       "min       0.420000    0.000000    0.000000     NaN    0.000000          NaN   \n",
       "25%      20.125000    0.000000    0.000000     NaN    8.050000          NaN   \n",
       "50%      28.000000    0.000000    0.000000     NaN   15.741700          NaN   \n",
       "75%      38.000000    1.000000    1.000000     NaN   33.375000          NaN   \n",
       "max      80.000000    5.000000    6.000000     NaN  512.329200          NaN   \n",
       "\n",
       "       Embarked Prefix First_Name  Last_Name  Total  \n",
       "count       712    714        714        714  714.0  \n",
       "unique        3     17        367        535    NaN  \n",
       "top           S     Mr    William  Andersson    NaN  \n",
       "freq        554    398         43          9    NaN  \n",
       "mean        NaN    NaN        NaN        NaN    0.0  \n",
       "std         NaN    NaN        NaN        NaN    0.0  \n",
       "min         NaN    NaN        NaN        NaN    0.0  \n",
       "25%         NaN    NaN        NaN        NaN    0.0  \n",
       "50%         NaN    NaN        NaN        NaN    0.0  \n",
       "75%         NaN    NaN        NaN        NaN    0.0  \n",
       "max         NaN    NaN        NaN        NaN    0.0  "
      ]
     },
     "execution_count": 14,
     "metadata": {},
     "output_type": "execute_result"
    }
   ],
   "source": [
    "print('Summary for passengers with ages include below:')\n",
    "df_age_incl.describe(include='all')\n",
    "\n",
    "\n"
   ]
  },
  {
   "cell_type": "code",
   "execution_count": 15,
   "metadata": {
    "ExecuteTime": {
     "end_time": "2020-07-08T03:13:53.013050Z",
     "start_time": "2020-07-08T03:13:53.005412Z"
    },
    "cell_style": "split"
   },
   "outputs": [
    {
     "name": "stdout",
     "output_type": "stream",
     "text": [
      "Distribution of Prefixes for Missing Ages:\n",
      "        Prefix  pct_total\n",
      "Mr         119   0.672316\n",
      "Miss        36   0.203390\n",
      "Mrs         17   0.096045\n",
      "Master       4   0.022599\n",
      "Dr           1   0.005650\n"
     ]
    }
   ],
   "source": [
    "print('Distribution of Prefixes for Missing Ages:')\n",
    "freq_dist(df_age_missing, 'Prefix')\n"
   ]
  },
  {
   "cell_type": "code",
   "execution_count": 16,
   "metadata": {
    "ExecuteTime": {
     "end_time": "2020-07-08T03:13:53.940542Z",
     "start_time": "2020-07-08T03:13:53.932533Z"
    },
    "cell_style": "split"
   },
   "outputs": [
    {
     "name": "stdout",
     "output_type": "stream",
     "text": [
      "Distribution of Prefixes for Included Ages:\n",
      "              Prefix  pct_total\n",
      "Mr               398   0.557423\n",
      "Miss             146   0.204482\n",
      "Mrs              108   0.151261\n",
      "Master            36   0.050420\n",
      "Dr                 6   0.008403\n",
      "Rev                6   0.008403\n",
      "Major              2   0.002801\n",
      "Col                2   0.002801\n",
      "Mlle               2   0.002801\n",
      "the Countess       1   0.001401\n",
      "Capt               1   0.001401\n",
      "Ms                 1   0.001401\n",
      "Don                1   0.001401\n",
      "Lady               1   0.001401\n",
      "Mme                1   0.001401\n"
     ]
    }
   ],
   "source": [
    "print('Distribution of Prefixes for Included Ages:')\n",
    "freq_dist(df_age_incl, 'Prefix')"
   ]
  },
  {
   "cell_type": "markdown",
   "metadata": {},
   "source": [
    "### Comparing Male vs. Female Survival Counts: DF with ages missing & DF with ages included"
   ]
  },
  {
   "cell_type": "code",
   "execution_count": 17,
   "metadata": {
    "ExecuteTime": {
     "end_time": "2020-07-08T03:13:55.647610Z",
     "start_time": "2020-07-08T03:13:55.468367Z"
    },
    "cell_style": "split"
   },
   "outputs": [
    {
     "name": "stdout",
     "output_type": "stream",
     "text": [
      "Left side: Ages Missing:\n",
      "\n",
      "Total          0             \n",
      "Sex       female     male    \n",
      "Survived       0   1    0   1\n",
      "Survived      17  36  108  16\n",
      "pct_total      9  20   61   9\n"
     ]
    },
    {
     "data": {
      "image/png": "[encoded data removed]",
      "text/plain": [
       "<Figure size 432x288 with 1 Axes>"
      ]
     },
     "metadata": {
      "needs_background": "light"
     },
     "output_type": "display_data"
    }
   ],
   "source": [
    "print('Left side: Ages Missing:\\n')\n",
    "review_detail(df_age_missing,\n",
    "              'Total', \"\", \n",
    "              'Sex', '', \n",
    "              False,'count','not', False)"
   ]
  },
  {
   "cell_type": "code",
   "execution_count": 18,
   "metadata": {
    "ExecuteTime": {
     "end_time": "2020-07-08T03:13:56.438348Z",
     "start_time": "2020-07-08T03:13:56.269472Z"
    },
    "cell_style": "split"
   },
   "outputs": [
    {
     "name": "stdout",
     "output_type": "stream",
     "text": [
      "Right side: Ages Included:\n",
      "\n",
      "Total          0              \n",
      "Sex       female      male    \n",
      "Survived       0    1    0   1\n",
      "Survived      64  197  360  93\n",
      "pct_total      8   27   50  13\n"
     ]
    },
    {
     "data": {
      "image/png": "[encoded data removed]",
      "text/plain": [
       "<Figure size 432x288 with 1 Axes>"
      ]
     },
     "metadata": {
      "needs_background": "light"
     },
     "output_type": "display_data"
    }
   ],
   "source": [
    "print('Right side: Ages Included:\\n')\n",
    "review_detail(df_age_incl,\n",
    "              'Total', \"\", \n",
    "              'Sex', '', \n",
    "              False,'count','not', False)"
   ]
  },
  {
   "cell_type": "markdown",
   "metadata": {},
   "source": [
    "### Comparing Survival Counts for each of the prefixes: \n",
    "    - DF with ages missing (left)\n",
    "    - DF with ages included (right)"
   ]
  },
  {
   "cell_type": "code",
   "execution_count": 22,
   "metadata": {
    "ExecuteTime": {
     "end_time": "2020-07-08T03:14:37.366808Z",
     "start_time": "2020-07-08T03:14:37.229396Z"
    },
    "cell_style": "split"
   },
   "outputs": [
    {
     "name": "stdout",
     "output_type": "stream",
     "text": [
      "Total        0    \n",
      "Prefix      Mr    \n",
      "Survived     0   1\n",
      "Survived   105  14\n",
      "pct_total   88  11\n"
     ]
    },
    {
     "data": {
      "image/png": "[encoded data removed]",
      "text/plain": [
       "<Figure size 432x288 with 1 Axes>"
      ]
     },
     "metadata": {
      "needs_background": "light"
     },
     "output_type": "display_data"
    }
   ],
   "source": [
    "review_detail(df_age_missing,\n",
    "              'Total', \"\", \n",
    "              'Prefix', 'Mr', \n",
    "              False,'count','all', False)"
   ]
  },
  {
   "cell_type": "code",
   "execution_count": 23,
   "metadata": {
    "ExecuteTime": {
     "end_time": "2020-07-08T03:14:47.253390Z",
     "start_time": "2020-07-08T03:14:47.100854Z"
    },
    "cell_style": "split"
   },
   "outputs": [
    {
     "name": "stdout",
     "output_type": "stream",
     "text": [
      "Total        0    \n",
      "Prefix      Mr    \n",
      "Survived     0   1\n",
      "Survived   331  67\n",
      "pct_total   83  16\n"
     ]
    },
    {
     "data": {
      "image/png": "[encoded data removed]",
      "text/plain": [
       "<Figure size 432x288 with 1 Axes>"
      ]
     },
     "metadata": {
      "needs_background": "light"
     },
     "output_type": "display_data"
    }
   ],
   "source": [
    "review_detail(df_age_incl,\n",
    "              'Total', \"\", \n",
    "              'Prefix', 'Mr', \n",
    "              False,'count','all', False)"
   ]
  },
  {
   "cell_type": "code",
   "execution_count": 24,
   "metadata": {
    "ExecuteTime": {
     "end_time": "2020-07-08T03:14:55.539577Z",
     "start_time": "2020-07-08T03:14:55.293684Z"
    },
    "cell_style": "split"
   },
   "outputs": [
    {
     "name": "stdout",
     "output_type": "stream",
     "text": [
      "Total        0    \n",
      "Prefix    Miss    \n",
      "Survived     0   1\n",
      "Survived    14  22\n",
      "pct_total   38  61\n"
     ]
    },
    {
     "data": {
      "image/png": "[encoded data removed]",
      "text/plain": [
       "<Figure size 432x288 with 1 Axes>"
      ]
     },
     "metadata": {
      "needs_background": "light"
     },
     "output_type": "display_data"
    }
   ],
   "source": [
    "review_detail(df_age_missing,\n",
    "              'Total', \"\", \n",
    "              'Prefix', 'Miss', \n",
    "              False,'count','all', False)"
   ]
  },
  {
   "cell_type": "code",
   "execution_count": 25,
   "metadata": {
    "ExecuteTime": {
     "end_time": "2020-07-08T03:15:02.336827Z",
     "start_time": "2020-07-08T03:15:02.181131Z"
    },
    "cell_style": "split"
   },
   "outputs": [
    {
     "name": "stdout",
     "output_type": "stream",
     "text": [
      "Total        0     \n",
      "Prefix    Miss     \n",
      "Survived     0    1\n",
      "Survived    41  105\n",
      "pct_total   28   71\n"
     ]
    },
    {
     "data": {
      "image/png": "[encoded data removed]",
      "text/plain": [
       "<Figure size 432x288 with 1 Axes>"
      ]
     },
     "metadata": {
      "needs_background": "light"
     },
     "output_type": "display_data"
    }
   ],
   "source": [
    "review_detail(df_age_incl,\n",
    "              'Total', \"\", \n",
    "              'Prefix', 'Miss', \n",
    "              False,'count','all', False)"
   ]
  },
  {
   "cell_type": "code",
   "execution_count": 26,
   "metadata": {
    "ExecuteTime": {
     "end_time": "2020-07-08T03:15:09.716517Z",
     "start_time": "2020-07-08T03:15:09.540529Z"
    },
    "cell_style": "split"
   },
   "outputs": [
    {
     "name": "stdout",
     "output_type": "stream",
     "text": [
      "Total       0    \n",
      "Prefix    Mrs    \n",
      "Survived    0   1\n",
      "Survived    3  14\n",
      "pct_total  17  82\n"
     ]
    },
    {
     "data": {
      "image/png": "[encoded data removed]",
      "text/plain": [
       "<Figure size 432x288 with 1 Axes>"
      ]
     },
     "metadata": {
      "needs_background": "light"
     },
     "output_type": "display_data"
    }
   ],
   "source": [
    "review_detail(df_age_missing,\n",
    "              'Total', \"\", \n",
    "              'Prefix', 'Mrs', \n",
    "              False,'count','all', False)"
   ]
  },
  {
   "cell_type": "code",
   "execution_count": 27,
   "metadata": {
    "ExecuteTime": {
     "end_time": "2020-07-08T03:15:17.746428Z",
     "start_time": "2020-07-08T03:15:17.573046Z"
    },
    "cell_style": "split"
   },
   "outputs": [
    {
     "name": "stdout",
     "output_type": "stream",
     "text": [
      "Total       0    \n",
      "Prefix    Mrs    \n",
      "Survived    0   1\n",
      "Survived   23  85\n",
      "pct_total  21  78\n"
     ]
    },
    {
     "data": {
      "image/png": "[encoded data removed]",
      "text/plain": [
       "<Figure size 432x288 with 1 Axes>"
      ]
     },
     "metadata": {
      "needs_background": "light"
     },
     "output_type": "display_data"
    }
   ],
   "source": [
    "review_detail(df_age_incl,\n",
    "              'Total', \"\", \n",
    "              'Prefix', 'Mrs', \n",
    "              False,'count','all', False)"
   ]
  },
  {
   "cell_type": "markdown",
   "metadata": {
    "cell_style": "center"
   },
   "source": [
    "### Based on the above output, there is a consistency between two data sets comparing survival rates of 'Prefixes'  "
   ]
  },
  {
   "cell_type": "markdown",
   "metadata": {},
   "source": [
    "## Reviewig 'SibSp' columns relevance"
   ]
  },
  {
   "cell_type": "code",
   "execution_count": 28,
   "metadata": {
    "ExecuteTime": {
     "end_time": "2020-07-08T03:15:41.141100Z",
     "start_time": "2020-07-08T03:15:41.133402Z"
    },
    "cell_style": "split"
   },
   "outputs": [
    {
     "name": "stdout",
     "output_type": "stream",
     "text": [
      "   SibSp  pct_total\n",
      "0    137   0.774011\n",
      "1     26   0.146893\n",
      "8      7   0.039548\n",
      "3      4   0.022599\n",
      "2      3   0.016949\n"
     ]
    }
   ],
   "source": [
    "freq_dist(df_age_missing, 'SibSp')"
   ]
  },
  {
   "cell_type": "code",
   "execution_count": 29,
   "metadata": {
    "ExecuteTime": {
     "end_time": "2020-07-08T03:15:41.707674Z",
     "start_time": "2020-07-08T03:15:41.700693Z"
    },
    "cell_style": "split"
   },
   "outputs": [
    {
     "name": "stdout",
     "output_type": "stream",
     "text": [
      "   SibSp  pct_total\n",
      "0    471   0.659664\n",
      "1    183   0.256303\n",
      "2     25   0.035014\n",
      "4     18   0.025210\n",
      "3     12   0.016807\n",
      "5      5   0.007003\n"
     ]
    }
   ],
   "source": [
    "freq_dist(df_age_incl, 'SibSp')"
   ]
  },
  {
   "cell_type": "code",
   "execution_count": 32,
   "metadata": {
    "ExecuteTime": {
     "end_time": "2020-07-08T03:15:55.698673Z",
     "start_time": "2020-07-08T03:15:55.205475Z"
    },
    "cell_style": "center"
   },
   "outputs": [
    {
     "name": "stdout",
     "output_type": "stream",
     "text": [
      "SibSp        0       1      2     3  8\n",
      "Total        0       0      0     0  0\n",
      "Survived     0   1   0   1  0  1  0  0\n",
      "Survived   102  35  11  15  1  2  4  7\n",
      "pct_total   57  19   6   8  0  1  2  3\n"
     ]
    },
    {
     "data": {
      "image/png": "[encoded data removed]",
      "text/plain": [
       "<Figure size 432x288 with 2 Axes>"
      ]
     },
     "metadata": {
      "needs_background": "light"
     },
     "output_type": "display_data"
    }
   ],
   "source": [
    "review_detail(df_age_missing,\n",
    "              'SibSp', \"\", \n",
    "              'Total', '', \n",
    "              True,'count','not all', False)"
   ]
  },
  {
   "cell_type": "markdown",
   "metadata": {},
   "source": [
    "### (Above) Dropping age is still a viable option, as there is no real diff between"
   ]
  },
  {
   "cell_type": "markdown",
   "metadata": {},
   "source": [
    "## Look at the distribution of ages for population of: survivors and the deceased"
   ]
  },
  {
   "cell_type": "code",
   "execution_count": 33,
   "metadata": {
    "ExecuteTime": {
     "end_time": "2020-07-08T03:16:00.215305Z",
     "start_time": "2020-07-08T03:16:00.046600Z"
    }
   },
   "outputs": [
    {
     "name": "stdout",
     "output_type": "stream",
     "text": [
      "Sex       female      male    \n",
      "Total          0         0    \n",
      "Survived       0    1    0   1\n",
      "Survived      64  197  360  93\n",
      "pct_total      8   27   50  13\n"
     ]
    },
    {
     "data": {
      "image/png": "[encoded data removed]",
      "text/plain": [
       "<Figure size 432x288 with 1 Axes>"
      ]
     },
     "metadata": {
      "needs_background": "light"
     },
     "output_type": "display_data"
    }
   ],
   "source": [
    "review_detail(df_age_incl,\n",
    "              'Sex', \"\", \n",
    "              'Total', '', \n",
    "              False,'count','not', False)"
   ]
  },
  {
   "cell_type": "markdown",
   "metadata": {},
   "source": [
    "### (Above) There is a clear inverse relationship between survivors sex...."
   ]
  },
  {
   "cell_type": "code",
   "execution_count": 34,
   "metadata": {
    "ExecuteTime": {
     "end_time": "2020-07-08T03:16:03.801506Z",
     "start_time": "2020-07-08T03:16:03.795524Z"
    },
    "cell_style": "split"
   },
   "outputs": [],
   "source": [
    "df_dec = df_age_incl.loc[df_age_incl['Survived'] == 1]"
   ]
  },
  {
   "cell_type": "code",
   "execution_count": 35,
   "metadata": {
    "ExecuteTime": {
     "end_time": "2020-07-08T03:16:04.497909Z",
     "start_time": "2020-07-08T03:16:04.491925Z"
    },
    "cell_style": "split"
   },
   "outputs": [],
   "source": [
    "df_surv = df_age_incl.loc[df_age_incl['Survived'] == 0]"
   ]
  },
  {
   "cell_type": "code",
   "execution_count": 36,
   "metadata": {
    "ExecuteTime": {
     "end_time": "2020-07-08T03:16:05.248519Z",
     "start_time": "2020-07-08T03:16:05.244558Z"
    }
   },
   "outputs": [],
   "source": [
    "df4 = df_age_incl"
   ]
  },
  {
   "cell_type": "markdown",
   "metadata": {},
   "source": [
    "## Review Pclass Relevance"
   ]
  },
  {
   "cell_type": "code",
   "execution_count": 38,
   "metadata": {
    "ExecuteTime": {
     "end_time": "2020-07-08T03:16:25.654690Z",
     "start_time": "2020-07-08T03:16:25.507646Z"
    },
    "cell_style": "center"
   },
   "outputs": [
    {
     "name": "stdout",
     "output_type": "stream",
     "text": [
      "Pclass      1        2        3    \n",
      "Total       0        0        0    \n",
      "Survived    0    1   0   1    0   1\n",
      "Survived   64  122  90  83  270  85\n",
      "pct_total   8   17  12  11   37  11\n"
     ]
    },
    {
     "data": {
      "image/png": "[encoded data removed]",
      "text/plain": [
       "<Figure size 432x288 with 1 Axes>"
      ]
     },
     "metadata": {
      "needs_background": "light"
     },
     "output_type": "display_data"
    }
   ],
   "source": [
    "review_detail(df4,\n",
    "              'Pclass', \"\", \n",
    "              'Total', '', \n",
    "              False,'count','not', False)"
   ]
  },
  {
   "cell_type": "code",
   "execution_count": 45,
   "metadata": {
    "ExecuteTime": {
     "end_time": "2020-07-08T03:17:27.574329Z",
     "start_time": "2020-07-08T03:17:27.420490Z"
    },
    "cell_style": "split"
   },
   "outputs": [
    {
     "name": "stdout",
     "output_type": "stream",
     "text": [
      "Pclass       1        2        3    \n",
      "Sex       male     male     male    \n",
      "Survived     0   1    0   1    0   1\n",
      "Survived    61  40   84  15  215  38\n",
      "pct_total   13   8   18   3   47   8\n"
     ]
    },
    {
     "data": {
      "image/png": "[encoded data removed]",
      "text/plain": [
       "<Figure size 432x288 with 1 Axes>"
      ]
     },
     "metadata": {
      "needs_background": "light"
     },
     "output_type": "display_data"
    }
   ],
   "source": [
    "review_detail(df4,\n",
    "              'Pclass', \"\", \n",
    "              'Sex', 'male', \n",
    "              False,'count','all', False)"
   ]
  },
  {
   "cell_type": "code",
   "execution_count": 46,
   "metadata": {
    "ExecuteTime": {
     "end_time": "2020-07-08T03:17:31.583684Z",
     "start_time": "2020-07-08T03:17:31.357679Z"
    },
    "cell_style": "split"
   },
   "outputs": [
    {
     "name": "stdout",
     "output_type": "stream",
     "text": [
      "Pclass         1          2          3    \n",
      "Sex       female     female     female    \n",
      "Survived       0   1      0   1      0   1\n",
      "Survived       3  82      6  68     55  47\n",
      "pct_total      1  31      2  26     21  18\n"
     ]
    },
    {
     "data": {
      "image/png": "[encoded data removed]",
      "text/plain": [
       "<Figure size 432x288 with 1 Axes>"
      ]
     },
     "metadata": {
      "needs_background": "light"
     },
     "output_type": "display_data"
    }
   ],
   "source": [
    "review_detail(df4,\n",
    "              'Pclass', \"\", \n",
    "              'Sex', 'female', \n",
    "              False,'count','all', False)"
   ]
  },
  {
   "cell_type": "markdown",
   "metadata": {
    "cell_style": "center"
   },
   "source": [
    "### (Above) There is even more significance between male and female when considering the PClass"
   ]
  },
  {
   "cell_type": "code",
   "execution_count": null,
   "metadata": {},
   "outputs": [],
   "source": []
  },
  {
   "cell_type": "code",
   "execution_count": null,
   "metadata": {
    "ExecuteTime": {
     "end_time": "2020-07-08T02:54:43.654653Z",
     "start_time": "2020-07-08T02:54:43.292320Z"
    },
    "cell_style": "center"
   },
   "outputs": [],
   "source": [
    "plt.rcParams['figure.figsize'] =(45,20)\n",
    "sns.violinplot(x=\"Prefix\", y=\"Age\", \n",
    "               data=df_age_incl, palette=\"Set2\", \n",
    "               scale=\"count\", inner=\"quartile\")"
   ]
  },
  {
   "cell_type": "code",
   "execution_count": null,
   "metadata": {},
   "outputs": [],
   "source": []
  },
  {
   "cell_type": "code",
   "execution_count": null,
   "metadata": {
    "ExecuteTime": {
     "end_time": "2020-07-08T02:54:43.836139Z",
     "start_time": "2020-07-08T02:54:43.655650Z"
    },
    "cell_style": "split"
   },
   "outputs": [],
   "source": [
    "sns.violinplot(x=\"\", y=\"Sex\", \n",
    "               data=df_age_missing, palette=\"Set2\", \n",
    "               scale=\"count\", inner=\"quartile\")"
   ]
  },
  {
   "cell_type": "code",
   "execution_count": null,
   "metadata": {
    "ExecuteTime": {
     "end_time": "2020-07-08T02:54:43.845782Z",
     "start_time": "2020-07-08T02:54:39.086Z"
    },
    "cell_style": "split"
   },
   "outputs": [],
   "source": [
    "freq_dist(df_age_missing, 'Cabin')"
   ]
  },
  {
   "cell_type": "code",
   "execution_count": null,
   "metadata": {
    "cell_style": "split"
   },
   "outputs": [],
   "source": []
  },
  {
   "cell_type": "code",
   "execution_count": null,
   "metadata": {
    "cell_style": "split"
   },
   "outputs": [],
   "source": []
  },
  {
   "cell_type": "code",
   "execution_count": null,
   "metadata": {
    "cell_style": "split"
   },
   "outputs": [],
   "source": []
  },
  {
   "cell_type": "code",
   "execution_count": null,
   "metadata": {
    "cell_style": "split"
   },
   "outputs": [],
   "source": []
  },
  {
   "cell_type": "code",
   "execution_count": null,
   "metadata": {
    "cell_style": "split"
   },
   "outputs": [],
   "source": []
  },
  {
   "cell_type": "code",
   "execution_count": null,
   "metadata": {},
   "outputs": [],
   "source": []
  }
 ],
 "metadata": {
  "hide_input": false,
  "kernelspec": {
   "display_name": "Python 3",
   "language": "python",
   "name": "python3"
  },
  "language_info": {
   "codemirror_mode": {
    "name": "ipython",
    "version": 3
   },
   "file_extension": ".py",
   "mimetype": "text/x-python",
   "name": "python",
   "nbconvert_exporter": "python",
   "pygments_lexer": "ipython3",
   "version": "3.7.3"
  },
  "toc": {
   "base_numbering": 1,
   "nav_menu": {},
   "number_sections": true,
   "sideBar": true,
   "skip_h1_title": false,
   "title_cell": "Table of Contents",
   "title_sidebar": "Contents",
   "toc_cell": false,
   "toc_position": {},
   "toc_section_display": true,
   "toc_window_display": false
  },
  "varInspector": {
   "cols": {
    "lenName": 16,
    "lenType": 16,
    "lenVar": 40
   },
   "kernels_config": {
    "python": {
     "delete_cmd_postfix": "",
     "delete_cmd_prefix": "del ",
     "library": "var_list.py",
     "varRefreshCmd": "print(var_dic_list())"
    },
    "r": {
     "delete_cmd_postfix": ") ",
     "delete_cmd_prefix": "rm(",
     "library": "var_list.r",
     "varRefreshCmd": "cat(var_dic_list()) "
    }
   },
   "types_to_exclude": [
    "module",
    "function",
    "builtin_function_or_method",
    "instance",
    "_Feature"
   ],
   "window_display": false
  }
 },
 "nbformat": 4,
 "nbformat_minor": 2
}
