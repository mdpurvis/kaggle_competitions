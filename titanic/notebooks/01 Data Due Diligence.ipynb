{
 "cells": [
  {
   "cell_type": "code",
   "execution_count": 55,
   "metadata": {
    "ExecuteTime": {
     "end_time": "2020-07-27T23:50:42.322580Z",
     "start_time": "2020-07-27T23:50:42.315599Z"
    }
   },
   "outputs": [],
   "source": [
    "import pandas as pd\n",
    "\n",
    "import seaborn as sns\n",
    "plt.rcParams['figure.figsize'] =(45,15)\n",
    "import matplotlib.pyplot as plt\n",
    "\n",
    "import sys\n",
    "sys.path.insert(1, '../src/')\n",
    "from titanic import *\n",
    "from titanic_mp import *"
   ]
  },
  {
   "cell_type": "markdown",
   "metadata": {},
   "source": [
    "# Load in Training and Test DataSets\n",
    "# Check for Missing Values in Columns Provided"
   ]
  },
  {
   "cell_type": "code",
   "execution_count": 2,
   "metadata": {
    "ExecuteTime": {
     "end_time": "2020-07-27T23:37:47.491570Z",
     "start_time": "2020-07-27T23:37:47.409789Z"
    }
   },
   "outputs": [
    {
     "name": "stdout",
     "output_type": "stream",
     "text": [
      "In Training Set:\n",
      "\n",
      "Number of rows: 891\n",
      "Number of columns: 13 \n",
      "\n",
      "Column PassengerId has 0 missing values out of 891.  0%\n",
      "Column Survived has 0 missing values out of 891.  0%\n",
      "Column Pclass has 0 missing values out of 891.  0%\n",
      "Column Name has 0 missing values out of 891.  0%\n",
      "Column Sex has 0 missing values out of 891.  0%\n",
      "Column Age has 177 missing values out of 891.  19%\n",
      "Column SibSp has 0 missing values out of 891.  0%\n",
      "Column Parch has 0 missing values out of 891.  0%\n",
      "Column Ticket has 0 missing values out of 891.  0%\n",
      "Column Fare has 0 missing values out of 891.  0%\n",
      "Column Cabin has 687 missing values out of 891.  77%\n",
      "Column Embarked has 2 missing values out of 891.  0%\n",
      "Column Total has 0 missing values out of 891.  0%\n"
     ]
    }
   ],
   "source": [
    "# importing data sets from kernel \n",
    "\n",
    "df = pd.read_csv('../data/raw/train.csv')\n",
    "df['Total'] = 0\n",
    "\n",
    "rows = len(df)\n",
    "columns = len(df.columns)\n",
    "values = rows*columns\n",
    "non_na = df.count().sum()\n",
    "na = values-non_na\n",
    "print('In Training Set:\\n')\n",
    "print('Number of rows:', rows)\n",
    "print('Number of columns:', columns, '\\n')\n",
    "\n",
    "\n",
    "identify_blanks(df)\n",
    "\n",
    "\n",
    "\n",
    "\n",
    "# test = pd.read_csv('../data/raw/test.csv')\n",
    "\n",
    "# rows_test = len(test)\n",
    "# columns_test = len(test.columns)\n",
    "# values = rows_test*columns_test\n",
    "# non_na_test = test.count().sum()\n",
    "# na_test = values_test-non_na_test\n",
    "\n",
    "# print('Number of rows:', rows_test, '\\n')\n",
    "# print('Number of columns:', columns_test, '\\n')\n",
    "\n",
    "\n",
    "# print('     In Test Set:')\n",
    "# identify_blanks(test)"
   ]
  },
  {
   "cell_type": "code",
   "execution_count": 3,
   "metadata": {
    "ExecuteTime": {
     "end_time": "2020-07-27T23:37:49.592950Z",
     "start_time": "2020-07-27T23:37:49.564027Z"
    }
   },
   "outputs": [
    {
     "name": "stdout",
     "output_type": "stream",
     "text": [
      "Below is a list of columns that have missing values:\n"
     ]
    },
    {
     "data": {
      "text/plain": [
       "['Age', 'Cabin', 'Embarked']"
      ]
     },
     "execution_count": 3,
     "metadata": {},
     "output_type": "execute_result"
    }
   ],
   "source": [
    "print('Below is a list of columns that have missing values:')\n",
    "#Highlight what columns have missing values\n",
    "[col for col in df.columns if df[col].isnull().any()]"
   ]
  },
  {
   "cell_type": "markdown",
   "metadata": {},
   "source": [
    "# Begin to Clean Data to Assess how to handle Missing Columns above"
   ]
  },
  {
   "cell_type": "markdown",
   "metadata": {},
   "source": [
    "## Delimit out the 'Name' column to become more relevant\n",
    "### Before (below)"
   ]
  },
  {
   "cell_type": "code",
   "execution_count": 4,
   "metadata": {
    "ExecuteTime": {
     "end_time": "2020-07-27T23:38:10.557010Z",
     "start_time": "2020-07-27T23:38:10.543047Z"
    }
   },
   "outputs": [
    {
     "data": {
      "text/plain": [
       "'Braund, Mr. Owen Harris'"
      ]
     },
     "execution_count": 4,
     "metadata": {},
     "output_type": "execute_result"
    }
   ],
   "source": [
    "df['Name'][0]"
   ]
  },
  {
   "cell_type": "markdown",
   "metadata": {},
   "source": [
    "### After (below)\n",
    "\n",
    "Prefix = Mr\n",
    "\n",
    "First_Name = Owen\n",
    "\n",
    "Last_Name = Braund"
   ]
  },
  {
   "cell_type": "code",
   "execution_count": 5,
   "metadata": {
    "ExecuteTime": {
     "end_time": "2020-07-27T23:38:13.601943Z",
     "start_time": "2020-07-27T23:38:13.580489Z"
    }
   },
   "outputs": [],
   "source": [
    "df_name1 = df.Name.str.split(',', expand=True).add_prefix('Name_')\n",
    "df1 = df.join(df_name1)\n",
    "df1.rename(columns={'Name_0':'Last_Name', 'Name':'Full_Name', 'Name_1':'Name'}, inplace=True)"
   ]
  },
  {
   "cell_type": "code",
   "execution_count": 6,
   "metadata": {
    "ExecuteTime": {
     "end_time": "2020-07-27T23:38:14.522015Z",
     "start_time": "2020-07-27T23:38:14.495087Z"
    }
   },
   "outputs": [],
   "source": [
    "df_name2 = df1.Name.str.split('.', expand=True).add_prefix('Name_')\n",
    "df2 = df1.join(df_name2)\n",
    "df2.rename(columns={'Name_0':'Prefix', 'Name_1':'Name_Fix'}, inplace=True)\n",
    "df2.drop(columns=['Name_2'], inplace=True)"
   ]
  },
  {
   "cell_type": "code",
   "execution_count": 7,
   "metadata": {
    "ExecuteTime": {
     "end_time": "2020-07-27T23:38:15.525353Z",
     "start_time": "2020-07-27T23:38:15.495430Z"
    }
   },
   "outputs": [],
   "source": [
    "df_name3 = df2.Name_Fix.str.split(' ', expand=True).add_prefix('Name_')\n",
    "df3 = df2.join(df_name3)\n",
    "df3.rename(columns={'Name_1':'First_Name'}, inplace=True)\n",
    "df3.drop(columns=['Name_0',\n",
    "                 'Name_2',\n",
    "                 'Name_3',\n",
    "                 'Name_4',\n",
    "                 'Name_5',\n",
    "                 'Name_6',\n",
    "                 'Name_7',\n",
    "                 'Name_8',\n",
    "                 'Name_9',\n",
    "                 'Name_10',\n",
    "                 'Name_Fix',\n",
    "                 'Name'], inplace=True)"
   ]
  },
  {
   "cell_type": "code",
   "execution_count": 8,
   "metadata": {
    "ExecuteTime": {
     "end_time": "2020-07-27T23:38:16.375611Z",
     "start_time": "2020-07-27T23:38:16.363642Z"
    }
   },
   "outputs": [],
   "source": [
    "df3 = df3[['PassengerId', 'Survived', 'Pclass', 'Full_Name', \n",
    "           'Sex', 'Age', 'SibSp','Parch', 'Ticket', 'Fare', 'Cabin', \n",
    "           'Embarked', 'Prefix', 'First_Name', 'Last_Name', 'Total']]\n",
    "\n",
    "df3['Prefix'] = df3['Prefix'].str.strip()"
   ]
  },
  {
   "cell_type": "markdown",
   "metadata": {},
   "source": [
    "## Below will confirm the named prefixes to have a direct correlation to the Sex of the individual:"
   ]
  },
  {
   "cell_type": "code",
   "execution_count": 9,
   "metadata": {
    "ExecuteTime": {
     "end_time": "2020-07-27T23:38:18.247802Z",
     "start_time": "2020-07-27T23:38:17.870233Z"
    },
    "cell_style": "split"
   },
   "outputs": [
    {
     "name": "stdout",
     "output_type": "stream",
     "text": [
      "              Prefix  pct_total\n",
      "Mr               517   0.580247\n",
      "Miss             182   0.204265\n",
      "Mrs              125   0.140292\n",
      "Master            40   0.044893\n",
      "Dr                 7   0.007856\n",
      "Rev                6   0.006734\n",
      "Mlle               2   0.002245\n",
      "Col                2   0.002245\n",
      "Major              2   0.002245\n",
      "Sir                1   0.001122\n",
      "Mme                1   0.001122\n",
      "Jonkheer           1   0.001122\n",
      "Lady               1   0.001122\n",
      "the Countess       1   0.001122\n",
      "Don                1   0.001122\n"
     ]
    }
   ],
   "source": [
    "freq_dist(df3, 'Prefix')"
   ]
  },
  {
   "cell_type": "code",
   "execution_count": 10,
   "metadata": {
    "ExecuteTime": {
     "end_time": "2020-07-27T23:38:19.451582Z",
     "start_time": "2020-07-27T23:38:19.341876Z"
    },
    "cell_style": "split",
    "scrolled": true
   },
   "outputs": [
    {
     "name": "stdout",
     "output_type": "stream",
     "text": [
      "Mr:  male    517\n",
      "Name: Sex, dtype: int64 \n",
      "\n",
      "Miss:  female    182\n",
      "Name: Sex, dtype: int64 \n",
      "\n",
      "Mrs:  female    125\n",
      "Name: Sex, dtype: int64 \n",
      "\n",
      "Master:  male    40\n",
      "Name: Sex, dtype: int64 \n",
      "\n",
      "Dr:  male      6\n",
      "female    1\n",
      "Name: Sex, dtype: int64 \n",
      "\n",
      "Rev:  male    6\n",
      "Name: Sex, dtype: int64 \n",
      "\n",
      "Mlle:  female    2\n",
      "Name: Sex, dtype: int64 \n",
      "\n",
      "Col:  male    2\n",
      "Name: Sex, dtype: int64 \n",
      "\n",
      "Major:  male    2\n",
      "Name: Sex, dtype: int64 \n",
      "\n",
      "Mme:  female    1\n",
      "Name: Sex, dtype: int64 \n",
      "\n",
      "Lady:  female    1\n",
      "Name: Sex, dtype: int64 \n",
      "\n",
      "Don:  male    1\n",
      "Name: Sex, dtype: int64 \n",
      "\n",
      "Ms:  female    1\n",
      "Name: Sex, dtype: int64 \n",
      "\n",
      "the Countess:  female    1\n",
      "Name: Sex, dtype: int64 \n",
      "\n",
      "Capt:  male    1\n",
      "Name: Sex, dtype: int64 \n",
      "\n"
     ]
    }
   ],
   "source": [
    "print('Mr: ',df3.loc[df3['Prefix']=='Mr'].Sex.value_counts(dropna=False), '\\n')\n",
    "print('Miss: ',df3.loc[df3['Prefix']=='Miss'].Sex.value_counts(dropna=False), '\\n')\n",
    "print('Mrs: ',df3.loc[df3['Prefix']=='Mrs'].Sex.value_counts(dropna=False), '\\n')\n",
    "print('Master: ',df3.loc[df3['Prefix']=='Master'].Sex.value_counts(dropna=False), '\\n')\n",
    "print('Dr: ',df3.loc[df3['Prefix']=='Dr'].Sex.value_counts(dropna=False), '\\n')\n",
    "print('Rev: ',df3.loc[df3['Prefix']=='Rev'].Sex.value_counts(dropna=False), '\\n')\n",
    "print('Mlle: ',df3.loc[df3['Prefix']=='Mlle'].Sex.value_counts(dropna=False), '\\n')\n",
    "print('Col: ',df3.loc[df3['Prefix']=='Col'].Sex.value_counts(dropna=False), '\\n')\n",
    "print('Major: ',df3.loc[df3['Prefix']=='Major'].Sex.value_counts(dropna=False), '\\n')\n",
    "print('Mme: ',df3.loc[df3['Prefix']=='Mme'].Sex.value_counts(dropna=False), '\\n')\n",
    "print('Lady: ',df3.loc[df3['Prefix']=='Lady'].Sex.value_counts(dropna=False), '\\n')\n",
    "print('Don: ',df3.loc[df3['Prefix']=='Don'].Sex.value_counts(dropna=False), '\\n')\n",
    "print('Ms: ',df3.loc[df3['Prefix']=='Ms'].Sex.value_counts(dropna=False), '\\n')\n",
    "print('the Countess: ',df3.loc[df3['Prefix']=='the Countess'].Sex.value_counts(dropna=False), '\\n')\n",
    "print('Capt: ',df3.loc[df3['Prefix']=='Capt'].Sex.value_counts(dropna=False), '\\n')"
   ]
  },
  {
   "cell_type": "markdown",
   "metadata": {},
   "source": [
    "## Split the samples with ages missing and included and conduct a comparison of survival rates based on named prefixes"
   ]
  },
  {
   "cell_type": "code",
   "execution_count": 11,
   "metadata": {
    "ExecuteTime": {
     "end_time": "2020-07-27T23:38:21.228829Z",
     "start_time": "2020-07-27T23:38:21.220850Z"
    },
    "cell_style": "split"
   },
   "outputs": [],
   "source": [
    "df_age_missing = df3.loc[df['Age'].isnull()]"
   ]
  },
  {
   "cell_type": "code",
   "execution_count": 12,
   "metadata": {
    "ExecuteTime": {
     "end_time": "2020-07-27T23:38:22.203908Z",
     "start_time": "2020-07-27T23:38:22.195243Z"
    },
    "cell_style": "split"
   },
   "outputs": [],
   "source": [
    "df_age_incl = df3.loc[df['Age'].notnull()]"
   ]
  },
  {
   "cell_type": "code",
   "execution_count": 13,
   "metadata": {
    "ExecuteTime": {
     "end_time": "2020-07-27T23:38:23.423477Z",
     "start_time": "2020-07-27T23:38:23.269884Z"
    },
    "cell_style": "split"
   },
   "outputs": [
    {
     "name": "stdout",
     "output_type": "stream",
     "text": [
      "Summary for passengers with missing ages below:\n"
     ]
    },
    {
     "data": {
      "text/html": [
       "<div>\n",
       "<style scoped>\n",
       "    .dataframe tbody tr th:only-of-type {\n",
       "        vertical-align: middle;\n",
       "    }\n",
       "\n",
       "    .dataframe tbody tr th {\n",
       "        vertical-align: top;\n",
       "    }\n",
       "\n",
       "    .dataframe thead th {\n",
       "        text-align: right;\n",
       "    }\n",
       "</style>\n",
       "<table border=\"1\" class=\"dataframe\">\n",
       "  <thead>\n",
       "    <tr style=\"text-align: right;\">\n",
       "      <th></th>\n",
       "      <th>PassengerId</th>\n",
       "      <th>Survived</th>\n",
       "      <th>Pclass</th>\n",
       "      <th>Full_Name</th>\n",
       "      <th>Sex</th>\n",
       "      <th>Age</th>\n",
       "      <th>SibSp</th>\n",
       "      <th>Parch</th>\n",
       "      <th>Ticket</th>\n",
       "      <th>Fare</th>\n",
       "      <th>Cabin</th>\n",
       "      <th>Embarked</th>\n",
       "      <th>Prefix</th>\n",
       "      <th>First_Name</th>\n",
       "      <th>Last_Name</th>\n",
       "      <th>Total</th>\n",
       "    </tr>\n",
       "  </thead>\n",
       "  <tbody>\n",
       "    <tr>\n",
       "      <th>count</th>\n",
       "      <td>177.000000</td>\n",
       "      <td>177.000000</td>\n",
       "      <td>177.000000</td>\n",
       "      <td>177</td>\n",
       "      <td>177</td>\n",
       "      <td>0.0</td>\n",
       "      <td>177.000000</td>\n",
       "      <td>177.000000</td>\n",
       "      <td>177</td>\n",
       "      <td>177.000000</td>\n",
       "      <td>19</td>\n",
       "      <td>177</td>\n",
       "      <td>177</td>\n",
       "      <td>177</td>\n",
       "      <td>177</td>\n",
       "      <td>177.0</td>\n",
       "    </tr>\n",
       "    <tr>\n",
       "      <th>unique</th>\n",
       "      <td>NaN</td>\n",
       "      <td>NaN</td>\n",
       "      <td>NaN</td>\n",
       "      <td>177</td>\n",
       "      <td>2</td>\n",
       "      <td>NaN</td>\n",
       "      <td>NaN</td>\n",
       "      <td>NaN</td>\n",
       "      <td>155</td>\n",
       "      <td>NaN</td>\n",
       "      <td>19</td>\n",
       "      <td>3</td>\n",
       "      <td>5</td>\n",
       "      <td>123</td>\n",
       "      <td>150</td>\n",
       "      <td>NaN</td>\n",
       "    </tr>\n",
       "    <tr>\n",
       "      <th>top</th>\n",
       "      <td>NaN</td>\n",
       "      <td>NaN</td>\n",
       "      <td>NaN</td>\n",
       "      <td>O'Leary, Miss. Hanora \"Norah\"</td>\n",
       "      <td>male</td>\n",
       "      <td>NaN</td>\n",
       "      <td>NaN</td>\n",
       "      <td>NaN</td>\n",
       "      <td>CA. 2343</td>\n",
       "      <td>NaN</td>\n",
       "      <td>C52</td>\n",
       "      <td>S</td>\n",
       "      <td>Mr</td>\n",
       "      <td>Thomas</td>\n",
       "      <td>Sage</td>\n",
       "      <td>NaN</td>\n",
       "    </tr>\n",
       "    <tr>\n",
       "      <th>freq</th>\n",
       "      <td>NaN</td>\n",
       "      <td>NaN</td>\n",
       "      <td>NaN</td>\n",
       "      <td>1</td>\n",
       "      <td>124</td>\n",
       "      <td>NaN</td>\n",
       "      <td>NaN</td>\n",
       "      <td>NaN</td>\n",
       "      <td>7</td>\n",
       "      <td>NaN</td>\n",
       "      <td>1</td>\n",
       "      <td>90</td>\n",
       "      <td>119</td>\n",
       "      <td>9</td>\n",
       "      <td>7</td>\n",
       "      <td>NaN</td>\n",
       "    </tr>\n",
       "    <tr>\n",
       "      <th>mean</th>\n",
       "      <td>435.581921</td>\n",
       "      <td>0.293785</td>\n",
       "      <td>2.598870</td>\n",
       "      <td>NaN</td>\n",
       "      <td>NaN</td>\n",
       "      <td>NaN</td>\n",
       "      <td>0.564972</td>\n",
       "      <td>0.180791</td>\n",
       "      <td>NaN</td>\n",
       "      <td>22.158567</td>\n",
       "      <td>NaN</td>\n",
       "      <td>NaN</td>\n",
       "      <td>NaN</td>\n",
       "      <td>NaN</td>\n",
       "      <td>NaN</td>\n",
       "      <td>0.0</td>\n",
       "    </tr>\n",
       "    <tr>\n",
       "      <th>std</th>\n",
       "      <td>250.552901</td>\n",
       "      <td>0.456787</td>\n",
       "      <td>0.763216</td>\n",
       "      <td>NaN</td>\n",
       "      <td>NaN</td>\n",
       "      <td>NaN</td>\n",
       "      <td>1.626316</td>\n",
       "      <td>0.534145</td>\n",
       "      <td>NaN</td>\n",
       "      <td>31.874608</td>\n",
       "      <td>NaN</td>\n",
       "      <td>NaN</td>\n",
       "      <td>NaN</td>\n",
       "      <td>NaN</td>\n",
       "      <td>NaN</td>\n",
       "      <td>0.0</td>\n",
       "    </tr>\n",
       "    <tr>\n",
       "      <th>min</th>\n",
       "      <td>6.000000</td>\n",
       "      <td>0.000000</td>\n",
       "      <td>1.000000</td>\n",
       "      <td>NaN</td>\n",
       "      <td>NaN</td>\n",
       "      <td>NaN</td>\n",
       "      <td>0.000000</td>\n",
       "      <td>0.000000</td>\n",
       "      <td>NaN</td>\n",
       "      <td>0.000000</td>\n",
       "      <td>NaN</td>\n",
       "      <td>NaN</td>\n",
       "      <td>NaN</td>\n",
       "      <td>NaN</td>\n",
       "      <td>NaN</td>\n",
       "      <td>0.0</td>\n",
       "    </tr>\n",
       "    <tr>\n",
       "      <th>25%</th>\n",
       "      <td>230.000000</td>\n",
       "      <td>0.000000</td>\n",
       "      <td>3.000000</td>\n",
       "      <td>NaN</td>\n",
       "      <td>NaN</td>\n",
       "      <td>NaN</td>\n",
       "      <td>0.000000</td>\n",
       "      <td>0.000000</td>\n",
       "      <td>NaN</td>\n",
       "      <td>7.750000</td>\n",
       "      <td>NaN</td>\n",
       "      <td>NaN</td>\n",
       "      <td>NaN</td>\n",
       "      <td>NaN</td>\n",
       "      <td>NaN</td>\n",
       "      <td>0.0</td>\n",
       "    </tr>\n",
       "    <tr>\n",
       "      <th>50%</th>\n",
       "      <td>452.000000</td>\n",
       "      <td>0.000000</td>\n",
       "      <td>3.000000</td>\n",
       "      <td>NaN</td>\n",
       "      <td>NaN</td>\n",
       "      <td>NaN</td>\n",
       "      <td>0.000000</td>\n",
       "      <td>0.000000</td>\n",
       "      <td>NaN</td>\n",
       "      <td>8.050000</td>\n",
       "      <td>NaN</td>\n",
       "      <td>NaN</td>\n",
       "      <td>NaN</td>\n",
       "      <td>NaN</td>\n",
       "      <td>NaN</td>\n",
       "      <td>0.0</td>\n",
       "    </tr>\n",
       "    <tr>\n",
       "      <th>75%</th>\n",
       "      <td>634.000000</td>\n",
       "      <td>1.000000</td>\n",
       "      <td>3.000000</td>\n",
       "      <td>NaN</td>\n",
       "      <td>NaN</td>\n",
       "      <td>NaN</td>\n",
       "      <td>0.000000</td>\n",
       "      <td>0.000000</td>\n",
       "      <td>NaN</td>\n",
       "      <td>24.150000</td>\n",
       "      <td>NaN</td>\n",
       "      <td>NaN</td>\n",
       "      <td>NaN</td>\n",
       "      <td>NaN</td>\n",
       "      <td>NaN</td>\n",
       "      <td>0.0</td>\n",
       "    </tr>\n",
       "    <tr>\n",
       "      <th>max</th>\n",
       "      <td>889.000000</td>\n",
       "      <td>1.000000</td>\n",
       "      <td>3.000000</td>\n",
       "      <td>NaN</td>\n",
       "      <td>NaN</td>\n",
       "      <td>NaN</td>\n",
       "      <td>8.000000</td>\n",
       "      <td>2.000000</td>\n",
       "      <td>NaN</td>\n",
       "      <td>227.525000</td>\n",
       "      <td>NaN</td>\n",
       "      <td>NaN</td>\n",
       "      <td>NaN</td>\n",
       "      <td>NaN</td>\n",
       "      <td>NaN</td>\n",
       "      <td>0.0</td>\n",
       "    </tr>\n",
       "  </tbody>\n",
       "</table>\n",
       "</div>"
      ],
      "text/plain": [
       "        PassengerId    Survived      Pclass                      Full_Name  \\\n",
       "count    177.000000  177.000000  177.000000                            177   \n",
       "unique          NaN         NaN         NaN                            177   \n",
       "top             NaN         NaN         NaN  O'Leary, Miss. Hanora \"Norah\"   \n",
       "freq            NaN         NaN         NaN                              1   \n",
       "mean     435.581921    0.293785    2.598870                            NaN   \n",
       "std      250.552901    0.456787    0.763216                            NaN   \n",
       "min        6.000000    0.000000    1.000000                            NaN   \n",
       "25%      230.000000    0.000000    3.000000                            NaN   \n",
       "50%      452.000000    0.000000    3.000000                            NaN   \n",
       "75%      634.000000    1.000000    3.000000                            NaN   \n",
       "max      889.000000    1.000000    3.000000                            NaN   \n",
       "\n",
       "         Sex  Age       SibSp       Parch    Ticket        Fare Cabin  \\\n",
       "count    177  0.0  177.000000  177.000000       177  177.000000    19   \n",
       "unique     2  NaN         NaN         NaN       155         NaN    19   \n",
       "top     male  NaN         NaN         NaN  CA. 2343         NaN   C52   \n",
       "freq     124  NaN         NaN         NaN         7         NaN     1   \n",
       "mean     NaN  NaN    0.564972    0.180791       NaN   22.158567   NaN   \n",
       "std      NaN  NaN    1.626316    0.534145       NaN   31.874608   NaN   \n",
       "min      NaN  NaN    0.000000    0.000000       NaN    0.000000   NaN   \n",
       "25%      NaN  NaN    0.000000    0.000000       NaN    7.750000   NaN   \n",
       "50%      NaN  NaN    0.000000    0.000000       NaN    8.050000   NaN   \n",
       "75%      NaN  NaN    0.000000    0.000000       NaN   24.150000   NaN   \n",
       "max      NaN  NaN    8.000000    2.000000       NaN  227.525000   NaN   \n",
       "\n",
       "       Embarked Prefix First_Name Last_Name  Total  \n",
       "count       177    177        177       177  177.0  \n",
       "unique        3      5        123       150    NaN  \n",
       "top           S     Mr     Thomas      Sage    NaN  \n",
       "freq         90    119          9         7    NaN  \n",
       "mean        NaN    NaN        NaN       NaN    0.0  \n",
       "std         NaN    NaN        NaN       NaN    0.0  \n",
       "min         NaN    NaN        NaN       NaN    0.0  \n",
       "25%         NaN    NaN        NaN       NaN    0.0  \n",
       "50%         NaN    NaN        NaN       NaN    0.0  \n",
       "75%         NaN    NaN        NaN       NaN    0.0  \n",
       "max         NaN    NaN        NaN       NaN    0.0  "
      ]
     },
     "execution_count": 13,
     "metadata": {},
     "output_type": "execute_result"
    }
   ],
   "source": [
    "print('Summary for passengers with missing ages below:')\n",
    "df_age_missing.describe(include='all')"
   ]
  },
  {
   "cell_type": "code",
   "execution_count": 14,
   "metadata": {
    "ExecuteTime": {
     "end_time": "2020-07-27T23:38:24.460210Z",
     "start_time": "2020-07-27T23:38:24.308617Z"
    },
    "cell_style": "split"
   },
   "outputs": [
    {
     "name": "stdout",
     "output_type": "stream",
     "text": [
      "Summary for passengers with ages include below:\n"
     ]
    },
    {
     "data": {
      "text/html": [
       "<div>\n",
       "<style scoped>\n",
       "    .dataframe tbody tr th:only-of-type {\n",
       "        vertical-align: middle;\n",
       "    }\n",
       "\n",
       "    .dataframe tbody tr th {\n",
       "        vertical-align: top;\n",
       "    }\n",
       "\n",
       "    .dataframe thead th {\n",
       "        text-align: right;\n",
       "    }\n",
       "</style>\n",
       "<table border=\"1\" class=\"dataframe\">\n",
       "  <thead>\n",
       "    <tr style=\"text-align: right;\">\n",
       "      <th></th>\n",
       "      <th>PassengerId</th>\n",
       "      <th>Survived</th>\n",
       "      <th>Pclass</th>\n",
       "      <th>Full_Name</th>\n",
       "      <th>Sex</th>\n",
       "      <th>Age</th>\n",
       "      <th>SibSp</th>\n",
       "      <th>Parch</th>\n",
       "      <th>Ticket</th>\n",
       "      <th>Fare</th>\n",
       "      <th>Cabin</th>\n",
       "      <th>Embarked</th>\n",
       "      <th>Prefix</th>\n",
       "      <th>First_Name</th>\n",
       "      <th>Last_Name</th>\n",
       "      <th>Total</th>\n",
       "    </tr>\n",
       "  </thead>\n",
       "  <tbody>\n",
       "    <tr>\n",
       "      <th>count</th>\n",
       "      <td>714.000000</td>\n",
       "      <td>714.000000</td>\n",
       "      <td>714.000000</td>\n",
       "      <td>714</td>\n",
       "      <td>714</td>\n",
       "      <td>714.000000</td>\n",
       "      <td>714.000000</td>\n",
       "      <td>714.000000</td>\n",
       "      <td>714</td>\n",
       "      <td>714.000000</td>\n",
       "      <td>185</td>\n",
       "      <td>712</td>\n",
       "      <td>714</td>\n",
       "      <td>714</td>\n",
       "      <td>714</td>\n",
       "      <td>714.0</td>\n",
       "    </tr>\n",
       "    <tr>\n",
       "      <th>unique</th>\n",
       "      <td>NaN</td>\n",
       "      <td>NaN</td>\n",
       "      <td>NaN</td>\n",
       "      <td>714</td>\n",
       "      <td>2</td>\n",
       "      <td>NaN</td>\n",
       "      <td>NaN</td>\n",
       "      <td>NaN</td>\n",
       "      <td>542</td>\n",
       "      <td>NaN</td>\n",
       "      <td>134</td>\n",
       "      <td>3</td>\n",
       "      <td>17</td>\n",
       "      <td>367</td>\n",
       "      <td>535</td>\n",
       "      <td>NaN</td>\n",
       "    </tr>\n",
       "    <tr>\n",
       "      <th>top</th>\n",
       "      <td>NaN</td>\n",
       "      <td>NaN</td>\n",
       "      <td>NaN</td>\n",
       "      <td>McGough, Mr. James Robert</td>\n",
       "      <td>male</td>\n",
       "      <td>NaN</td>\n",
       "      <td>NaN</td>\n",
       "      <td>NaN</td>\n",
       "      <td>347082</td>\n",
       "      <td>NaN</td>\n",
       "      <td>C23 C25 C27</td>\n",
       "      <td>S</td>\n",
       "      <td>Mr</td>\n",
       "      <td>William</td>\n",
       "      <td>Andersson</td>\n",
       "      <td>NaN</td>\n",
       "    </tr>\n",
       "    <tr>\n",
       "      <th>freq</th>\n",
       "      <td>NaN</td>\n",
       "      <td>NaN</td>\n",
       "      <td>NaN</td>\n",
       "      <td>1</td>\n",
       "      <td>453</td>\n",
       "      <td>NaN</td>\n",
       "      <td>NaN</td>\n",
       "      <td>NaN</td>\n",
       "      <td>7</td>\n",
       "      <td>NaN</td>\n",
       "      <td>4</td>\n",
       "      <td>554</td>\n",
       "      <td>398</td>\n",
       "      <td>43</td>\n",
       "      <td>9</td>\n",
       "      <td>NaN</td>\n",
       "    </tr>\n",
       "    <tr>\n",
       "      <th>mean</th>\n",
       "      <td>448.582633</td>\n",
       "      <td>0.406162</td>\n",
       "      <td>2.236695</td>\n",
       "      <td>NaN</td>\n",
       "      <td>NaN</td>\n",
       "      <td>29.699118</td>\n",
       "      <td>0.512605</td>\n",
       "      <td>0.431373</td>\n",
       "      <td>NaN</td>\n",
       "      <td>34.694514</td>\n",
       "      <td>NaN</td>\n",
       "      <td>NaN</td>\n",
       "      <td>NaN</td>\n",
       "      <td>NaN</td>\n",
       "      <td>NaN</td>\n",
       "      <td>0.0</td>\n",
       "    </tr>\n",
       "    <tr>\n",
       "      <th>std</th>\n",
       "      <td>259.119524</td>\n",
       "      <td>0.491460</td>\n",
       "      <td>0.838250</td>\n",
       "      <td>NaN</td>\n",
       "      <td>NaN</td>\n",
       "      <td>14.526497</td>\n",
       "      <td>0.929783</td>\n",
       "      <td>0.853289</td>\n",
       "      <td>NaN</td>\n",
       "      <td>52.918930</td>\n",
       "      <td>NaN</td>\n",
       "      <td>NaN</td>\n",
       "      <td>NaN</td>\n",
       "      <td>NaN</td>\n",
       "      <td>NaN</td>\n",
       "      <td>0.0</td>\n",
       "    </tr>\n",
       "    <tr>\n",
       "      <th>min</th>\n",
       "      <td>1.000000</td>\n",
       "      <td>0.000000</td>\n",
       "      <td>1.000000</td>\n",
       "      <td>NaN</td>\n",
       "      <td>NaN</td>\n",
       "      <td>0.420000</td>\n",
       "      <td>0.000000</td>\n",
       "      <td>0.000000</td>\n",
       "      <td>NaN</td>\n",
       "      <td>0.000000</td>\n",
       "      <td>NaN</td>\n",
       "      <td>NaN</td>\n",
       "      <td>NaN</td>\n",
       "      <td>NaN</td>\n",
       "      <td>NaN</td>\n",
       "      <td>0.0</td>\n",
       "    </tr>\n",
       "    <tr>\n",
       "      <th>25%</th>\n",
       "      <td>222.250000</td>\n",
       "      <td>0.000000</td>\n",
       "      <td>1.000000</td>\n",
       "      <td>NaN</td>\n",
       "      <td>NaN</td>\n",
       "      <td>20.125000</td>\n",
       "      <td>0.000000</td>\n",
       "      <td>0.000000</td>\n",
       "      <td>NaN</td>\n",
       "      <td>8.050000</td>\n",
       "      <td>NaN</td>\n",
       "      <td>NaN</td>\n",
       "      <td>NaN</td>\n",
       "      <td>NaN</td>\n",
       "      <td>NaN</td>\n",
       "      <td>0.0</td>\n",
       "    </tr>\n",
       "    <tr>\n",
       "      <th>50%</th>\n",
       "      <td>445.000000</td>\n",
       "      <td>0.000000</td>\n",
       "      <td>2.000000</td>\n",
       "      <td>NaN</td>\n",
       "      <td>NaN</td>\n",
       "      <td>28.000000</td>\n",
       "      <td>0.000000</td>\n",
       "      <td>0.000000</td>\n",
       "      <td>NaN</td>\n",
       "      <td>15.741700</td>\n",
       "      <td>NaN</td>\n",
       "      <td>NaN</td>\n",
       "      <td>NaN</td>\n",
       "      <td>NaN</td>\n",
       "      <td>NaN</td>\n",
       "      <td>0.0</td>\n",
       "    </tr>\n",
       "    <tr>\n",
       "      <th>75%</th>\n",
       "      <td>677.750000</td>\n",
       "      <td>1.000000</td>\n",
       "      <td>3.000000</td>\n",
       "      <td>NaN</td>\n",
       "      <td>NaN</td>\n",
       "      <td>38.000000</td>\n",
       "      <td>1.000000</td>\n",
       "      <td>1.000000</td>\n",
       "      <td>NaN</td>\n",
       "      <td>33.375000</td>\n",
       "      <td>NaN</td>\n",
       "      <td>NaN</td>\n",
       "      <td>NaN</td>\n",
       "      <td>NaN</td>\n",
       "      <td>NaN</td>\n",
       "      <td>0.0</td>\n",
       "    </tr>\n",
       "    <tr>\n",
       "      <th>max</th>\n",
       "      <td>891.000000</td>\n",
       "      <td>1.000000</td>\n",
       "      <td>3.000000</td>\n",
       "      <td>NaN</td>\n",
       "      <td>NaN</td>\n",
       "      <td>80.000000</td>\n",
       "      <td>5.000000</td>\n",
       "      <td>6.000000</td>\n",
       "      <td>NaN</td>\n",
       "      <td>512.329200</td>\n",
       "      <td>NaN</td>\n",
       "      <td>NaN</td>\n",
       "      <td>NaN</td>\n",
       "      <td>NaN</td>\n",
       "      <td>NaN</td>\n",
       "      <td>0.0</td>\n",
       "    </tr>\n",
       "  </tbody>\n",
       "</table>\n",
       "</div>"
      ],
      "text/plain": [
       "        PassengerId    Survived      Pclass                  Full_Name   Sex  \\\n",
       "count    714.000000  714.000000  714.000000                        714   714   \n",
       "unique          NaN         NaN         NaN                        714     2   \n",
       "top             NaN         NaN         NaN  McGough, Mr. James Robert  male   \n",
       "freq            NaN         NaN         NaN                          1   453   \n",
       "mean     448.582633    0.406162    2.236695                        NaN   NaN   \n",
       "std      259.119524    0.491460    0.838250                        NaN   NaN   \n",
       "min        1.000000    0.000000    1.000000                        NaN   NaN   \n",
       "25%      222.250000    0.000000    1.000000                        NaN   NaN   \n",
       "50%      445.000000    0.000000    2.000000                        NaN   NaN   \n",
       "75%      677.750000    1.000000    3.000000                        NaN   NaN   \n",
       "max      891.000000    1.000000    3.000000                        NaN   NaN   \n",
       "\n",
       "               Age       SibSp       Parch  Ticket        Fare        Cabin  \\\n",
       "count   714.000000  714.000000  714.000000     714  714.000000          185   \n",
       "unique         NaN         NaN         NaN     542         NaN          134   \n",
       "top            NaN         NaN         NaN  347082         NaN  C23 C25 C27   \n",
       "freq           NaN         NaN         NaN       7         NaN            4   \n",
       "mean     29.699118    0.512605    0.431373     NaN   34.694514          NaN   \n",
       "std      14.526497    0.929783    0.853289     NaN   52.918930          NaN   \n",
       "min       0.420000    0.000000    0.000000     NaN    0.000000          NaN   \n",
       "25%      20.125000    0.000000    0.000000     NaN    8.050000          NaN   \n",
       "50%      28.000000    0.000000    0.000000     NaN   15.741700          NaN   \n",
       "75%      38.000000    1.000000    1.000000     NaN   33.375000          NaN   \n",
       "max      80.000000    5.000000    6.000000     NaN  512.329200          NaN   \n",
       "\n",
       "       Embarked Prefix First_Name  Last_Name  Total  \n",
       "count       712    714        714        714  714.0  \n",
       "unique        3     17        367        535    NaN  \n",
       "top           S     Mr    William  Andersson    NaN  \n",
       "freq        554    398         43          9    NaN  \n",
       "mean        NaN    NaN        NaN        NaN    0.0  \n",
       "std         NaN    NaN        NaN        NaN    0.0  \n",
       "min         NaN    NaN        NaN        NaN    0.0  \n",
       "25%         NaN    NaN        NaN        NaN    0.0  \n",
       "50%         NaN    NaN        NaN        NaN    0.0  \n",
       "75%         NaN    NaN        NaN        NaN    0.0  \n",
       "max         NaN    NaN        NaN        NaN    0.0  "
      ]
     },
     "execution_count": 14,
     "metadata": {},
     "output_type": "execute_result"
    }
   ],
   "source": [
    "print('Summary for passengers with ages include below:')\n",
    "df_age_incl.describe(include='all')\n",
    "\n",
    "\n"
   ]
  },
  {
   "cell_type": "code",
   "execution_count": 15,
   "metadata": {
    "ExecuteTime": {
     "end_time": "2020-07-27T23:38:25.273036Z",
     "start_time": "2020-07-27T23:38:25.259075Z"
    },
    "cell_style": "split"
   },
   "outputs": [
    {
     "name": "stdout",
     "output_type": "stream",
     "text": [
      "Distribution of Prefixes for Missing Ages:\n",
      "        Prefix  pct_total\n",
      "Mr         119   0.672316\n",
      "Miss        36   0.203390\n",
      "Mrs         17   0.096045\n",
      "Master       4   0.022599\n",
      "Dr           1   0.005650\n"
     ]
    }
   ],
   "source": [
    "print('Distribution of Prefixes for Missing Ages:')\n",
    "freq_dist(df_age_missing, 'Prefix')\n"
   ]
  },
  {
   "cell_type": "code",
   "execution_count": 16,
   "metadata": {
    "ExecuteTime": {
     "end_time": "2020-07-27T23:38:26.027019Z",
     "start_time": "2020-07-27T23:38:26.010065Z"
    },
    "cell_style": "split"
   },
   "outputs": [
    {
     "name": "stdout",
     "output_type": "stream",
     "text": [
      "Distribution of Prefixes for Included Ages:\n",
      "              Prefix  pct_total\n",
      "Mr               398   0.557423\n",
      "Miss             146   0.204482\n",
      "Mrs              108   0.151261\n",
      "Master            36   0.050420\n",
      "Rev                6   0.008403\n",
      "Dr                 6   0.008403\n",
      "Mlle               2   0.002801\n",
      "Col                2   0.002801\n",
      "Major              2   0.002801\n",
      "Sir                1   0.001401\n",
      "Mme                1   0.001401\n",
      "Jonkheer           1   0.001401\n",
      "Lady               1   0.001401\n",
      "the Countess       1   0.001401\n",
      "Don                1   0.001401\n"
     ]
    }
   ],
   "source": [
    "print('Distribution of Prefixes for Included Ages:')\n",
    "freq_dist(df_age_incl, 'Prefix')"
   ]
  },
  {
   "cell_type": "markdown",
   "metadata": {},
   "source": [
    "### Comparing Male vs. Female Survival Counts: DF with ages missing & DF with ages included"
   ]
  },
  {
   "cell_type": "code",
   "execution_count": 17,
   "metadata": {
    "ExecuteTime": {
     "end_time": "2020-07-27T23:38:29.841846Z",
     "start_time": "2020-07-27T23:38:29.254413Z"
    },
    "cell_style": "split"
   },
   "outputs": [
    {
     "name": "stdout",
     "output_type": "stream",
     "text": [
      "Left side: Ages Missing:\n",
      "\n",
      "Total          0             \n",
      "Sex       female     male    \n",
      "Survived       0   1    0   1\n",
      "Survived      17  36  108  16\n",
      "pct_total      9  20   61   9\n"
     ]
    },
    {
     "data": {
      "image/png": "[encoded data removed]",
      "text/plain": [
       "<Figure size 432x288 with 1 Axes>"
      ]
     },
     "metadata": {
      "needs_background": "light"
     },
     "output_type": "display_data"
    }
   ],
   "source": [
    "print('Left side: Ages Missing:\\n')\n",
    "review_detail(df_age_missing,\n",
    "              'Total', \"\", \n",
    "              'Sex', '', \n",
    "              False,'count','not', False)"
   ]
  },
  {
   "cell_type": "code",
   "execution_count": 18,
   "metadata": {
    "ExecuteTime": {
     "end_time": "2020-07-27T23:38:31.312907Z",
     "start_time": "2020-07-27T23:38:30.889042Z"
    },
    "cell_style": "split"
   },
   "outputs": [
    {
     "name": "stdout",
     "output_type": "stream",
     "text": [
      "Right side: Ages Included:\n",
      "\n",
      "Total          0              \n",
      "Sex       female      male    \n",
      "Survived       0    1    0   1\n",
      "Survived      64  197  360  93\n",
      "pct_total      8   27   50  13\n"
     ]
    },
    {
     "data": {
      "image/png": "[encoded data removed]",
      "text/plain": [
       "<Figure size 432x288 with 1 Axes>"
      ]
     },
     "metadata": {
      "needs_background": "light"
     },
     "output_type": "display_data"
    }
   ],
   "source": [
    "print('Right side: Ages Included:\\n')\n",
    "review_detail(df_age_incl,\n",
    "              'Total', \"\", \n",
    "              'Sex', '', \n",
    "              False,'count','not', False)"
   ]
  },
  {
   "cell_type": "markdown",
   "metadata": {},
   "source": [
    "### Comparing Survival Counts for each of the prefixes: \n",
    "    - DF with ages missing (left)\n",
    "    - DF with ages included (right)"
   ]
  },
  {
   "cell_type": "code",
   "execution_count": 23,
   "metadata": {
    "ExecuteTime": {
     "end_time": "2020-07-27T23:40:13.460718Z",
     "start_time": "2020-07-27T23:40:13.120627Z"
    },
    "cell_style": "split"
   },
   "outputs": [
    {
     "name": "stdout",
     "output_type": "stream",
     "text": [
      "Total          0    \n",
      "Sex       female    \n",
      "Survived       0   1\n",
      "Survived      17  36\n",
      "pct_total     32  67\n"
     ]
    },
    {
     "data": {
      "image/png": "[encoded data removed]",
      "text/plain": [
       "<Figure size 432x288 with 1 Axes>"
      ]
     },
     "metadata": {
      "needs_background": "light"
     },
     "output_type": "display_data"
    }
   ],
   "source": [
    "review_detail(df_age_missing,\n",
    "              'Total', \"\", \n",
    "              'Sex', 'female', \n",
    "              False,'count','all', False)"
   ]
  },
  {
   "cell_type": "code",
   "execution_count": 24,
   "metadata": {
    "ExecuteTime": {
     "end_time": "2020-07-27T23:40:14.966782Z",
     "start_time": "2020-07-27T23:40:14.617693Z"
    },
    "cell_style": "split"
   },
   "outputs": [
    {
     "name": "stdout",
     "output_type": "stream",
     "text": [
      "Total        0    \n",
      "Sex       male    \n",
      "Survived     0   1\n",
      "Survived   360  93\n",
      "pct_total   79  20\n"
     ]
    },
    {
     "data": {
      "image/png": "[encoded data removed]",
      "text/plain": [
       "<Figure size 432x288 with 1 Axes>"
      ]
     },
     "metadata": {
      "needs_background": "light"
     },
     "output_type": "display_data"
    }
   ],
   "source": [
    "review_detail(df_age_incl,\n",
    "              'Total', \"\", \n",
    "              'Sex', 'male', \n",
    "              False,'count','all', False)"
   ]
  },
  {
   "cell_type": "code",
   "execution_count": 25,
   "metadata": {
    "ExecuteTime": {
     "end_time": "2020-07-27T23:40:34.368819Z",
     "start_time": "2020-07-27T23:40:34.014767Z"
    },
    "cell_style": "split"
   },
   "outputs": [
    {
     "name": "stdout",
     "output_type": "stream",
     "text": [
      "Below is the total \n",
      "Total          0    \n",
      "Sex       female    \n",
      "Survived       0   1\n",
      "Survived      17  36\n",
      "pct_total     32  67\n"
     ]
    },
    {
     "data": {
      "image/png": "[encoded data removed]",
      "text/plain": [
       "<Figure size 432x288 with 1 Axes>"
      ]
     },
     "metadata": {
      "needs_background": "light"
     },
     "output_type": "display_data"
    }
   ],
   "source": [
    "review_detail(df_age_missing,\n",
    "              'Total', \"\", \n",
    "              'Sex', 'female', \n",
    "              False,'count','all', False)"
   ]
  },
  {
   "cell_type": "code",
   "execution_count": 26,
   "metadata": {
    "ExecuteTime": {
     "end_time": "2020-07-27T23:40:35.467394Z",
     "start_time": "2020-07-27T23:40:35.101859Z"
    },
    "cell_style": "split"
   },
   "outputs": [
    {
     "name": "stdout",
     "output_type": "stream",
     "text": [
      "Total        0    \n",
      "Sex       male    \n",
      "Survived     0   1\n",
      "Survived   360  93\n",
      "pct_total   79  20\n"
     ]
    },
    {
     "data": {
      "image/png": "[encoded data removed]",
      "text/plain": [
       "<Figure size 432x288 with 1 Axes>"
      ]
     },
     "metadata": {
      "needs_background": "light"
     },
     "output_type": "display_data"
    }
   ],
   "source": [
    "review_detail(df_age_incl,\n",
    "              'Total', \"\", \n",
    "              'Sex', 'male', \n",
    "              False,'count','all', False)\n"
   ]
  },
  {
   "cell_type": "markdown",
   "metadata": {
    "cell_style": "center"
   },
   "source": [
    "### Based on the above output, there is a consistency between two data sets comparing survival rates of 'Prefixes'  "
   ]
  },
  {
   "cell_type": "markdown",
   "metadata": {},
   "source": [
    "## Reviewig 'SibSp' columns relevance"
   ]
  },
  {
   "cell_type": "code",
   "execution_count": 29,
   "metadata": {
    "ExecuteTime": {
     "end_time": "2020-07-27T23:41:26.335815Z",
     "start_time": "2020-07-27T23:41:26.316865Z"
    },
    "cell_style": "split",
    "scrolled": true
   },
   "outputs": [
    {
     "name": "stdout",
     "output_type": "stream",
     "text": [
      "   SibSp  pct_total\n",
      "0    137   0.774011\n",
      "1     26   0.146893\n",
      "8      7   0.039548\n",
      "3      4   0.022599\n",
      "2      3   0.016949\n"
     ]
    }
   ],
   "source": [
    "freq_dist(df_age_missing, 'SibSp')"
   ]
  },
  {
   "cell_type": "code",
   "execution_count": 30,
   "metadata": {
    "ExecuteTime": {
     "end_time": "2020-07-27T23:41:27.567519Z",
     "start_time": "2020-07-27T23:41:27.543583Z"
    },
    "cell_style": "split"
   },
   "outputs": [
    {
     "name": "stdout",
     "output_type": "stream",
     "text": [
      "   SibSp  pct_total\n",
      "0    471   0.659664\n",
      "1    183   0.256303\n",
      "2     25   0.035014\n",
      "4     18   0.025210\n",
      "3     12   0.016807\n",
      "5      5   0.007003\n"
     ]
    }
   ],
   "source": [
    "freq_dist(df_age_incl, 'SibSp')"
   ]
  },
  {
   "cell_type": "code",
   "execution_count": 31,
   "metadata": {
    "ExecuteTime": {
     "end_time": "2020-07-27T23:41:33.131211Z",
     "start_time": "2020-07-27T23:41:31.827629Z"
    },
    "cell_style": "center"
   },
   "outputs": [
    {
     "name": "stdout",
     "output_type": "stream",
     "text": [
      "SibSp        0       1      2     3  8\n",
      "Total        0       0      0     0  0\n",
      "Survived     0   1   0   1  0  1  0  0\n",
      "Survived   102  35  11  15  1  2  4  7\n",
      "pct_total   57  19   6   8  0  1  2  3\n"
     ]
    },
    {
     "data": {
      "image/png": "[encoded data removed]",
      "text/plain": [
       "<Figure size 432x288 with 2 Axes>"
      ]
     },
     "metadata": {
      "needs_background": "light"
     },
     "output_type": "display_data"
    }
   ],
   "source": [
    "review_detail(df_age_missing,\n",
    "              'SibSp', \"\", \n",
    "              'Total', '', \n",
    "              True,'count','not all', False)"
   ]
  },
  {
   "cell_type": "markdown",
   "metadata": {},
   "source": [
    "### (Above) Dropping age is still a viable option, as there is no real diff between"
   ]
  },
  {
   "cell_type": "markdown",
   "metadata": {},
   "source": [
    "## Look at the distribution of ages for population of: survivors and the deceased"
   ]
  },
  {
   "cell_type": "code",
   "execution_count": 32,
   "metadata": {
    "ExecuteTime": {
     "end_time": "2020-07-27T23:41:40.084170Z",
     "start_time": "2020-07-27T23:41:39.403993Z"
    }
   },
   "outputs": [
    {
     "name": "stdout",
     "output_type": "stream",
     "text": [
      "Sex       female      male    \n",
      "Total          0         0    \n",
      "Survived       0    1    0   1\n",
      "Survived      64  197  360  93\n",
      "pct_total      8   27   50  13\n"
     ]
    },
    {
     "data": {
      "image/png": "[encoded data removed]",
      "text/plain": [
       "<Figure size 432x288 with 1 Axes>"
      ]
     },
     "metadata": {
      "needs_background": "light"
     },
     "output_type": "display_data"
    }
   ],
   "source": [
    "review_detail(df_age_incl,\n",
    "              'Sex', \"\", \n",
    "              'Total', '', \n",
    "              False,'count','not', False)"
   ]
  },
  {
   "cell_type": "markdown",
   "metadata": {},
   "source": [
    "### (Above) There is a clear inverse relationship between survivors sex...."
   ]
  },
  {
   "cell_type": "code",
   "execution_count": 33,
   "metadata": {
    "ExecuteTime": {
     "end_time": "2020-07-27T23:41:43.466123Z",
     "start_time": "2020-07-27T23:41:43.458143Z"
    },
    "cell_style": "split"
   },
   "outputs": [],
   "source": [
    "df_dec = df_age_incl.loc[df_age_incl['Survived'] == 1]"
   ]
  },
  {
   "cell_type": "code",
   "execution_count": 34,
   "metadata": {
    "ExecuteTime": {
     "end_time": "2020-07-27T23:41:46.449142Z",
     "start_time": "2020-07-27T23:41:46.439168Z"
    },
    "cell_style": "split"
   },
   "outputs": [],
   "source": [
    "df_surv = df_age_incl.loc[df_age_incl['Survived'] == 0]"
   ]
  },
  {
   "cell_type": "code",
   "execution_count": 35,
   "metadata": {
    "ExecuteTime": {
     "end_time": "2020-07-27T23:41:47.632975Z",
     "start_time": "2020-07-27T23:41:47.626991Z"
    }
   },
   "outputs": [],
   "source": [
    "df4 = df_age_incl"
   ]
  },
  {
   "cell_type": "markdown",
   "metadata": {},
   "source": [
    "## Review Pclass Relevance"
   ]
  },
  {
   "cell_type": "code",
   "execution_count": 36,
   "metadata": {
    "ExecuteTime": {
     "end_time": "2020-07-27T23:41:49.634132Z",
     "start_time": "2020-07-27T23:41:49.147433Z"
    },
    "cell_style": "center"
   },
   "outputs": [
    {
     "name": "stdout",
     "output_type": "stream",
     "text": [
      "Pclass      1        2        3    \n",
      "Total       0        0        0    \n",
      "Survived    0    1   0   1    0   1\n",
      "Survived   64  122  90  83  270  85\n",
      "pct_total   8   17  12  11   37  11\n"
     ]
    },
    {
     "data": {
      "image/png": "[encoded data removed]",
      "text/plain": [
       "<Figure size 432x288 with 1 Axes>"
      ]
     },
     "metadata": {
      "needs_background": "light"
     },
     "output_type": "display_data"
    }
   ],
   "source": [
    "review_detail(df4,\n",
    "              'Pclass', \"\", \n",
    "              'Total', '', \n",
    "              False,'count','not', False)"
   ]
  },
  {
   "cell_type": "markdown",
   "metadata": {},
   "source": [
    "## Review Pclass Relevance in Relation to Age\n",
    "### Results - Create the following groups:\n",
    "    - 0 = Males 17 and Under\n",
    "    - 1 = Males Over 17\n",
    "    - 2 = Females 39 and Under\n",
    "    - 3 = Females Over 39\n",
    "    \n",
    "   **Below is the supporting evidence in bar charts used for the justification of this age group"
   ]
  },
  {
   "cell_type": "code",
   "execution_count": 37,
   "metadata": {
    "ExecuteTime": {
     "end_time": "2020-07-27T23:41:51.457764Z",
     "start_time": "2020-07-27T23:41:51.439811Z"
    }
   },
   "outputs": [],
   "source": [
    "df_f_yng = df4.loc[df4['Age']<39]\n",
    "df_f_old = df4.loc[df4['Age']>=39]\n",
    "df_m_yng = df4.loc[df4['Age']<17]\n",
    "df_m_old = df4.loc[df4['Age']>=17] "
   ]
  },
  {
   "cell_type": "code",
   "execution_count": 38,
   "metadata": {
    "ExecuteTime": {
     "end_time": "2020-07-27T23:41:53.529253Z",
     "start_time": "2020-07-27T23:41:53.096379Z"
    },
    "cell_style": "split"
   },
   "outputs": [
    {
     "name": "stdout",
     "output_type": "stream",
     "text": [
      "Pclass       1    2        3    \n",
      "Sex       male male     male    \n",
      "Survived     1    0   1    0   1\n",
      "Survived     3    2   9   27  10\n",
      "pct_total    5    3  17   52  19\n"
     ]
    },
    {
     "data": {
      "image/png": "[encoded data removed]",
      "text/plain": [
       "<Figure size 432x288 with 1 Axes>"
      ]
     },
     "metadata": {
      "needs_background": "light"
     },
     "output_type": "display_data"
    }
   ],
   "source": [
    "review_detail(df_m_yng,\n",
    "              'Pclass', \"\", \n",
    "              'Sex', 'male', \n",
    "              False,'count','all', False)"
   ]
  },
  {
   "cell_type": "code",
   "execution_count": 39,
   "metadata": {
    "ExecuteTime": {
     "end_time": "2020-07-27T23:41:55.546875Z",
     "start_time": "2020-07-27T23:41:55.065165Z"
    },
    "cell_style": "split"
   },
   "outputs": [
    {
     "name": "stdout",
     "output_type": "stream",
     "text": [
      "Pclass         1          2          3    \n",
      "Sex       female     female     female    \n",
      "Survived       0   1      0   1      0   1\n",
      "Survived       2  51      4  54     44  46\n",
      "pct_total      0  25      1  26     21  22\n"
     ]
    },
    {
     "data": {
      "image/png": "[encoded data removed]",
      "text/plain": [
       "<Figure size 432x288 with 1 Axes>"
      ]
     },
     "metadata": {
      "needs_background": "light"
     },
     "output_type": "display_data"
    }
   ],
   "source": [
    "review_detail(df_f_yng,\n",
    "              'Pclass', \"\", \n",
    "              'Sex', 'female', \n",
    "              False,'count','all', False)\n"
   ]
  },
  {
   "cell_type": "code",
   "execution_count": 40,
   "metadata": {
    "ExecuteTime": {
     "end_time": "2020-07-27T23:41:57.729064Z",
     "start_time": "2020-07-27T23:41:57.227891Z"
    },
    "cell_style": "split",
    "scrolled": true
   },
   "outputs": [
    {
     "name": "stdout",
     "output_type": "stream",
     "text": [
      "Pclass       1        2       3    \n",
      "Sex       male     male    male    \n",
      "Survived     0   1    0  1    0   1\n",
      "Survived    61  37   82  6  188  28\n",
      "pct_total   15   9   20  1   46   6\n"
     ]
    },
    {
     "data": {
      "image/png": "[encoded data removed]",
      "text/plain": [
       "<Figure size 432x288 with 1 Axes>"
      ]
     },
     "metadata": {
      "needs_background": "light"
     },
     "output_type": "display_data"
    }
   ],
   "source": [
    "review_detail(df_m_old,\n",
    "              'Pclass', \"\", \n",
    "              'Sex', 'male', \n",
    "              False,'count','all', False)"
   ]
  },
  {
   "cell_type": "code",
   "execution_count": 41,
   "metadata": {
    "ExecuteTime": {
     "end_time": "2020-07-27T23:41:59.926184Z",
     "start_time": "2020-07-27T23:41:59.484367Z"
    },
    "cell_style": "split"
   },
   "outputs": [
    {
     "name": "stdout",
     "output_type": "stream",
     "text": [
      "Pclass         1          2          3   \n",
      "Sex       female     female     female   \n",
      "Survived       0   1      0   1      0  1\n",
      "Survived       1  31      2  14     11  1\n",
      "pct_total      1  51      3  23     18  1\n"
     ]
    },
    {
     "data": {
      "image/png": "[encoded data removed]",
      "text/plain": [
       "<Figure size 432x288 with 1 Axes>"
      ]
     },
     "metadata": {
      "needs_background": "light"
     },
     "output_type": "display_data"
    }
   ],
   "source": [
    "review_detail(df_f_old,\n",
    "              'Pclass', \"\", \n",
    "              'Sex', 'female', \n",
    "              False,'count','all', False)"
   ]
  },
  {
   "cell_type": "markdown",
   "metadata": {
    "cell_style": "center"
   },
   "source": [
    "### (Above) There is even more significance between male and female when considering the PClass"
   ]
  },
  {
   "cell_type": "code",
   "execution_count": 42,
   "metadata": {
    "ExecuteTime": {
     "end_time": "2020-07-27T23:42:01.636612Z",
     "start_time": "2020-07-27T23:42:01.592728Z"
    }
   },
   "outputs": [],
   "source": [
    "df4.loc[(df4['Age']<17) & (df4['Sex'] == 'male') , 'Age_Bins'] = 0\n",
    "df4.loc[(df4['Age']>17) & (df4['Sex'] == 'male'), 'Age_Bins'] = 1\n",
    "df4.loc[(df4['Age']<39) & (df4['Sex'] == 'female'), 'Age_Bins'] = 2\n",
    "df4.loc[(df4['Age']>39) & (df4['Sex'] == 'female'), 'Age_Bins'] = 3"
   ]
  },
  {
   "cell_type": "code",
   "execution_count": 43,
   "metadata": {
    "ExecuteTime": {
     "end_time": "2020-07-27T23:42:03.655243Z",
     "start_time": "2020-07-27T23:42:03.632304Z"
    }
   },
   "outputs": [
    {
     "name": "stdout",
     "output_type": "stream",
     "text": [
      "     Age_Bins  pct_total\n",
      "1.0       395   0.563481\n",
      "2.0       201   0.286733\n",
      "3.0        54   0.077033\n",
      "0.0        51   0.072753\n"
     ]
    }
   ],
   "source": [
    "freq_dist(df4, 'Age_Bins')"
   ]
  },
  {
   "cell_type": "code",
   "execution_count": 44,
   "metadata": {
    "ExecuteTime": {
     "end_time": "2020-07-27T23:42:14.537253Z",
     "start_time": "2020-07-27T23:42:14.530272Z"
    }
   },
   "outputs": [],
   "source": [
    "df_numeric = df4"
   ]
  },
  {
   "cell_type": "code",
   "execution_count": 45,
   "metadata": {
    "ExecuteTime": {
     "end_time": "2020-07-27T23:42:16.583887Z",
     "start_time": "2020-07-27T23:42:16.564939Z"
    }
   },
   "outputs": [
    {
     "name": "stdout",
     "output_type": "stream",
     "text": [
      "        Sex  pct_total\n",
      "male    453   0.634454\n",
      "female  261   0.365546\n"
     ]
    }
   ],
   "source": [
    "freq_dist(df_numeric, 'Sex')"
   ]
  },
  {
   "cell_type": "code",
   "execution_count": 46,
   "metadata": {
    "ExecuteTime": {
     "end_time": "2020-07-27T23:42:30.985023Z",
     "start_time": "2020-07-27T23:42:30.965075Z"
    }
   },
   "outputs": [
    {
     "name": "stdout",
     "output_type": "stream",
     "text": [
      "   Sex  pct_total\n",
      "0  453   0.634454\n",
      "1  261   0.365546\n"
     ]
    }
   ],
   "source": [
    "df_numeric.Sex.replace(['male', 'female'] , \n",
    "                  [0, 1],\n",
    "                 inplace=True)\n",
    "freq_dist(df_numeric, 'Sex')"
   ]
  },
  {
   "cell_type": "code",
   "execution_count": 54,
   "metadata": {
    "ExecuteTime": {
     "end_time": "2020-07-27T23:50:15.527949Z",
     "start_time": "2020-07-27T23:50:15.515982Z"
    }
   },
   "outputs": [
    {
     "data": {
      "text/plain": [
       "Miss      47\n",
       "Master    36\n",
       "Mr        15\n",
       "Mrs        2\n",
       "Name: Prefix, dtype: int64"
      ]
     },
     "execution_count": 54,
     "metadata": {},
     "output_type": "execute_result"
    }
   ],
   "source": [
    "df_m_yng.Prefix.value_counts(dropna=False)"
   ]
  },
  {
   "cell_type": "code",
   "execution_count": 57,
   "metadata": {
    "ExecuteTime": {
     "end_time": "2020-07-27T23:51:22.695049Z",
     "start_time": "2020-07-27T23:51:21.327171Z"
    },
    "scrolled": false
   },
   "outputs": [
    {
     "data": {
      "text/plain": [
       "<matplotlib.axes._subplots.AxesSubplot at 0x255d74a6eb8>"
      ]
     },
     "execution_count": 57,
     "metadata": {},
     "output_type": "execute_result"
    },
    {
     "data": {
      "image/png": "[encoded data removed]",
      "text/plain": [
       "<Figure size 3240x1080 with 1 Axes>"
      ]
     },
     "metadata": {
      "needs_background": "light"
     },
     "output_type": "display_data"
    }
   ],
   "source": [
    "sns.violinplot(x=\"Prefix\", y=\"Age\", \n",
    "               data=df4, palette=\"Set2\", \n",
    "               scale=\"count\", inner=\"quartile\")"
   ]
  },
  {
   "cell_type": "code",
   "execution_count": null,
   "metadata": {},
   "outputs": [],
   "source": []
  },
  {
   "cell_type": "code",
   "execution_count": null,
   "metadata": {
    "ExecuteTime": {
     "end_time": "2020-07-18T03:01:09.667607Z",
     "start_time": "2020-07-18T03:01:09.652335Z"
    }
   },
   "outputs": [],
   "source": [
    "#Selecting only text columns to confirm above; There should be none other than 'CustomerID' before moving forward\n",
    "text = ['object', 'category']\n",
    "text_cols = df_a.select_dtypes(include= text)\n",
    "print(text_cols.columns, '\\n')\n",
    "print(text_cols.shape)\n",
    "text_cols.head(2).T"
   ]
  },
  {
   "cell_type": "code",
   "execution_count": null,
   "metadata": {},
   "outputs": [],
   "source": []
  },
  {
   "cell_type": "code",
   "execution_count": null,
   "metadata": {},
   "outputs": [],
   "source": []
  },
  {
   "cell_type": "code",
   "execution_count": null,
   "metadata": {},
   "outputs": [],
   "source": []
  },
  {
   "cell_type": "code",
   "execution_count": null,
   "metadata": {
    "cell_style": "split"
   },
   "outputs": [],
   "source": []
  },
  {
   "cell_type": "code",
   "execution_count": null,
   "metadata": {
    "cell_style": "split"
   },
   "outputs": [],
   "source": []
  },
  {
   "cell_type": "code",
   "execution_count": null,
   "metadata": {
    "cell_style": "split"
   },
   "outputs": [],
   "source": []
  },
  {
   "cell_type": "code",
   "execution_count": null,
   "metadata": {
    "cell_style": "split"
   },
   "outputs": [],
   "source": []
  },
  {
   "cell_type": "code",
   "execution_count": null,
   "metadata": {
    "cell_style": "split"
   },
   "outputs": [],
   "source": []
  },
  {
   "cell_type": "code",
   "execution_count": null,
   "metadata": {},
   "outputs": [],
   "source": []
  }
 ],
 "metadata": {
  "hide_input": false,
  "kernelspec": {
   "display_name": "Python 3",
   "language": "python",
   "name": "python3"
  },
  "language_info": {
   "codemirror_mode": {
    "name": "ipython",
    "version": 3
   },
   "file_extension": ".py",
   "mimetype": "text/x-python",
   "name": "python",
   "nbconvert_exporter": "python",
   "pygments_lexer": "ipython3",
   "version": "3.7.1"
  },
  "toc": {
   "base_numbering": 1,
   "nav_menu": {},
   "number_sections": true,
   "sideBar": true,
   "skip_h1_title": false,
   "title_cell": "Table of Contents",
   "title_sidebar": "Contents",
   "toc_cell": false,
   "toc_position": {},
   "toc_section_display": true,
   "toc_window_display": false
  },
  "varInspector": {
   "cols": {
    "lenName": 16,
    "lenType": 16,
    "lenVar": 40
   },
   "kernels_config": {
    "python": {
     "delete_cmd_postfix": "",
     "delete_cmd_prefix": "del ",
     "library": "var_list.py",
     "varRefreshCmd": "print(var_dic_list())"
    },
    "r": {
     "delete_cmd_postfix": ") ",
     "delete_cmd_prefix": "rm(",
     "library": "var_list.r",
     "varRefreshCmd": "cat(var_dic_list()) "
    }
   },
   "types_to_exclude": [
    "module",
    "function",
    "builtin_function_or_method",
    "instance",
    "_Feature"
   ],
   "window_display": false
  }
 },
 "nbformat": 4,
 "nbformat_minor": 2
}
