{
 "cells": [
  {
   "cell_type": "markdown",
   "metadata": {},
   "source": [
    "# Chapter 2: Begin Machine Learning"
   ]
  },
  {
   "cell_type": "code",
   "execution_count": 1,
   "metadata": {
    "ExecuteTime": {
     "end_time": "2021-01-14T13:47:59.278728Z",
     "start_time": "2021-01-14T13:47:57.007630Z"
    }
   },
   "outputs": [],
   "source": [
    "## Load Data\n",
    "\n",
    "import pandas as pd\n",
    "import numpy as np\n",
    "import matplotlib.pyplot as plt\n",
    "%matplotlib inline\n",
    "import seaborn as sns\n",
    "from sklearn.preprocessing import StandardScaler\n",
    "import warnings\n",
    "warnings.filterwarnings('ignore')\n",
    "\n",
    "plt.rcParams['figure.figsize'] =(15,5)"
   ]
  },
  {
   "cell_type": "code",
   "execution_count": 8,
   "metadata": {
    "ExecuteTime": {
     "end_time": "2021-01-14T13:50:06.168088Z",
     "start_time": "2021-01-14T13:50:06.163101Z"
    }
   },
   "outputs": [],
   "source": [
    "def identify_blanks(df):\n",
    "    t = len(df)\n",
    "    for each in df.columns:\n",
    "        i = len(df.loc[df[each].isnull()])\n",
    "        pct = int((i/t)*100)\n",
    "        print(f'Column {each} has {i} missing values out of {t}.  {pct}%')"
   ]
  },
  {
   "cell_type": "code",
   "execution_count": 11,
   "metadata": {
    "ExecuteTime": {
     "end_time": "2021-01-14T13:52:01.549670Z",
     "start_time": "2021-01-14T13:52:01.536949Z"
    }
   },
   "outputs": [],
   "source": [
    "#Load in modified dataset\n",
    "df = pd.read_csv('../data/modified/df4.csv')\n",
    "df.drop(columns='Unnamed: 0', inplace=True)"
   ]
  },
  {
   "cell_type": "code",
   "execution_count": 12,
   "metadata": {
    "ExecuteTime": {
     "end_time": "2021-01-14T13:52:02.499123Z",
     "start_time": "2021-01-14T13:52:02.475155Z"
    }
   },
   "outputs": [
    {
     "data": {
      "text/html": [
       "<div>\n",
       "<style scoped>\n",
       "    .dataframe tbody tr th:only-of-type {\n",
       "        vertical-align: middle;\n",
       "    }\n",
       "\n",
       "    .dataframe tbody tr th {\n",
       "        vertical-align: top;\n",
       "    }\n",
       "\n",
       "    .dataframe thead th {\n",
       "        text-align: right;\n",
       "    }\n",
       "</style>\n",
       "<table border=\"1\" class=\"dataframe\">\n",
       "  <thead>\n",
       "    <tr style=\"text-align: right;\">\n",
       "      <th></th>\n",
       "      <th>Pclass</th>\n",
       "      <th>Sex</th>\n",
       "      <th>Age</th>\n",
       "      <th>SibSp</th>\n",
       "      <th>Parch</th>\n",
       "      <th>Fare</th>\n",
       "      <th>Embarked</th>\n",
       "      <th>Label</th>\n",
       "      <th>Survived</th>\n",
       "      <th>Total</th>\n",
       "      <th>Prefix</th>\n",
       "      <th>Age_Bins</th>\n",
       "      <th>Fare_Bins</th>\n",
       "    </tr>\n",
       "  </thead>\n",
       "  <tbody>\n",
       "    <tr>\n",
       "      <th>0</th>\n",
       "      <td>1</td>\n",
       "      <td>female</td>\n",
       "      <td>39.0</td>\n",
       "      <td>0</td>\n",
       "      <td>0</td>\n",
       "      <td>108.9000</td>\n",
       "      <td>C</td>\n",
       "      <td>test</td>\n",
       "      <td>NaN</td>\n",
       "      <td>0</td>\n",
       "      <td>Dona</td>\n",
       "      <td>female_under_50</td>\n",
       "      <td>Greater than or equal to $50</td>\n",
       "    </tr>\n",
       "    <tr>\n",
       "      <th>1</th>\n",
       "      <td>1</td>\n",
       "      <td>female</td>\n",
       "      <td>49.0</td>\n",
       "      <td>0</td>\n",
       "      <td>0</td>\n",
       "      <td>25.9292</td>\n",
       "      <td>S</td>\n",
       "      <td>train</td>\n",
       "      <td>1.0</td>\n",
       "      <td>0</td>\n",
       "      <td>Dr</td>\n",
       "      <td>female_under_50</td>\n",
       "      <td>Less than $50</td>\n",
       "    </tr>\n",
       "    <tr>\n",
       "      <th>2</th>\n",
       "      <td>1</td>\n",
       "      <td>female</td>\n",
       "      <td>48.0</td>\n",
       "      <td>1</td>\n",
       "      <td>0</td>\n",
       "      <td>39.6000</td>\n",
       "      <td>C</td>\n",
       "      <td>train</td>\n",
       "      <td>1.0</td>\n",
       "      <td>0</td>\n",
       "      <td>Lady</td>\n",
       "      <td>female_under_50</td>\n",
       "      <td>Less than $50</td>\n",
       "    </tr>\n",
       "    <tr>\n",
       "      <th>3</th>\n",
       "      <td>1</td>\n",
       "      <td>female</td>\n",
       "      <td>22.0</td>\n",
       "      <td>0</td>\n",
       "      <td>1</td>\n",
       "      <td>61.9792</td>\n",
       "      <td>C</td>\n",
       "      <td>test</td>\n",
       "      <td>NaN</td>\n",
       "      <td>0</td>\n",
       "      <td>Miss</td>\n",
       "      <td>female_under_50</td>\n",
       "      <td>Greater than or equal to $50</td>\n",
       "    </tr>\n",
       "    <tr>\n",
       "      <th>4</th>\n",
       "      <td>1</td>\n",
       "      <td>female</td>\n",
       "      <td>28.0</td>\n",
       "      <td>3</td>\n",
       "      <td>2</td>\n",
       "      <td>263.0000</td>\n",
       "      <td>S</td>\n",
       "      <td>test</td>\n",
       "      <td>NaN</td>\n",
       "      <td>0</td>\n",
       "      <td>Miss</td>\n",
       "      <td>female_under_50</td>\n",
       "      <td>Greater than or equal to $50</td>\n",
       "    </tr>\n",
       "    <tr>\n",
       "      <th>...</th>\n",
       "      <td>...</td>\n",
       "      <td>...</td>\n",
       "      <td>...</td>\n",
       "      <td>...</td>\n",
       "      <td>...</td>\n",
       "      <td>...</td>\n",
       "      <td>...</td>\n",
       "      <td>...</td>\n",
       "      <td>...</td>\n",
       "      <td>...</td>\n",
       "      <td>...</td>\n",
       "      <td>...</td>\n",
       "      <td>...</td>\n",
       "    </tr>\n",
       "    <tr>\n",
       "      <th>1304</th>\n",
       "      <td>2</td>\n",
       "      <td>male</td>\n",
       "      <td>54.0</td>\n",
       "      <td>1</td>\n",
       "      <td>0</td>\n",
       "      <td>26.0000</td>\n",
       "      <td>S</td>\n",
       "      <td>train</td>\n",
       "      <td>0.0</td>\n",
       "      <td>0</td>\n",
       "      <td>Rev</td>\n",
       "      <td>male_over_17</td>\n",
       "      <td>Less than $50</td>\n",
       "    </tr>\n",
       "    <tr>\n",
       "      <th>1305</th>\n",
       "      <td>2</td>\n",
       "      <td>male</td>\n",
       "      <td>57.0</td>\n",
       "      <td>0</td>\n",
       "      <td>0</td>\n",
       "      <td>12.3500</td>\n",
       "      <td>Q</td>\n",
       "      <td>train</td>\n",
       "      <td>0.0</td>\n",
       "      <td>0</td>\n",
       "      <td>Rev</td>\n",
       "      <td>male_over_17</td>\n",
       "      <td>Less than $50</td>\n",
       "    </tr>\n",
       "    <tr>\n",
       "      <th>1306</th>\n",
       "      <td>2</td>\n",
       "      <td>male</td>\n",
       "      <td>28.0</td>\n",
       "      <td>0</td>\n",
       "      <td>1</td>\n",
       "      <td>33.0000</td>\n",
       "      <td>S</td>\n",
       "      <td>train</td>\n",
       "      <td>0.0</td>\n",
       "      <td>0</td>\n",
       "      <td>Rev</td>\n",
       "      <td>male_over_17</td>\n",
       "      <td>Less than $50</td>\n",
       "    </tr>\n",
       "    <tr>\n",
       "      <th>1307</th>\n",
       "      <td>2</td>\n",
       "      <td>male</td>\n",
       "      <td>27.0</td>\n",
       "      <td>0</td>\n",
       "      <td>0</td>\n",
       "      <td>13.0000</td>\n",
       "      <td>S</td>\n",
       "      <td>train</td>\n",
       "      <td>0.0</td>\n",
       "      <td>0</td>\n",
       "      <td>Rev</td>\n",
       "      <td>male_over_17</td>\n",
       "      <td>Less than $50</td>\n",
       "    </tr>\n",
       "    <tr>\n",
       "      <th>1308</th>\n",
       "      <td>1</td>\n",
       "      <td>male</td>\n",
       "      <td>49.0</td>\n",
       "      <td>1</td>\n",
       "      <td>0</td>\n",
       "      <td>56.9292</td>\n",
       "      <td>C</td>\n",
       "      <td>train</td>\n",
       "      <td>1.0</td>\n",
       "      <td>0</td>\n",
       "      <td>Sir</td>\n",
       "      <td>male_over_17</td>\n",
       "      <td>Greater than or equal to $50</td>\n",
       "    </tr>\n",
       "  </tbody>\n",
       "</table>\n",
       "<p>1309 rows × 13 columns</p>\n",
       "</div>"
      ],
      "text/plain": [
       "      Pclass     Sex   Age  SibSp  Parch      Fare Embarked  Label  Survived  \\\n",
       "0          1  female  39.0      0      0  108.9000        C   test       NaN   \n",
       "1          1  female  49.0      0      0   25.9292        S  train       1.0   \n",
       "2          1  female  48.0      1      0   39.6000        C  train       1.0   \n",
       "3          1  female  22.0      0      1   61.9792        C   test       NaN   \n",
       "4          1  female  28.0      3      2  263.0000        S   test       NaN   \n",
       "...      ...     ...   ...    ...    ...       ...      ...    ...       ...   \n",
       "1304       2    male  54.0      1      0   26.0000        S  train       0.0   \n",
       "1305       2    male  57.0      0      0   12.3500        Q  train       0.0   \n",
       "1306       2    male  28.0      0      1   33.0000        S  train       0.0   \n",
       "1307       2    male  27.0      0      0   13.0000        S  train       0.0   \n",
       "1308       1    male  49.0      1      0   56.9292        C  train       1.0   \n",
       "\n",
       "      Total Prefix         Age_Bins                     Fare_Bins  \n",
       "0         0   Dona  female_under_50  Greater than or equal to $50  \n",
       "1         0     Dr  female_under_50                 Less than $50  \n",
       "2         0   Lady  female_under_50                 Less than $50  \n",
       "3         0   Miss  female_under_50  Greater than or equal to $50  \n",
       "4         0   Miss  female_under_50  Greater than or equal to $50  \n",
       "...     ...    ...              ...                           ...  \n",
       "1304      0    Rev     male_over_17                 Less than $50  \n",
       "1305      0    Rev     male_over_17                 Less than $50  \n",
       "1306      0    Rev     male_over_17                 Less than $50  \n",
       "1307      0    Rev     male_over_17                 Less than $50  \n",
       "1308      0    Sir     male_over_17  Greater than or equal to $50  \n",
       "\n",
       "[1309 rows x 13 columns]"
      ]
     },
     "execution_count": 12,
     "metadata": {},
     "output_type": "execute_result"
    }
   ],
   "source": [
    "df"
   ]
  },
  {
   "cell_type": "code",
   "execution_count": 13,
   "metadata": {
    "ExecuteTime": {
     "end_time": "2021-01-14T13:52:03.113896Z",
     "start_time": "2021-01-14T13:52:03.098945Z"
    }
   },
   "outputs": [
    {
     "name": "stdout",
     "output_type": "stream",
     "text": [
      "Column Pclass has 0 missing values out of 1309.  0%\n",
      "Column Sex has 0 missing values out of 1309.  0%\n",
      "Column Age has 0 missing values out of 1309.  0%\n",
      "Column SibSp has 0 missing values out of 1309.  0%\n",
      "Column Parch has 0 missing values out of 1309.  0%\n",
      "Column Fare has 1 missing values out of 1309.  0%\n",
      "Column Embarked has 2 missing values out of 1309.  0%\n",
      "Column Label has 0 missing values out of 1309.  0%\n",
      "Column Survived has 418 missing values out of 1309.  31%\n",
      "Column Total has 0 missing values out of 1309.  0%\n",
      "Column Prefix has 0 missing values out of 1309.  0%\n",
      "Column Age_Bins has 0 missing values out of 1309.  0%\n",
      "Column Fare_Bins has 1 missing values out of 1309.  0%\n"
     ]
    }
   ],
   "source": [
    "identify_blanks(df)"
   ]
  },
  {
   "cell_type": "code",
   "execution_count": 14,
   "metadata": {
    "ExecuteTime": {
     "end_time": "2021-01-14T13:52:08.938544Z",
     "start_time": "2021-01-14T13:52:08.923584Z"
    }
   },
   "outputs": [
    {
     "data": {
      "text/html": [
       "<div>\n",
       "<style scoped>\n",
       "    .dataframe tbody tr th:only-of-type {\n",
       "        vertical-align: middle;\n",
       "    }\n",
       "\n",
       "    .dataframe tbody tr th {\n",
       "        vertical-align: top;\n",
       "    }\n",
       "\n",
       "    .dataframe thead th {\n",
       "        text-align: right;\n",
       "    }\n",
       "</style>\n",
       "<table border=\"1\" class=\"dataframe\">\n",
       "  <thead>\n",
       "    <tr style=\"text-align: right;\">\n",
       "      <th></th>\n",
       "      <th>Pclass</th>\n",
       "      <th>Sex</th>\n",
       "      <th>Age</th>\n",
       "      <th>SibSp</th>\n",
       "      <th>Parch</th>\n",
       "      <th>Fare</th>\n",
       "      <th>Embarked</th>\n",
       "      <th>Label</th>\n",
       "      <th>Survived</th>\n",
       "      <th>Total</th>\n",
       "      <th>Prefix</th>\n",
       "      <th>Age_Bins</th>\n",
       "      <th>Fare_Bins</th>\n",
       "    </tr>\n",
       "  </thead>\n",
       "  <tbody>\n",
       "    <tr>\n",
       "      <th>904</th>\n",
       "      <td>3</td>\n",
       "      <td>male</td>\n",
       "      <td>60.5</td>\n",
       "      <td>0</td>\n",
       "      <td>0</td>\n",
       "      <td>NaN</td>\n",
       "      <td>S</td>\n",
       "      <td>test</td>\n",
       "      <td>NaN</td>\n",
       "      <td>0</td>\n",
       "      <td>Mr</td>\n",
       "      <td>male_over_17</td>\n",
       "      <td>NaN</td>\n",
       "    </tr>\n",
       "  </tbody>\n",
       "</table>\n",
       "</div>"
      ],
      "text/plain": [
       "     Pclass   Sex   Age  SibSp  Parch  Fare Embarked Label  Survived  Total  \\\n",
       "904       3  male  60.5      0      0   NaN        S  test       NaN      0   \n",
       "\n",
       "    Prefix      Age_Bins Fare_Bins  \n",
       "904     Mr  male_over_17       NaN  "
      ]
     },
     "execution_count": 14,
     "metadata": {},
     "output_type": "execute_result"
    }
   ],
   "source": [
    "df.loc[df['Fare_Bins'].isnull()]"
   ]
  },
  {
   "cell_type": "code",
   "execution_count": null,
   "metadata": {},
   "outputs": [],
   "source": []
  }
 ],
 "metadata": {
  "hide_input": false,
  "kernelspec": {
   "display_name": "Python 3",
   "language": "python",
   "name": "python3"
  },
  "language_info": {
   "codemirror_mode": {
    "name": "ipython",
    "version": 3
   },
   "file_extension": ".py",
   "mimetype": "text/x-python",
   "name": "python",
   "nbconvert_exporter": "python",
   "pygments_lexer": "ipython3",
   "version": "3.7.3"
  },
  "toc": {
   "base_numbering": 1,
   "nav_menu": {},
   "number_sections": true,
   "sideBar": true,
   "skip_h1_title": false,
   "title_cell": "Table of Contents",
   "title_sidebar": "Contents",
   "toc_cell": false,
   "toc_position": {},
   "toc_section_display": true,
   "toc_window_display": false
  },
  "varInspector": {
   "cols": {
    "lenName": 16,
    "lenType": 16,
    "lenVar": 40
   },
   "kernels_config": {
    "python": {
     "delete_cmd_postfix": "",
     "delete_cmd_prefix": "del ",
     "library": "var_list.py",
     "varRefreshCmd": "print(var_dic_list())"
    },
    "r": {
     "delete_cmd_postfix": ") ",
     "delete_cmd_prefix": "rm(",
     "library": "var_list.r",
     "varRefreshCmd": "cat(var_dic_list()) "
    }
   },
   "types_to_exclude": [
    "module",
    "function",
    "builtin_function_or_method",
    "instance",
    "_Feature"
   ],
   "window_display": false
  }
 },
 "nbformat": 4,
 "nbformat_minor": 2
}
