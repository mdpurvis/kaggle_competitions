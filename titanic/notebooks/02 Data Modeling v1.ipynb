{
 "cells": [
  {
   "cell_type": "markdown",
   "metadata": {},
   "source": [
    "# Chapter 2: Begin Machine Learning"
   ]
  },
  {
   "cell_type": "markdown",
   "metadata": {},
   "source": [
    "## Split the data in to train and test\n",
    "## Train the model on the training data\n",
    "## Use the trained model to predict values on the testing data\n",
    "## Measure mdoel performance on the testing data"
   ]
  },
  {
   "cell_type": "code",
   "execution_count": 119,
   "metadata": {
    "ExecuteTime": {
     "end_time": "2021-01-14T15:39:46.575473Z",
     "start_time": "2021-01-14T15:39:46.161582Z"
    }
   },
   "outputs": [],
   "source": [
    "## Load Data\n",
    "\n",
    "import pandas as pd\n",
    "import numpy as np\n",
    "import matplotlib.pyplot as plt\n",
    "%matplotlib inline\n",
    "import seaborn as sns\n",
    "from sklearn.preprocessing import StandardScaler\n",
    "import warnings\n",
    "warnings.filterwarnings('ignore')\n",
    "\n",
    "plt.rcParams['figure.figsize'] =(15,5)\n",
    "\n",
    "import sys\n",
    "sys.path.insert(1, '../src/')\n",
    "from titanic import *"
   ]
  },
  {
   "cell_type": "code",
   "execution_count": 87,
   "metadata": {
    "ExecuteTime": {
     "end_time": "2021-01-14T15:37:49.631207Z",
     "start_time": "2021-01-14T15:37:49.614278Z"
    }
   },
   "outputs": [],
   "source": [
    "def identify_blanks(df):\n",
    "    t = len(df)\n",
    "    for each in df.columns:\n",
    "        i = len(df.loc[df[each].isnull()])\n",
    "        pct = int((i/t)*100)\n",
    "        print(f'Column {each} has {i} missing values out of {t}.  {pct}%')"
   ]
  },
  {
   "cell_type": "code",
   "execution_count": 88,
   "metadata": {
    "ExecuteTime": {
     "end_time": "2021-01-14T15:37:49.768353Z",
     "start_time": "2021-01-14T15:37:49.635197Z"
    }
   },
   "outputs": [],
   "source": [
    "#Load in modified dataset\n",
    "df = pd.read_csv('../data/modified/df4.csv')\n",
    "df.drop(columns='Unnamed: 0', inplace=True)"
   ]
  },
  {
   "cell_type": "code",
   "execution_count": 89,
   "metadata": {
    "ExecuteTime": {
     "end_time": "2021-01-14T15:37:49.788814Z",
     "start_time": "2021-01-14T15:37:49.778327Z"
    }
   },
   "outputs": [],
   "source": [
    "df = df[['Pclass', 'Sex', 'Age', 'SibSp', 'Parch', 'Fare', 'Label',\n",
    "       'Survived', 'Prefix', 'Age_Bins', 'Fare_Bins']]"
   ]
  },
  {
   "cell_type": "code",
   "execution_count": 90,
   "metadata": {
    "ExecuteTime": {
     "end_time": "2021-01-14T15:37:49.869599Z",
     "start_time": "2021-01-14T15:37:49.802777Z"
    }
   },
   "outputs": [
    {
     "name": "stdout",
     "output_type": "stream",
     "text": [
      "Column Pclass has 0 missing values out of 1309.  0%\n",
      "Column Sex has 0 missing values out of 1309.  0%\n",
      "Column Age has 0 missing values out of 1309.  0%\n",
      "Column SibSp has 0 missing values out of 1309.  0%\n",
      "Column Parch has 0 missing values out of 1309.  0%\n",
      "Column Fare has 0 missing values out of 1309.  0%\n",
      "Column Label has 0 missing values out of 1309.  0%\n",
      "Column Survived has 418 missing values out of 1309.  31%\n",
      "Column Prefix has 0 missing values out of 1309.  0%\n",
      "Column Age_Bins has 0 missing values out of 1309.  0%\n",
      "Column Fare_Bins has 0 missing values out of 1309.  0%\n"
     ]
    }
   ],
   "source": [
    "identify_blanks(df)"
   ]
  },
  {
   "cell_type": "code",
   "execution_count": 91,
   "metadata": {
    "ExecuteTime": {
     "end_time": "2021-01-14T15:37:49.936979Z",
     "start_time": "2021-01-14T15:37:49.902028Z"
    },
    "cell_style": "split"
   },
   "outputs": [
    {
     "data": {
      "text/html": [
       "<div>\n",
       "<style scoped>\n",
       "    .dataframe tbody tr th:only-of-type {\n",
       "        vertical-align: middle;\n",
       "    }\n",
       "\n",
       "    .dataframe tbody tr th {\n",
       "        vertical-align: top;\n",
       "    }\n",
       "\n",
       "    .dataframe thead th {\n",
       "        text-align: right;\n",
       "    }\n",
       "</style>\n",
       "<table border=\"1\" class=\"dataframe\">\n",
       "  <thead>\n",
       "    <tr style=\"text-align: right;\">\n",
       "      <th></th>\n",
       "      <th>Pclass</th>\n",
       "      <th>Age</th>\n",
       "      <th>SibSp</th>\n",
       "      <th>Parch</th>\n",
       "      <th>Fare</th>\n",
       "      <th>Survived</th>\n",
       "    </tr>\n",
       "  </thead>\n",
       "  <tbody>\n",
       "    <tr>\n",
       "      <th>0</th>\n",
       "      <td>1</td>\n",
       "      <td>70.0</td>\n",
       "      <td>1</td>\n",
       "      <td>1</td>\n",
       "      <td>71.0</td>\n",
       "      <td>0.0</td>\n",
       "    </tr>\n",
       "    <tr>\n",
       "      <th>1</th>\n",
       "      <td>1</td>\n",
       "      <td>53.0</td>\n",
       "      <td>0</td>\n",
       "      <td>0</td>\n",
       "      <td>28.5</td>\n",
       "      <td>NaN</td>\n",
       "    </tr>\n",
       "  </tbody>\n",
       "</table>\n",
       "</div>"
      ],
      "text/plain": [
       "   Pclass   Age  SibSp  Parch  Fare  Survived\n",
       "0       1  70.0      1      1  71.0       0.0\n",
       "1       1  53.0      0      0  28.5       NaN"
      ]
     },
     "execution_count": 91,
     "metadata": {},
     "output_type": "execute_result"
    }
   ],
   "source": [
    "df.select_dtypes('number').head(2)"
   ]
  },
  {
   "cell_type": "code",
   "execution_count": 92,
   "metadata": {
    "ExecuteTime": {
     "end_time": "2021-01-14T15:37:49.976926Z",
     "start_time": "2021-01-14T15:37:49.942964Z"
    },
    "cell_style": "split"
   },
   "outputs": [
    {
     "data": {
      "text/html": [
       "<div>\n",
       "<style scoped>\n",
       "    .dataframe tbody tr th:only-of-type {\n",
       "        vertical-align: middle;\n",
       "    }\n",
       "\n",
       "    .dataframe tbody tr th {\n",
       "        vertical-align: top;\n",
       "    }\n",
       "\n",
       "    .dataframe thead th {\n",
       "        text-align: right;\n",
       "    }\n",
       "</style>\n",
       "<table border=\"1\" class=\"dataframe\">\n",
       "  <thead>\n",
       "    <tr style=\"text-align: right;\">\n",
       "      <th></th>\n",
       "      <th>Sex</th>\n",
       "      <th>Label</th>\n",
       "      <th>Prefix</th>\n",
       "      <th>Age_Bins</th>\n",
       "      <th>Fare_Bins</th>\n",
       "    </tr>\n",
       "  </thead>\n",
       "  <tbody>\n",
       "    <tr>\n",
       "      <th>0</th>\n",
       "      <td>male</td>\n",
       "      <td>train</td>\n",
       "      <td>Capt</td>\n",
       "      <td>male_over_17</td>\n",
       "      <td>Greater than or equal to $50</td>\n",
       "    </tr>\n",
       "    <tr>\n",
       "      <th>1</th>\n",
       "      <td>male</td>\n",
       "      <td>test</td>\n",
       "      <td>Col</td>\n",
       "      <td>male_over_17</td>\n",
       "      <td>Less than $50</td>\n",
       "    </tr>\n",
       "  </tbody>\n",
       "</table>\n",
       "</div>"
      ],
      "text/plain": [
       "    Sex  Label Prefix      Age_Bins                     Fare_Bins\n",
       "0  male  train   Capt  male_over_17  Greater than or equal to $50\n",
       "1  male   test    Col  male_over_17                 Less than $50"
      ]
     },
     "execution_count": 92,
     "metadata": {},
     "output_type": "execute_result"
    }
   ],
   "source": [
    "df.select_dtypes('object').head(2)"
   ]
  },
  {
   "cell_type": "code",
   "execution_count": 93,
   "metadata": {
    "ExecuteTime": {
     "end_time": "2021-01-14T15:37:49.997870Z",
     "start_time": "2021-01-14T15:37:49.982911Z"
    }
   },
   "outputs": [],
   "source": [
    "ea = ['Pclass', 'SibSp', 'Parch', 'Survived']\n",
    "\n",
    "for ea in ea:\n",
    "    df[ea] = df[ea].astype('object')"
   ]
  },
  {
   "cell_type": "code",
   "execution_count": 94,
   "metadata": {
    "ExecuteTime": {
     "end_time": "2021-01-14T15:37:50.023318Z",
     "start_time": "2021-01-14T15:37:50.002857Z"
    },
    "cell_style": "center"
   },
   "outputs": [
    {
     "data": {
      "text/html": [
       "<div>\n",
       "<style scoped>\n",
       "    .dataframe tbody tr th:only-of-type {\n",
       "        vertical-align: middle;\n",
       "    }\n",
       "\n",
       "    .dataframe tbody tr th {\n",
       "        vertical-align: top;\n",
       "    }\n",
       "\n",
       "    .dataframe thead th {\n",
       "        text-align: right;\n",
       "    }\n",
       "</style>\n",
       "<table border=\"1\" class=\"dataframe\">\n",
       "  <thead>\n",
       "    <tr style=\"text-align: right;\">\n",
       "      <th></th>\n",
       "      <th>Age</th>\n",
       "      <th>Fare</th>\n",
       "    </tr>\n",
       "  </thead>\n",
       "  <tbody>\n",
       "    <tr>\n",
       "      <th>0</th>\n",
       "      <td>70.0</td>\n",
       "      <td>71.0</td>\n",
       "    </tr>\n",
       "    <tr>\n",
       "      <th>1</th>\n",
       "      <td>53.0</td>\n",
       "      <td>28.5</td>\n",
       "    </tr>\n",
       "  </tbody>\n",
       "</table>\n",
       "</div>"
      ],
      "text/plain": [
       "    Age  Fare\n",
       "0  70.0  71.0\n",
       "1  53.0  28.5"
      ]
     },
     "execution_count": 94,
     "metadata": {},
     "output_type": "execute_result"
    }
   ],
   "source": [
    "df.select_dtypes('number').head(2)"
   ]
  },
  {
   "cell_type": "code",
   "execution_count": 95,
   "metadata": {
    "ExecuteTime": {
     "end_time": "2021-01-14T15:37:50.057228Z",
     "start_time": "2021-01-14T15:37:50.028304Z"
    },
    "cell_style": "center"
   },
   "outputs": [
    {
     "data": {
      "text/html": [
       "<div>\n",
       "<style scoped>\n",
       "    .dataframe tbody tr th:only-of-type {\n",
       "        vertical-align: middle;\n",
       "    }\n",
       "\n",
       "    .dataframe tbody tr th {\n",
       "        vertical-align: top;\n",
       "    }\n",
       "\n",
       "    .dataframe thead th {\n",
       "        text-align: right;\n",
       "    }\n",
       "</style>\n",
       "<table border=\"1\" class=\"dataframe\">\n",
       "  <thead>\n",
       "    <tr style=\"text-align: right;\">\n",
       "      <th></th>\n",
       "      <th>Pclass</th>\n",
       "      <th>Sex</th>\n",
       "      <th>SibSp</th>\n",
       "      <th>Parch</th>\n",
       "      <th>Label</th>\n",
       "      <th>Survived</th>\n",
       "      <th>Prefix</th>\n",
       "      <th>Age_Bins</th>\n",
       "      <th>Fare_Bins</th>\n",
       "    </tr>\n",
       "  </thead>\n",
       "  <tbody>\n",
       "    <tr>\n",
       "      <th>0</th>\n",
       "      <td>1</td>\n",
       "      <td>male</td>\n",
       "      <td>1</td>\n",
       "      <td>1</td>\n",
       "      <td>train</td>\n",
       "      <td>0</td>\n",
       "      <td>Capt</td>\n",
       "      <td>male_over_17</td>\n",
       "      <td>Greater than or equal to $50</td>\n",
       "    </tr>\n",
       "    <tr>\n",
       "      <th>1</th>\n",
       "      <td>1</td>\n",
       "      <td>male</td>\n",
       "      <td>0</td>\n",
       "      <td>0</td>\n",
       "      <td>test</td>\n",
       "      <td>NaN</td>\n",
       "      <td>Col</td>\n",
       "      <td>male_over_17</td>\n",
       "      <td>Less than $50</td>\n",
       "    </tr>\n",
       "  </tbody>\n",
       "</table>\n",
       "</div>"
      ],
      "text/plain": [
       "  Pclass   Sex SibSp Parch  Label Survived Prefix      Age_Bins  \\\n",
       "0      1  male     1     1  train        0   Capt  male_over_17   \n",
       "1      1  male     0     0   test      NaN    Col  male_over_17   \n",
       "\n",
       "                      Fare_Bins  \n",
       "0  Greater than or equal to $50  \n",
       "1                 Less than $50  "
      ]
     },
     "execution_count": 95,
     "metadata": {},
     "output_type": "execute_result"
    }
   ],
   "source": [
    "df.select_dtypes('object').head(2)"
   ]
  },
  {
   "cell_type": "code",
   "execution_count": 96,
   "metadata": {
    "ExecuteTime": {
     "end_time": "2021-01-14T15:37:50.083157Z",
     "start_time": "2021-01-14T15:37:50.065206Z"
    }
   },
   "outputs": [],
   "source": [
    "# group the categorical columns together\n",
    "categorical = list(df.select_dtypes('object'))\n",
    "numerical = list(df.select_dtypes('number'))"
   ]
  },
  {
   "cell_type": "code",
   "execution_count": 97,
   "metadata": {
    "ExecuteTime": {
     "end_time": "2021-01-14T15:37:50.134022Z",
     "start_time": "2021-01-14T15:37:50.089143Z"
    }
   },
   "outputs": [
    {
     "data": {
      "text/html": [
       "<div>\n",
       "<style scoped>\n",
       "    .dataframe tbody tr th:only-of-type {\n",
       "        vertical-align: middle;\n",
       "    }\n",
       "\n",
       "    .dataframe tbody tr th {\n",
       "        vertical-align: top;\n",
       "    }\n",
       "\n",
       "    .dataframe thead th {\n",
       "        text-align: right;\n",
       "    }\n",
       "</style>\n",
       "<table border=\"1\" class=\"dataframe\">\n",
       "  <thead>\n",
       "    <tr style=\"text-align: right;\">\n",
       "      <th></th>\n",
       "      <th>Pclass</th>\n",
       "      <th>Sex</th>\n",
       "      <th>Age</th>\n",
       "      <th>SibSp</th>\n",
       "      <th>Parch</th>\n",
       "      <th>Fare</th>\n",
       "      <th>Label</th>\n",
       "      <th>Survived</th>\n",
       "      <th>Prefix</th>\n",
       "      <th>Age_Bins</th>\n",
       "      <th>Fare_Bins</th>\n",
       "    </tr>\n",
       "  </thead>\n",
       "  <tbody>\n",
       "    <tr>\n",
       "      <th>0</th>\n",
       "      <td>1</td>\n",
       "      <td>male</td>\n",
       "      <td>70.0</td>\n",
       "      <td>1</td>\n",
       "      <td>1</td>\n",
       "      <td>71.0</td>\n",
       "      <td>train</td>\n",
       "      <td>0</td>\n",
       "      <td>Capt</td>\n",
       "      <td>male_over_17</td>\n",
       "      <td>Greater than or equal to $50</td>\n",
       "    </tr>\n",
       "    <tr>\n",
       "      <th>1</th>\n",
       "      <td>1</td>\n",
       "      <td>male</td>\n",
       "      <td>53.0</td>\n",
       "      <td>0</td>\n",
       "      <td>0</td>\n",
       "      <td>28.5</td>\n",
       "      <td>test</td>\n",
       "      <td>NaN</td>\n",
       "      <td>Col</td>\n",
       "      <td>male_over_17</td>\n",
       "      <td>Less than $50</td>\n",
       "    </tr>\n",
       "  </tbody>\n",
       "</table>\n",
       "</div>"
      ],
      "text/plain": [
       "  Pclass   Sex   Age SibSp Parch  Fare  Label Survived Prefix      Age_Bins  \\\n",
       "0      1  male  70.0     1     1  71.0  train        0   Capt  male_over_17   \n",
       "1      1  male  53.0     0     0  28.5   test      NaN    Col  male_over_17   \n",
       "\n",
       "                      Fare_Bins  \n",
       "0  Greater than or equal to $50  \n",
       "1                 Less than $50  "
      ]
     },
     "execution_count": 97,
     "metadata": {},
     "output_type": "execute_result"
    }
   ],
   "source": [
    "df.head(2)"
   ]
  },
  {
   "cell_type": "code",
   "execution_count": 98,
   "metadata": {
    "ExecuteTime": {
     "end_time": "2021-01-14T15:37:50.156963Z",
     "start_time": "2021-01-14T15:37:50.140006Z"
    }
   },
   "outputs": [],
   "source": [
    "# group the categorical columns together\n",
    "categorical = list(df.select_dtypes('object'))\n",
    "numerical = list(df.select_dtypes('number'))"
   ]
  },
  {
   "cell_type": "code",
   "execution_count": 99,
   "metadata": {
    "ExecuteTime": {
     "end_time": "2021-01-14T15:37:50.182890Z",
     "start_time": "2021-01-14T15:37:50.161947Z"
    }
   },
   "outputs": [
    {
     "name": "stdout",
     "output_type": "stream",
     "text": [
      "<class 'pandas.core.frame.DataFrame'>\n",
      "RangeIndex: 1309 entries, 0 to 1308\n",
      "Data columns (total 2 columns):\n",
      " #   Column  Non-Null Count  Dtype  \n",
      "---  ------  --------------  -----  \n",
      " 0   Age     1309 non-null   float64\n",
      " 1   Fare    1309 non-null   float64\n",
      "dtypes: float64(2)\n",
      "memory usage: 20.6 KB\n"
     ]
    }
   ],
   "source": [
    "df[numerical].info()"
   ]
  },
  {
   "cell_type": "code",
   "execution_count": 100,
   "metadata": {
    "ExecuteTime": {
     "end_time": "2021-01-14T15:37:50.208822Z",
     "start_time": "2021-01-14T15:37:50.188876Z"
    }
   },
   "outputs": [],
   "source": [
    "# Create scaler\n",
    "scaler = StandardScaler()\n",
    "# Transform the feature\n",
    "standardized = scaler.fit_transform (df[numerical])\n",
    "standardized_df = pd.DataFrame(standardized, columns=['Age', 'Fare'])"
   ]
  },
  {
   "cell_type": "code",
   "execution_count": 101,
   "metadata": {
    "ExecuteTime": {
     "end_time": "2021-01-14T15:37:50.237746Z",
     "start_time": "2021-01-14T15:37:50.214808Z"
    }
   },
   "outputs": [
    {
     "data": {
      "text/html": [
       "<div>\n",
       "<style scoped>\n",
       "    .dataframe tbody tr th:only-of-type {\n",
       "        vertical-align: middle;\n",
       "    }\n",
       "\n",
       "    .dataframe tbody tr th {\n",
       "        vertical-align: top;\n",
       "    }\n",
       "\n",
       "    .dataframe thead th {\n",
       "        text-align: right;\n",
       "    }\n",
       "</style>\n",
       "<table border=\"1\" class=\"dataframe\">\n",
       "  <thead>\n",
       "    <tr style=\"text-align: right;\">\n",
       "      <th></th>\n",
       "      <th>Age</th>\n",
       "      <th>Fare</th>\n",
       "    </tr>\n",
       "  </thead>\n",
       "  <tbody>\n",
       "    <tr>\n",
       "      <th>0</th>\n",
       "      <td>3.020552</td>\n",
       "      <td>0.729301</td>\n",
       "    </tr>\n",
       "    <tr>\n",
       "      <th>1</th>\n",
       "      <td>1.752110</td>\n",
       "      <td>-0.092387</td>\n",
       "    </tr>\n",
       "  </tbody>\n",
       "</table>\n",
       "</div>"
      ],
      "text/plain": [
       "        Age      Fare\n",
       "0  3.020552  0.729301\n",
       "1  1.752110 -0.092387"
      ]
     },
     "execution_count": 101,
     "metadata": {},
     "output_type": "execute_result"
    }
   ],
   "source": [
    "standardized_df.head(2)"
   ]
  },
  {
   "cell_type": "code",
   "execution_count": 102,
   "metadata": {
    "ExecuteTime": {
     "end_time": "2021-01-14T15:37:50.254699Z",
     "start_time": "2021-01-14T15:37:50.242732Z"
    }
   },
   "outputs": [],
   "source": [
    "# Drop the non- scaled numerical columns\n",
    "df = df.drop(columns = numerical, axis = 1)"
   ]
  },
  {
   "cell_type": "code",
   "execution_count": 103,
   "metadata": {
    "ExecuteTime": {
     "end_time": "2021-01-14T15:37:50.321520Z",
     "start_time": "2021-01-14T15:37:50.288609Z"
    },
    "cell_style": "split"
   },
   "outputs": [
    {
     "data": {
      "text/html": [
       "<div>\n",
       "<style scoped>\n",
       "    .dataframe tbody tr th:only-of-type {\n",
       "        vertical-align: middle;\n",
       "    }\n",
       "\n",
       "    .dataframe tbody tr th {\n",
       "        vertical-align: top;\n",
       "    }\n",
       "\n",
       "    .dataframe thead th {\n",
       "        text-align: right;\n",
       "    }\n",
       "</style>\n",
       "<table border=\"1\" class=\"dataframe\">\n",
       "  <thead>\n",
       "    <tr style=\"text-align: right;\">\n",
       "      <th></th>\n",
       "      <th>Pclass</th>\n",
       "      <th>Sex</th>\n",
       "      <th>SibSp</th>\n",
       "      <th>Parch</th>\n",
       "      <th>Label</th>\n",
       "      <th>Survived</th>\n",
       "      <th>Prefix</th>\n",
       "      <th>Age_Bins</th>\n",
       "      <th>Fare_Bins</th>\n",
       "    </tr>\n",
       "  </thead>\n",
       "  <tbody>\n",
       "    <tr>\n",
       "      <th>0</th>\n",
       "      <td>1</td>\n",
       "      <td>male</td>\n",
       "      <td>1</td>\n",
       "      <td>1</td>\n",
       "      <td>train</td>\n",
       "      <td>0</td>\n",
       "      <td>Capt</td>\n",
       "      <td>male_over_17</td>\n",
       "      <td>Greater than or equal to $50</td>\n",
       "    </tr>\n",
       "    <tr>\n",
       "      <th>1</th>\n",
       "      <td>1</td>\n",
       "      <td>male</td>\n",
       "      <td>0</td>\n",
       "      <td>0</td>\n",
       "      <td>test</td>\n",
       "      <td>NaN</td>\n",
       "      <td>Col</td>\n",
       "      <td>male_over_17</td>\n",
       "      <td>Less than $50</td>\n",
       "    </tr>\n",
       "  </tbody>\n",
       "</table>\n",
       "</div>"
      ],
      "text/plain": [
       "  Pclass   Sex SibSp Parch  Label Survived Prefix      Age_Bins  \\\n",
       "0      1  male     1     1  train        0   Capt  male_over_17   \n",
       "1      1  male     0     0   test      NaN    Col  male_over_17   \n",
       "\n",
       "                      Fare_Bins  \n",
       "0  Greater than or equal to $50  \n",
       "1                 Less than $50  "
      ]
     },
     "execution_count": 103,
     "metadata": {},
     "output_type": "execute_result"
    }
   ],
   "source": [
    "df.head(2)"
   ]
  },
  {
   "cell_type": "code",
   "execution_count": 104,
   "metadata": {
    "ExecuteTime": {
     "end_time": "2021-01-14T15:37:50.360416Z",
     "start_time": "2021-01-14T15:37:50.344459Z"
    },
    "cell_style": "split"
   },
   "outputs": [
    {
     "data": {
      "text/html": [
       "<div>\n",
       "<style scoped>\n",
       "    .dataframe tbody tr th:only-of-type {\n",
       "        vertical-align: middle;\n",
       "    }\n",
       "\n",
       "    .dataframe tbody tr th {\n",
       "        vertical-align: top;\n",
       "    }\n",
       "\n",
       "    .dataframe thead th {\n",
       "        text-align: right;\n",
       "    }\n",
       "</style>\n",
       "<table border=\"1\" class=\"dataframe\">\n",
       "  <thead>\n",
       "    <tr style=\"text-align: right;\">\n",
       "      <th></th>\n",
       "      <th>Age</th>\n",
       "      <th>Fare</th>\n",
       "    </tr>\n",
       "  </thead>\n",
       "  <tbody>\n",
       "    <tr>\n",
       "      <th>0</th>\n",
       "      <td>3.020552</td>\n",
       "      <td>0.729301</td>\n",
       "    </tr>\n",
       "    <tr>\n",
       "      <th>1</th>\n",
       "      <td>1.752110</td>\n",
       "      <td>-0.092387</td>\n",
       "    </tr>\n",
       "  </tbody>\n",
       "</table>\n",
       "</div>"
      ],
      "text/plain": [
       "        Age      Fare\n",
       "0  3.020552  0.729301\n",
       "1  1.752110 -0.092387"
      ]
     },
     "execution_count": 104,
     "metadata": {},
     "output_type": "execute_result"
    }
   ],
   "source": [
    "standardized_df.head(2)"
   ]
  },
  {
   "cell_type": "code",
   "execution_count": 105,
   "metadata": {
    "ExecuteTime": {
     "end_time": "2021-01-14T15:37:50.376373Z",
     "start_time": "2021-01-14T15:37:50.365403Z"
    }
   },
   "outputs": [],
   "source": [
    "# Merge the non-numerical and the scaled numerical columns\n",
    "df1 = pd.merge(df,standardized_df, left_index=True, right_index=True, how = 'left')"
   ]
  },
  {
   "cell_type": "code",
   "execution_count": 106,
   "metadata": {
    "ExecuteTime": {
     "end_time": "2021-01-14T15:37:50.412277Z",
     "start_time": "2021-01-14T15:37:50.380362Z"
    }
   },
   "outputs": [
    {
     "data": {
      "text/html": [
       "<div>\n",
       "<style scoped>\n",
       "    .dataframe tbody tr th:only-of-type {\n",
       "        vertical-align: middle;\n",
       "    }\n",
       "\n",
       "    .dataframe tbody tr th {\n",
       "        vertical-align: top;\n",
       "    }\n",
       "\n",
       "    .dataframe thead th {\n",
       "        text-align: right;\n",
       "    }\n",
       "</style>\n",
       "<table border=\"1\" class=\"dataframe\">\n",
       "  <thead>\n",
       "    <tr style=\"text-align: right;\">\n",
       "      <th></th>\n",
       "      <th>Pclass</th>\n",
       "      <th>Sex</th>\n",
       "      <th>SibSp</th>\n",
       "      <th>Parch</th>\n",
       "      <th>Label</th>\n",
       "      <th>Survived</th>\n",
       "      <th>Prefix</th>\n",
       "      <th>Age_Bins</th>\n",
       "      <th>Fare_Bins</th>\n",
       "      <th>Age</th>\n",
       "      <th>Fare</th>\n",
       "    </tr>\n",
       "  </thead>\n",
       "  <tbody>\n",
       "    <tr>\n",
       "      <th>0</th>\n",
       "      <td>1</td>\n",
       "      <td>male</td>\n",
       "      <td>1</td>\n",
       "      <td>1</td>\n",
       "      <td>train</td>\n",
       "      <td>0</td>\n",
       "      <td>Capt</td>\n",
       "      <td>male_over_17</td>\n",
       "      <td>Greater than or equal to $50</td>\n",
       "      <td>3.020552</td>\n",
       "      <td>0.729301</td>\n",
       "    </tr>\n",
       "    <tr>\n",
       "      <th>1</th>\n",
       "      <td>1</td>\n",
       "      <td>male</td>\n",
       "      <td>0</td>\n",
       "      <td>0</td>\n",
       "      <td>test</td>\n",
       "      <td>NaN</td>\n",
       "      <td>Col</td>\n",
       "      <td>male_over_17</td>\n",
       "      <td>Less than $50</td>\n",
       "      <td>1.752110</td>\n",
       "      <td>-0.092387</td>\n",
       "    </tr>\n",
       "  </tbody>\n",
       "</table>\n",
       "</div>"
      ],
      "text/plain": [
       "  Pclass   Sex SibSp Parch  Label Survived Prefix      Age_Bins  \\\n",
       "0      1  male     1     1  train        0   Capt  male_over_17   \n",
       "1      1  male     0     0   test      NaN    Col  male_over_17   \n",
       "\n",
       "                      Fare_Bins       Age      Fare  \n",
       "0  Greater than or equal to $50  3.020552  0.729301  \n",
       "1                 Less than $50  1.752110 -0.092387  "
      ]
     },
     "execution_count": 106,
     "metadata": {},
     "output_type": "execute_result"
    }
   ],
   "source": [
    "df1.head(2)"
   ]
  },
  {
   "cell_type": "code",
   "execution_count": 107,
   "metadata": {
    "ExecuteTime": {
     "end_time": "2021-01-14T15:37:50.469125Z",
     "start_time": "2021-01-14T15:37:50.417264Z"
    }
   },
   "outputs": [],
   "source": [
    "for ea in df1.select_dtypes('object').columns:\n",
    "    df1[ea] = df1[ea].astype('category').cat.codes"
   ]
  },
  {
   "cell_type": "code",
   "execution_count": 108,
   "metadata": {
    "ExecuteTime": {
     "end_time": "2021-01-14T15:37:50.513009Z",
     "start_time": "2021-01-14T15:37:50.476106Z"
    }
   },
   "outputs": [
    {
     "data": {
      "text/html": [
       "<div>\n",
       "<style scoped>\n",
       "    .dataframe tbody tr th:only-of-type {\n",
       "        vertical-align: middle;\n",
       "    }\n",
       "\n",
       "    .dataframe tbody tr th {\n",
       "        vertical-align: top;\n",
       "    }\n",
       "\n",
       "    .dataframe thead th {\n",
       "        text-align: right;\n",
       "    }\n",
       "</style>\n",
       "<table border=\"1\" class=\"dataframe\">\n",
       "  <thead>\n",
       "    <tr style=\"text-align: right;\">\n",
       "      <th></th>\n",
       "      <th>Pclass</th>\n",
       "      <th>Sex</th>\n",
       "      <th>SibSp</th>\n",
       "      <th>Parch</th>\n",
       "      <th>Label</th>\n",
       "      <th>Survived</th>\n",
       "      <th>Prefix</th>\n",
       "      <th>Age_Bins</th>\n",
       "      <th>Fare_Bins</th>\n",
       "      <th>Age</th>\n",
       "      <th>Fare</th>\n",
       "    </tr>\n",
       "  </thead>\n",
       "  <tbody>\n",
       "    <tr>\n",
       "      <th>0</th>\n",
       "      <td>0</td>\n",
       "      <td>1</td>\n",
       "      <td>1</td>\n",
       "      <td>1</td>\n",
       "      <td>1</td>\n",
       "      <td>0</td>\n",
       "      <td>0</td>\n",
       "      <td>2</td>\n",
       "      <td>0</td>\n",
       "      <td>3.020552</td>\n",
       "      <td>0.729301</td>\n",
       "    </tr>\n",
       "    <tr>\n",
       "      <th>1</th>\n",
       "      <td>0</td>\n",
       "      <td>1</td>\n",
       "      <td>0</td>\n",
       "      <td>0</td>\n",
       "      <td>0</td>\n",
       "      <td>-1</td>\n",
       "      <td>1</td>\n",
       "      <td>2</td>\n",
       "      <td>1</td>\n",
       "      <td>1.752110</td>\n",
       "      <td>-0.092387</td>\n",
       "    </tr>\n",
       "  </tbody>\n",
       "</table>\n",
       "</div>"
      ],
      "text/plain": [
       "   Pclass  Sex  SibSp  Parch  Label  Survived  Prefix  Age_Bins  Fare_Bins  \\\n",
       "0       0    1      1      1      1         0       0         2          0   \n",
       "1       0    1      0      0      0        -1       1         2          1   \n",
       "\n",
       "        Age      Fare  \n",
       "0  3.020552  0.729301  \n",
       "1  1.752110 -0.092387  "
      ]
     },
     "execution_count": 108,
     "metadata": {},
     "output_type": "execute_result"
    }
   ],
   "source": [
    "df1.head(2)"
   ]
  },
  {
   "cell_type": "code",
   "execution_count": 109,
   "metadata": {
    "ExecuteTime": {
     "end_time": "2021-01-14T15:37:50.550907Z",
     "start_time": "2021-01-14T15:37:50.516999Z"
    }
   },
   "outputs": [
    {
     "name": "stdout",
     "output_type": "stream",
     "text": [
      "Column Pclass has 0 missing values out of 1309.  0%\n",
      "Column Sex has 0 missing values out of 1309.  0%\n",
      "Column SibSp has 0 missing values out of 1309.  0%\n",
      "Column Parch has 0 missing values out of 1309.  0%\n",
      "Column Label has 0 missing values out of 1309.  0%\n",
      "Column Survived has 0 missing values out of 1309.  0%\n",
      "Column Prefix has 0 missing values out of 1309.  0%\n",
      "Column Age_Bins has 0 missing values out of 1309.  0%\n",
      "Column Fare_Bins has 0 missing values out of 1309.  0%\n",
      "Column Age has 0 missing values out of 1309.  0%\n",
      "Column Fare has 0 missing values out of 1309.  0%\n"
     ]
    }
   ],
   "source": [
    "identify_blanks(df1)"
   ]
  },
  {
   "cell_type": "code",
   "execution_count": 110,
   "metadata": {
    "ExecuteTime": {
     "end_time": "2021-01-14T15:37:50.568859Z",
     "start_time": "2021-01-14T15:37:50.554896Z"
    }
   },
   "outputs": [
    {
     "data": {
      "text/plain": [
       "Index(['Pclass', 'Sex', 'SibSp', 'Parch', 'Label', 'Survived', 'Prefix',\n",
       "       'Age_Bins', 'Fare_Bins', 'Age', 'Fare'],\n",
       "      dtype='object')"
      ]
     },
     "execution_count": 110,
     "metadata": {},
     "output_type": "execute_result"
    }
   ],
   "source": [
    "df1.columns"
   ]
  },
  {
   "cell_type": "code",
   "execution_count": 111,
   "metadata": {
    "ExecuteTime": {
     "end_time": "2021-01-14T15:37:50.600775Z",
     "start_time": "2021-01-14T15:37:50.573847Z"
    }
   },
   "outputs": [
    {
     "name": "stdout",
     "output_type": "stream",
     "text": [
      "<class 'pandas.core.frame.DataFrame'>\n",
      "RangeIndex: 1309 entries, 0 to 1308\n",
      "Data columns (total 11 columns):\n",
      " #   Column     Non-Null Count  Dtype  \n",
      "---  ------     --------------  -----  \n",
      " 0   Pclass     1309 non-null   int8   \n",
      " 1   Sex        1309 non-null   int8   \n",
      " 2   SibSp      1309 non-null   int8   \n",
      " 3   Parch      1309 non-null   int8   \n",
      " 4   Label      1309 non-null   int8   \n",
      " 5   Survived   1309 non-null   int8   \n",
      " 6   Prefix     1309 non-null   int8   \n",
      " 7   Age_Bins   1309 non-null   int8   \n",
      " 8   Fare_Bins  1309 non-null   int8   \n",
      " 9   Age        1309 non-null   float64\n",
      " 10  Fare       1309 non-null   float64\n",
      "dtypes: float64(2), int8(9)\n",
      "memory usage: 32.1 KB\n"
     ]
    }
   ],
   "source": [
    "df1.info()"
   ]
  },
  {
   "cell_type": "code",
   "execution_count": 112,
   "metadata": {
    "ExecuteTime": {
     "end_time": "2021-01-14T15:37:56.096361Z",
     "start_time": "2021-01-14T15:37:56.053475Z"
    }
   },
   "outputs": [
    {
     "name": "stdout",
     "output_type": "stream",
     "text": [
      "<class 'pandas.core.frame.DataFrame'>\n",
      "RangeIndex: 1309 entries, 0 to 1308\n",
      "Data columns (total 11 columns):\n",
      " #   Column     Non-Null Count  Dtype  \n",
      "---  ------     --------------  -----  \n",
      " 0   Pclass     1309 non-null   object \n",
      " 1   Sex        1309 non-null   object \n",
      " 2   SibSp      1309 non-null   object \n",
      " 3   Parch      1309 non-null   object \n",
      " 4   Label      1309 non-null   int8   \n",
      " 5   Survived   1309 non-null   object \n",
      " 6   Prefix     1309 non-null   object \n",
      " 7   Age_Bins   1309 non-null   object \n",
      " 8   Fare_Bins  1309 non-null   object \n",
      " 9   Age        1309 non-null   float64\n",
      " 10  Fare       1309 non-null   float64\n",
      "dtypes: float64(2), int8(1), object(8)\n",
      "memory usage: 103.7+ KB\n"
     ]
    }
   ],
   "source": [
    "ea = ['Pclass', 'Sex', 'SibSp', 'Parch','Prefix', 'Age_Bins', 'Fare_Bins', 'Survived']\n",
    "\n",
    "for ea in ea:\n",
    "    df1[ea] = df1[ea].astype('object')\n",
    "\n",
    "df1.info()"
   ]
  },
  {
   "cell_type": "code",
   "execution_count": 113,
   "metadata": {
    "ExecuteTime": {
     "end_time": "2021-01-14T15:37:59.841310Z",
     "start_time": "2021-01-14T15:37:59.829340Z"
    }
   },
   "outputs": [
    {
     "data": {
      "text/plain": [
       "['Pclass', 'Sex', 'SibSp', 'Parch', 'Prefix', 'Age_Bins', 'Fare_Bins']"
      ]
     },
     "execution_count": 113,
     "metadata": {},
     "output_type": "execute_result"
    }
   ],
   "source": [
    "categorical = list(df1.select_dtypes('object').columns.drop('Survived'))\n",
    "categorical"
   ]
  },
  {
   "cell_type": "code",
   "execution_count": 114,
   "metadata": {
    "ExecuteTime": {
     "end_time": "2021-01-14T15:38:06.505642Z",
     "start_time": "2021-01-14T15:38:06.446285Z"
    }
   },
   "outputs": [
    {
     "data": {
      "text/html": [
       "<div>\n",
       "<style scoped>\n",
       "    .dataframe tbody tr th:only-of-type {\n",
       "        vertical-align: middle;\n",
       "    }\n",
       "\n",
       "    .dataframe tbody tr th {\n",
       "        vertical-align: top;\n",
       "    }\n",
       "\n",
       "    .dataframe thead th {\n",
       "        text-align: right;\n",
       "    }\n",
       "</style>\n",
       "<table border=\"1\" class=\"dataframe\">\n",
       "  <thead>\n",
       "    <tr style=\"text-align: right;\">\n",
       "      <th></th>\n",
       "      <th>Label</th>\n",
       "      <th>Survived</th>\n",
       "      <th>Age</th>\n",
       "      <th>Fare</th>\n",
       "      <th>Pclass_1</th>\n",
       "      <th>Pclass_2</th>\n",
       "      <th>Sex_1</th>\n",
       "      <th>SibSp_1</th>\n",
       "      <th>SibSp_2</th>\n",
       "      <th>SibSp_3</th>\n",
       "      <th>...</th>\n",
       "      <th>Prefix_12</th>\n",
       "      <th>Prefix_13</th>\n",
       "      <th>Prefix_14</th>\n",
       "      <th>Prefix_15</th>\n",
       "      <th>Prefix_16</th>\n",
       "      <th>Prefix_17</th>\n",
       "      <th>Age_Bins_1</th>\n",
       "      <th>Age_Bins_2</th>\n",
       "      <th>Age_Bins_3</th>\n",
       "      <th>Fare_Bins_1</th>\n",
       "    </tr>\n",
       "  </thead>\n",
       "  <tbody>\n",
       "    <tr>\n",
       "      <th>0</th>\n",
       "      <td>1</td>\n",
       "      <td>0</td>\n",
       "      <td>3.020552</td>\n",
       "      <td>0.729301</td>\n",
       "      <td>0</td>\n",
       "      <td>0</td>\n",
       "      <td>1</td>\n",
       "      <td>1</td>\n",
       "      <td>0</td>\n",
       "      <td>0</td>\n",
       "      <td>...</td>\n",
       "      <td>0</td>\n",
       "      <td>0</td>\n",
       "      <td>0</td>\n",
       "      <td>0</td>\n",
       "      <td>0</td>\n",
       "      <td>0</td>\n",
       "      <td>0</td>\n",
       "      <td>1</td>\n",
       "      <td>0</td>\n",
       "      <td>0</td>\n",
       "    </tr>\n",
       "    <tr>\n",
       "      <th>1</th>\n",
       "      <td>0</td>\n",
       "      <td>-1</td>\n",
       "      <td>1.752110</td>\n",
       "      <td>-0.092387</td>\n",
       "      <td>0</td>\n",
       "      <td>0</td>\n",
       "      <td>1</td>\n",
       "      <td>0</td>\n",
       "      <td>0</td>\n",
       "      <td>0</td>\n",
       "      <td>...</td>\n",
       "      <td>0</td>\n",
       "      <td>0</td>\n",
       "      <td>0</td>\n",
       "      <td>0</td>\n",
       "      <td>0</td>\n",
       "      <td>0</td>\n",
       "      <td>0</td>\n",
       "      <td>1</td>\n",
       "      <td>0</td>\n",
       "      <td>1</td>\n",
       "    </tr>\n",
       "    <tr>\n",
       "      <th>2</th>\n",
       "      <td>0</td>\n",
       "      <td>-1</td>\n",
       "      <td>1.304424</td>\n",
       "      <td>3.755533</td>\n",
       "      <td>0</td>\n",
       "      <td>0</td>\n",
       "      <td>1</td>\n",
       "      <td>1</td>\n",
       "      <td>0</td>\n",
       "      <td>0</td>\n",
       "      <td>...</td>\n",
       "      <td>0</td>\n",
       "      <td>0</td>\n",
       "      <td>0</td>\n",
       "      <td>0</td>\n",
       "      <td>0</td>\n",
       "      <td>0</td>\n",
       "      <td>0</td>\n",
       "      <td>1</td>\n",
       "      <td>0</td>\n",
       "      <td>0</td>\n",
       "    </tr>\n",
       "    <tr>\n",
       "      <th>3</th>\n",
       "      <td>1</td>\n",
       "      <td>1</td>\n",
       "      <td>1.975952</td>\n",
       "      <td>0.042950</td>\n",
       "      <td>0</td>\n",
       "      <td>0</td>\n",
       "      <td>1</td>\n",
       "      <td>0</td>\n",
       "      <td>0</td>\n",
       "      <td>0</td>\n",
       "      <td>...</td>\n",
       "      <td>0</td>\n",
       "      <td>0</td>\n",
       "      <td>0</td>\n",
       "      <td>0</td>\n",
       "      <td>0</td>\n",
       "      <td>0</td>\n",
       "      <td>0</td>\n",
       "      <td>1</td>\n",
       "      <td>0</td>\n",
       "      <td>1</td>\n",
       "    </tr>\n",
       "    <tr>\n",
       "      <th>4</th>\n",
       "      <td>1</td>\n",
       "      <td>0</td>\n",
       "      <td>2.274409</td>\n",
       "      <td>-0.130088</td>\n",
       "      <td>0</td>\n",
       "      <td>0</td>\n",
       "      <td>1</td>\n",
       "      <td>0</td>\n",
       "      <td>0</td>\n",
       "      <td>0</td>\n",
       "      <td>...</td>\n",
       "      <td>0</td>\n",
       "      <td>0</td>\n",
       "      <td>0</td>\n",
       "      <td>0</td>\n",
       "      <td>0</td>\n",
       "      <td>0</td>\n",
       "      <td>0</td>\n",
       "      <td>1</td>\n",
       "      <td>0</td>\n",
       "      <td>1</td>\n",
       "    </tr>\n",
       "  </tbody>\n",
       "</table>\n",
       "<p>5 rows × 41 columns</p>\n",
       "</div>"
      ],
      "text/plain": [
       "   Label Survived       Age      Fare  Pclass_1  Pclass_2  Sex_1  SibSp_1  \\\n",
       "0      1        0  3.020552  0.729301         0         0      1        1   \n",
       "1      0       -1  1.752110 -0.092387         0         0      1        0   \n",
       "2      0       -1  1.304424  3.755533         0         0      1        1   \n",
       "3      1        1  1.975952  0.042950         0         0      1        0   \n",
       "4      1        0  2.274409 -0.130088         0         0      1        0   \n",
       "\n",
       "   SibSp_2  SibSp_3  ...  Prefix_12  Prefix_13  Prefix_14  Prefix_15  \\\n",
       "0        0        0  ...          0          0          0          0   \n",
       "1        0        0  ...          0          0          0          0   \n",
       "2        0        0  ...          0          0          0          0   \n",
       "3        0        0  ...          0          0          0          0   \n",
       "4        0        0  ...          0          0          0          0   \n",
       "\n",
       "   Prefix_16  Prefix_17  Age_Bins_1  Age_Bins_2  Age_Bins_3  Fare_Bins_1  \n",
       "0          0          0           0           1           0            0  \n",
       "1          0          0           0           1           0            1  \n",
       "2          0          0           0           1           0            0  \n",
       "3          0          0           0           1           0            1  \n",
       "4          0          0           0           1           0            1  \n",
       "\n",
       "[5 rows x 41 columns]"
      ]
     },
     "execution_count": 114,
     "metadata": {},
     "output_type": "execute_result"
    }
   ],
   "source": [
    "df1 = pd.get_dummies(data = df1, columns = categorical, drop_first = True)\n",
    "df1.head()"
   ]
  },
  {
   "cell_type": "markdown",
   "metadata": {},
   "source": [
    "## Split the data in to train and test"
   ]
  },
  {
   "cell_type": "code",
   "execution_count": 117,
   "metadata": {
    "ExecuteTime": {
     "end_time": "2021-01-14T15:38:58.470550Z",
     "start_time": "2021-01-14T15:38:58.451601Z"
    }
   },
   "outputs": [],
   "source": [
    "train = df1.loc[df['Label'] != -1]\n",
    "test = df1.loc[df['Label'] == -1]"
   ]
  },
  {
   "cell_type": "code",
   "execution_count": 121,
   "metadata": {
    "ExecuteTime": {
     "end_time": "2021-01-14T15:40:41.667856Z",
     "start_time": "2021-01-14T15:40:41.659876Z"
    },
    "cell_style": "split"
   },
   "outputs": [
    {
     "data": {
      "text/plain": [
       "(1309, 41)"
      ]
     },
     "execution_count": 121,
     "metadata": {},
     "output_type": "execute_result"
    }
   ],
   "source": [
    "train.shape"
   ]
  },
  {
   "cell_type": "code",
   "execution_count": 122,
   "metadata": {
    "ExecuteTime": {
     "end_time": "2021-01-14T15:40:43.563905Z",
     "start_time": "2021-01-14T15:40:43.555926Z"
    },
    "cell_style": "split"
   },
   "outputs": [
    {
     "data": {
      "text/plain": [
       "(0, 41)"
      ]
     },
     "execution_count": 122,
     "metadata": {},
     "output_type": "execute_result"
    }
   ],
   "source": [
    "test.shape"
   ]
  },
  {
   "cell_type": "markdown",
   "metadata": {},
   "source": [
    "## Train the model on the training data"
   ]
  },
  {
   "cell_type": "code",
   "execution_count": 124,
   "metadata": {
    "ExecuteTime": {
     "end_time": "2021-01-14T15:43:01.618112Z",
     "start_time": "2021-01-14T15:43:01.612994Z"
    }
   },
   "outputs": [],
   "source": [
    "from sklearn.model_selection import StratifiedShuffleSplit"
   ]
  },
  {
   "cell_type": "code",
   "execution_count": null,
   "metadata": {},
   "outputs": [],
   "source": [
    "for train_index, test_index in split.split(train, telco1[“Churn”]):\n",
    "    strat_train = telco1.loc[train_index]\n",
    "    strat_test = telco1.loc[test_index]"
   ]
  },
  {
   "cell_type": "code",
   "execution_count": 139,
   "metadata": {
    "ExecuteTime": {
     "end_time": "2021-01-14T15:54:29.144911Z",
     "start_time": "2021-01-14T15:54:29.132944Z"
    }
   },
   "outputs": [],
   "source": [
    "from sklearn.model_selection import StratifiedKFold\n",
    "# Defining a wrapper function to call and refit the best model.\n",
    "def grid_search_wrapper(refit_score):\n",
    "    \"\"\n",
    "    #fit a GridSearchCV classifier using refit_score for optimization\n",
    "    #prints classifier performance metrics and the confusion matrix\n",
    "    \"\"\n",
    "    # Creating a stratified cross-validation\n",
    "    skf = StratifiedKFold(n_splits=5)\n",
    "    # define the grid\n",
    "    grid_search = GridSearchCV(estimator, param_grid, scoring=scorers, refit=refit_score,\n",
    "    cv=skf, return_train_score=True, n_jobs=4, verbose=10)\n",
    "    grid_search.fit(x_train, y_train)\n",
    "    # make the predictions on the test dataset\n",
    "    y_pred = grid_search.predict(x_test)\n",
    "    # print the best parameters obtained from the grid search\n",
    "    print('Best params for {}'.format(refit_score))\n",
    "    print(grid_search.best_params_)\n",
    "    # print the classification report on test data\n",
    "    target_names = ['class_0', 'class_1']\n",
    "    print(classification_report(y_test, y_pred, target_names=target_names))\n",
    "    # confusion matrix on the test data\n",
    "    print('\\nConfusion matrix optimized for {} on the test data:'.format(refit_score))\n",
    "    print(pd.DataFrame(confusion_matrix(y_test, y_pred),\n",
    "    columns=['pred_class_0', 'pred_class_1'], index=['class_0', 'class_1']))\n",
    "    return grid_search"
   ]
  },
  {
   "cell_type": "code",
   "execution_count": 141,
   "metadata": {
    "ExecuteTime": {
     "end_time": "2021-01-14T15:54:58.729404Z",
     "start_time": "2021-01-14T15:54:58.692503Z"
    }
   },
   "outputs": [
    {
     "ename": "NameError",
     "evalue": "name 'x_train' is not defined",
     "output_type": "error",
     "traceback": [
      "\u001b[1;31m---------------------------------------------------------------------------\u001b[0m",
      "\u001b[1;31mNameError\u001b[0m                                 Traceback (most recent call last)",
      "\u001b[1;32m<ipython-input-141-61d63132fd9d>\u001b[0m in \u001b[0;36m<module>\u001b[1;34m\u001b[0m\n\u001b[0;32m      7\u001b[0m            'accuracy_score': make_scorer(accuracy_score), 'f1_score': make_scorer(f1_score) }\n\u001b[0;32m      8\u001b[0m \u001b[1;33m\u001b[0m\u001b[0m\n\u001b[1;32m----> 9\u001b[1;33m \u001b[0mgrid_search_\u001b[0m \u001b[1;33m=\u001b[0m \u001b[0mgrid_search_wrapper\u001b[0m\u001b[1;33m(\u001b[0m\u001b[0mrefit_score\u001b[0m\u001b[1;33m=\u001b[0m\u001b[1;34m'f1_score'\u001b[0m\u001b[1;33m)\u001b[0m\u001b[1;33m\u001b[0m\u001b[1;33m\u001b[0m\u001b[0m\n\u001b[0m",
      "\u001b[1;32m<ipython-input-139-03dfdae26eea>\u001b[0m in \u001b[0;36mgrid_search_wrapper\u001b[1;34m(refit_score)\u001b[0m\n\u001b[0;32m     11\u001b[0m     grid_search = GridSearchCV(estimator, param_grid, scoring=scorers, refit=refit_score,\n\u001b[0;32m     12\u001b[0m     cv=skf, return_train_score=True, n_jobs=4, verbose=10)\n\u001b[1;32m---> 13\u001b[1;33m     \u001b[0mgrid_search\u001b[0m\u001b[1;33m.\u001b[0m\u001b[0mfit\u001b[0m\u001b[1;33m(\u001b[0m\u001b[0mx_train\u001b[0m\u001b[1;33m,\u001b[0m \u001b[0my_train\u001b[0m\u001b[1;33m)\u001b[0m\u001b[1;33m\u001b[0m\u001b[1;33m\u001b[0m\u001b[0m\n\u001b[0m\u001b[0;32m     14\u001b[0m     \u001b[1;31m# make the predictions on the test dataset\u001b[0m\u001b[1;33m\u001b[0m\u001b[1;33m\u001b[0m\u001b[1;33m\u001b[0m\u001b[0m\n\u001b[0;32m     15\u001b[0m     \u001b[0my_pred\u001b[0m \u001b[1;33m=\u001b[0m \u001b[0mgrid_search\u001b[0m\u001b[1;33m.\u001b[0m\u001b[0mpredict\u001b[0m\u001b[1;33m(\u001b[0m\u001b[0mx_test\u001b[0m\u001b[1;33m)\u001b[0m\u001b[1;33m\u001b[0m\u001b[1;33m\u001b[0m\u001b[0m\n",
      "\u001b[1;31mNameError\u001b[0m: name 'x_train' is not defined"
     ]
    }
   ],
   "source": [
    "from sklearn.metrics import fbeta_score, make_scorer, precision_score, recall_score, accuracy_score, f1_score\n",
    "\n",
    "\n",
    "param_grid= {}\n",
    "\n",
    "scorers = { 'precision_score': make_scorer(precision_score), 'recall_score': make_scorer(recall_score), \n",
    "           'accuracy_score': make_scorer(accuracy_score), 'f1_score': make_scorer(f1_score) }\n",
    "\n",
    "grid_search_ = grid_search_wrapper(refit_score='f1_score')"
   ]
  },
  {
   "cell_type": "code",
   "execution_count": 131,
   "metadata": {
    "ExecuteTime": {
     "end_time": "2021-01-14T15:49:10.431384Z",
     "start_time": "2021-01-14T15:49:10.395480Z"
    }
   },
   "outputs": [
    {
     "ename": "NameError",
     "evalue": "name 'scorers' is not defined",
     "output_type": "error",
     "traceback": [
      "\u001b[1;31m---------------------------------------------------------------------------\u001b[0m",
      "\u001b[1;31mNameError\u001b[0m                                 Traceback (most recent call last)",
      "\u001b[1;32m<ipython-input-131-c121221f8947>\u001b[0m in \u001b[0;36m<module>\u001b[1;34m\u001b[0m\n\u001b[1;32m----> 1\u001b[1;33m \u001b[0mgrid_search_wrapper\u001b[0m\u001b[1;33m(\u001b[0m\u001b[0mrefit_score\u001b[0m \u001b[1;33m=\u001b[0m \u001b[1;34m'score to optimize for ()'\u001b[0m\u001b[1;33m)\u001b[0m\u001b[1;33m\u001b[0m\u001b[1;33m\u001b[0m\u001b[0m\n\u001b[0m",
      "\u001b[1;32m<ipython-input-130-03dfdae26eea>\u001b[0m in \u001b[0;36mgrid_search_wrapper\u001b[1;34m(refit_score)\u001b[0m\n\u001b[0;32m      9\u001b[0m     \u001b[0mskf\u001b[0m \u001b[1;33m=\u001b[0m \u001b[0mStratifiedKFold\u001b[0m\u001b[1;33m(\u001b[0m\u001b[0mn_splits\u001b[0m\u001b[1;33m=\u001b[0m\u001b[1;36m5\u001b[0m\u001b[1;33m)\u001b[0m\u001b[1;33m\u001b[0m\u001b[1;33m\u001b[0m\u001b[0m\n\u001b[0;32m     10\u001b[0m     \u001b[1;31m# define the grid\u001b[0m\u001b[1;33m\u001b[0m\u001b[1;33m\u001b[0m\u001b[1;33m\u001b[0m\u001b[0m\n\u001b[1;32m---> 11\u001b[1;33m     grid_search = GridSearchCV(estimator, param_grid, scoring=scorers, refit=refit_score,\n\u001b[0m\u001b[0;32m     12\u001b[0m     cv=skf, return_train_score=True, n_jobs=4, verbose=10)\n\u001b[0;32m     13\u001b[0m     \u001b[0mgrid_search\u001b[0m\u001b[1;33m.\u001b[0m\u001b[0mfit\u001b[0m\u001b[1;33m(\u001b[0m\u001b[0mx_train\u001b[0m\u001b[1;33m,\u001b[0m \u001b[0my_train\u001b[0m\u001b[1;33m)\u001b[0m\u001b[1;33m\u001b[0m\u001b[1;33m\u001b[0m\u001b[0m\n",
      "\u001b[1;31mNameError\u001b[0m: name 'scorers' is not defined"
     ]
    }
   ],
   "source": [
    "grid_search_wrapper(refit_score = 'score to optimize for ()')"
   ]
  },
  {
   "cell_type": "code",
   "execution_count": null,
   "metadata": {},
   "outputs": [],
   "source": []
  }
 ],
 "metadata": {
  "hide_input": false,
  "kernelspec": {
   "display_name": "Python 3",
   "language": "python",
   "name": "python3"
  },
  "language_info": {
   "codemirror_mode": {
    "name": "ipython",
    "version": 3
   },
   "file_extension": ".py",
   "mimetype": "text/x-python",
   "name": "python",
   "nbconvert_exporter": "python",
   "pygments_lexer": "ipython3",
   "version": "3.7.1"
  },
  "toc": {
   "base_numbering": 1,
   "nav_menu": {},
   "number_sections": true,
   "sideBar": true,
   "skip_h1_title": false,
   "title_cell": "Table of Contents",
   "title_sidebar": "Contents",
   "toc_cell": false,
   "toc_position": {},
   "toc_section_display": true,
   "toc_window_display": false
  },
  "varInspector": {
   "cols": {
    "lenName": 16,
    "lenType": 16,
    "lenVar": 40
   },
   "kernels_config": {
    "python": {
     "delete_cmd_postfix": "",
     "delete_cmd_prefix": "del ",
     "library": "var_list.py",
     "varRefreshCmd": "print(var_dic_list())"
    },
    "r": {
     "delete_cmd_postfix": ") ",
     "delete_cmd_prefix": "rm(",
     "library": "var_list.r",
     "varRefreshCmd": "cat(var_dic_list()) "
    }
   },
   "types_to_exclude": [
    "module",
    "function",
    "builtin_function_or_method",
    "instance",
    "_Feature"
   ],
   "window_display": false
  }
 },
 "nbformat": 4,
 "nbformat_minor": 2
}
