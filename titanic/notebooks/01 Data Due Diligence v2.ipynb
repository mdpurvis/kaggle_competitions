{
 "cells": [
  {
   "cell_type": "markdown",
   "metadata": {},
   "source": [
    "# Intro: Data Preparation"
   ]
  },
  {
   "cell_type": "markdown",
   "metadata": {},
   "source": [
    "## Load in Data"
   ]
  },
  {
   "cell_type": "code",
   "execution_count": 62,
   "metadata": {
    "ExecuteTime": {
     "end_time": "2021-01-14T13:54:30.589063Z",
     "start_time": "2021-01-14T13:54:30.584103Z"
    }
   },
   "outputs": [],
   "source": [
    "import pandas as pd\n",
    "import numpy as np\n",
    "import matplotlib.pyplot as plt\n",
    "import seaborn as sns\n",
    "from sklearn.preprocessing import StandardScaler\n",
    "\n",
    "import warnings\n",
    "\n",
    "warnings.filterwarnings('ignore')\n",
    "\n",
    "plt.rcParams['figure.figsize'] =(15,5)"
   ]
  },
  {
   "cell_type": "code",
   "execution_count": 63,
   "metadata": {
    "ExecuteTime": {
     "end_time": "2021-01-14T13:54:30.606037Z",
     "start_time": "2021-01-14T13:54:30.592049Z"
    }
   },
   "outputs": [],
   "source": [
    "def identify_blanks(df):\n",
    "    t = len(df)\n",
    "    for each in df.columns:\n",
    "        i = len(df.loc[df[each].isnull()])\n",
    "        pct = int((i/t)*100)\n",
    "        print(f'Column {each} has {i} missing values out of {t}.  {pct}%')\n",
    "        \n",
    "# define module to create frequency distribution of variables\n",
    "def freq_dist(df, col):\n",
    "    df_fd = pd.DataFrame(data=df[col].value_counts())\n",
    "    df_fd['pct_total'] = df_fd[col] / df_fd[col].sum()\n",
    "    print(df_fd.head(15))\n",
    "\n",
    "    \n",
    "#Creates Histogram for Comparitive Purposes\n",
    "def review_detail(df, col, num, col2, num2, sub, meas, type1, stack):    \n",
    "    if type1 == 'all':\n",
    "        df_last_month = df.loc[(df[col] != num) & (df[col2] == num2)]\n",
    "        df_last_month = df_last_month.groupby(by=[col, col2, 'Survived']).agg({'Survived':meas})\n",
    "        df_last_month.rename(columns = {'index':'index'}, inplace=True)\n",
    "        df_last_month['pct_total'] = ((df_last_month['Survived'] / df_last_month['Survived'].sum())*100).astype(int)\n",
    "        df_last_month = pd.DataFrame(df_last_month)\n",
    "        df_last_month = df_last_month.T\n",
    "        print(df_last_month)\n",
    "        df_last_month.drop_duplicates(inplace=True)\n",
    "        df_last_month = df_last_month.T\n",
    "        df_last_month.drop(columns=['pct_total'], inplace=True)\n",
    "\n",
    "\n",
    "        df_last_month.unstack().plot(kind='bar', use_index=True, rot=0, \n",
    "                                     subplots=sub, stacked=stack)       \n",
    "    else:\n",
    "        df_last_month = df.loc[(df[col] != num) & (df[col2] != num2)]\n",
    "        df_last_month = df_last_month.groupby(by=[col, col2, 'Survived']).agg({'Survived':meas})\n",
    "        df_last_month.rename(columns = {'index':'index'}, inplace=True)\n",
    "        df_last_month['pct_total'] = ((df_last_month['Survived'] / df_last_month['Survived'].sum())*100).astype(int)\n",
    "        df_last_month = pd.DataFrame(df_last_month)\n",
    "        df_last_month = df_last_month.T\n",
    "        print(df_last_month)\n",
    "        df_last_month.drop_duplicates(inplace=True)\n",
    "        df_last_month = df_last_month.T\n",
    "        df_last_month.drop(columns=['pct_total'], inplace=True)\n",
    "\n",
    "\n",
    "        df_last_month.unstack().plot(kind='bar', use_index=True, rot=0, \n",
    "                                     subplots=sub, stacked=stack) "
   ]
  },
  {
   "cell_type": "code",
   "execution_count": 64,
   "metadata": {
    "ExecuteTime": {
     "end_time": "2021-01-14T13:54:30.629950Z",
     "start_time": "2021-01-14T13:54:30.609004Z"
    }
   },
   "outputs": [],
   "source": [
    "#Import the data:\n",
    "test = pd.read_csv('../data/raw/test.csv')\n",
    "train = pd.read_csv('../data/raw/train.csv')\n",
    "\n",
    "test['Label'] = 'test'\n",
    "test['Survived'] = ''\n",
    "train['Label'] = 'train'\n",
    "\n",
    "test = test[['PassengerId', 'Pclass', 'Name', 'Sex', 'Age', 'SibSp', 'Parch',\n",
    "       'Ticket', 'Fare', 'Cabin', 'Embarked', 'Label', 'Survived']]\n",
    "\n",
    "train = train[['PassengerId', 'Pclass', 'Name', 'Sex', 'Age', 'SibSp', 'Parch',\n",
    "       'Ticket', 'Fare', 'Cabin', 'Embarked', 'Label', 'Survived']]"
   ]
  },
  {
   "cell_type": "markdown",
   "metadata": {},
   "source": [
    "## Analyze Data Before Loading to Model"
   ]
  },
  {
   "cell_type": "code",
   "execution_count": 65,
   "metadata": {
    "ExecuteTime": {
     "end_time": "2021-01-14T13:54:30.664886Z",
     "start_time": "2021-01-14T13:54:30.632972Z"
    }
   },
   "outputs": [
    {
     "name": "stdout",
     "output_type": "stream",
     "text": [
      "Column PassengerId has 0 missing values out of 418.  0%\n",
      "Column Pclass has 0 missing values out of 418.  0%\n",
      "Column Name has 0 missing values out of 418.  0%\n",
      "Column Sex has 0 missing values out of 418.  0%\n",
      "Column Age has 86 missing values out of 418.  20%\n",
      "Column SibSp has 0 missing values out of 418.  0%\n",
      "Column Parch has 0 missing values out of 418.  0%\n",
      "Column Ticket has 0 missing values out of 418.  0%\n",
      "Column Fare has 1 missing values out of 418.  0%\n",
      "Column Cabin has 327 missing values out of 418.  78%\n",
      "Column Embarked has 0 missing values out of 418.  0%\n",
      "Column Label has 0 missing values out of 418.  0%\n",
      "Column Survived has 0 missing values out of 418.  0%\n",
      "Column PassengerId has 0 missing values out of 891.  0%\n",
      "Column Pclass has 0 missing values out of 891.  0%\n",
      "Column Name has 0 missing values out of 891.  0%\n",
      "Column Sex has 0 missing values out of 891.  0%\n",
      "Column Age has 177 missing values out of 891.  19%\n",
      "Column SibSp has 0 missing values out of 891.  0%\n",
      "Column Parch has 0 missing values out of 891.  0%\n",
      "Column Ticket has 0 missing values out of 891.  0%\n",
      "Column Fare has 0 missing values out of 891.  0%\n",
      "Column Cabin has 687 missing values out of 891.  77%\n",
      "Column Embarked has 2 missing values out of 891.  0%\n",
      "Column Label has 0 missing values out of 891.  0%\n",
      "Column Survived has 0 missing values out of 891.  0%\n"
     ]
    }
   ],
   "source": [
    "identify_blanks(test)\n",
    "\n",
    "identify_blanks(train)"
   ]
  },
  {
   "cell_type": "code",
   "execution_count": 66,
   "metadata": {
    "ExecuteTime": {
     "end_time": "2021-01-14T13:54:30.676823Z",
     "start_time": "2021-01-14T13:54:30.665852Z"
    }
   },
   "outputs": [
    {
     "name": "stdout",
     "output_type": "stream",
     "text": [
      "Index(['PassengerId', 'Pclass', 'Name', 'Sex', 'Age', 'SibSp', 'Parch',\n",
      "       'Ticket', 'Fare', 'Cabin', 'Embarked', 'Label', 'Survived'],\n",
      "      dtype='object')\n",
      "Index(['PassengerId', 'Pclass', 'Name', 'Sex', 'Age', 'SibSp', 'Parch',\n",
      "       'Ticket', 'Fare', 'Cabin', 'Embarked', 'Label', 'Survived'],\n",
      "      dtype='object')\n"
     ]
    },
    {
     "data": {
      "text/plain": [
       "(1309, 14)"
      ]
     },
     "execution_count": 66,
     "metadata": {},
     "output_type": "execute_result"
    }
   ],
   "source": [
    "print(test.columns)\n",
    "\n",
    "print(train.columns)\n",
    "\n",
    "df = test.append(train)\n",
    "df.reset_index(inplace=True)\n",
    "\n",
    "df.shape"
   ]
  },
  {
   "cell_type": "code",
   "execution_count": 67,
   "metadata": {
    "ExecuteTime": {
     "end_time": "2021-01-14T13:54:30.717849Z",
     "start_time": "2021-01-14T13:54:30.679814Z"
    }
   },
   "outputs": [
    {
     "name": "stdout",
     "output_type": "stream",
     "text": [
      "In Data Set:\n",
      "\n",
      "Number of rows: 1309\n",
      "Number of columns: 15 \n",
      "\n",
      "<class 'pandas.core.frame.DataFrame'>\n",
      "RangeIndex: 1309 entries, 0 to 1308\n",
      "Data columns (total 15 columns):\n",
      "index          1309 non-null int64\n",
      "PassengerId    1309 non-null int64\n",
      "Pclass         1309 non-null int64\n",
      "Name           1309 non-null object\n",
      "Sex            1309 non-null object\n",
      "Age            1046 non-null float64\n",
      "SibSp          1309 non-null int64\n",
      "Parch          1309 non-null int64\n",
      "Ticket         1309 non-null object\n",
      "Fare           1308 non-null float64\n",
      "Cabin          295 non-null object\n",
      "Embarked       1307 non-null object\n",
      "Label          1309 non-null object\n",
      "Survived       1309 non-null object\n",
      "Total          1309 non-null int64\n",
      "dtypes: float64(2), int64(6), object(7)\n",
      "memory usage: 153.5+ KB\n",
      "Do any columns contain nulls? \n",
      " None \n",
      "\n",
      "Column index has 0 missing values out of 1309.  0%\n",
      "Column PassengerId has 0 missing values out of 1309.  0%\n",
      "Column Pclass has 0 missing values out of 1309.  0%\n",
      "Column Name has 0 missing values out of 1309.  0%\n",
      "Column Sex has 0 missing values out of 1309.  0%\n",
      "Column Age has 263 missing values out of 1309.  20%\n",
      "Column SibSp has 0 missing values out of 1309.  0%\n",
      "Column Parch has 0 missing values out of 1309.  0%\n",
      "Column Ticket has 0 missing values out of 1309.  0%\n",
      "Column Fare has 1 missing values out of 1309.  0%\n",
      "Column Cabin has 1014 missing values out of 1309.  77%\n",
      "Column Embarked has 2 missing values out of 1309.  0%\n",
      "Column Label has 0 missing values out of 1309.  0%\n",
      "Column Survived has 0 missing values out of 1309.  0%\n",
      "Column Total has 0 missing values out of 1309.  0%\n"
     ]
    }
   ],
   "source": [
    "# importing data sets from kernel \n",
    "df['Total'] = 0\n",
    "\n",
    "rows = len(df)\n",
    "columns = len(df.columns)\n",
    "values = rows*columns\n",
    "non_na = df.count().sum()\n",
    "na = values-non_na\n",
    "print('In Data Set:\\n')\n",
    "print('Number of rows:', rows)\n",
    "print('Number of columns:', columns, '\\n')\n",
    "print('Do any columns contain nulls?', '\\n', df.info(), '\\n')\n",
    "\n",
    "\n",
    "identify_blanks(df)"
   ]
  },
  {
   "cell_type": "code",
   "execution_count": 68,
   "metadata": {
    "ExecuteTime": {
     "end_time": "2021-01-14T13:54:30.745558Z",
     "start_time": "2021-01-14T13:54:30.720394Z"
    }
   },
   "outputs": [
    {
     "name": "stdout",
     "output_type": "stream",
     "text": [
      "Data types: \n",
      " PassengerId      int64\n",
      "Pclass           int64\n",
      "Name            object\n",
      "Sex             object\n",
      "Age            float64\n",
      "SibSp            int64\n",
      "Parch            int64\n",
      "Ticket          object\n",
      "Fare           float64\n",
      "Cabin           object\n",
      "Embarked        object\n",
      "Label           object\n",
      "Survived        object\n",
      "dtype: object \n",
      "\n",
      "Unique values: \n",
      " PassengerId    418\n",
      "Pclass           3\n",
      "Name           418\n",
      "Sex              2\n",
      "Age             79\n",
      "SibSp            7\n",
      "Parch            8\n",
      "Ticket         363\n",
      "Fare           169\n",
      "Cabin           76\n",
      "Embarked         3\n",
      "Label            1\n",
      "Survived         1\n",
      "dtype: int64\n",
      "Below is a list of columns that have missing values:\n"
     ]
    },
    {
     "data": {
      "text/plain": [
       "['Age', 'Fare', 'Cabin']"
      ]
     },
     "execution_count": 68,
     "metadata": {},
     "output_type": "execute_result"
    }
   ],
   "source": [
    "print('Data types: \\n', test.dtypes, '\\n')\n",
    "print('Unique values: \\n', test.nunique())\n",
    "print('Below is a list of columns that have missing values:')\n",
    "#Highlight what columns have missing values\n",
    "[col for col in test.columns if test[col].isnull().any()]"
   ]
  },
  {
   "cell_type": "code",
   "execution_count": 69,
   "metadata": {
    "ExecuteTime": {
     "end_time": "2021-01-14T13:54:30.766517Z",
     "start_time": "2021-01-14T13:54:30.747561Z"
    }
   },
   "outputs": [
    {
     "data": {
      "text/html": [
       "<div>\n",
       "<style scoped>\n",
       "    .dataframe tbody tr th:only-of-type {\n",
       "        vertical-align: middle;\n",
       "    }\n",
       "\n",
       "    .dataframe tbody tr th {\n",
       "        vertical-align: top;\n",
       "    }\n",
       "\n",
       "    .dataframe thead th {\n",
       "        text-align: right;\n",
       "    }\n",
       "</style>\n",
       "<table border=\"1\" class=\"dataframe\">\n",
       "  <thead>\n",
       "    <tr style=\"text-align: right;\">\n",
       "      <th></th>\n",
       "      <th>Name</th>\n",
       "      <th>Sex</th>\n",
       "      <th>Ticket</th>\n",
       "      <th>Cabin</th>\n",
       "      <th>Embarked</th>\n",
       "      <th>Label</th>\n",
       "      <th>Survived</th>\n",
       "    </tr>\n",
       "  </thead>\n",
       "  <tbody>\n",
       "    <tr>\n",
       "      <th>0</th>\n",
       "      <td>Kelly, Mr. James</td>\n",
       "      <td>male</td>\n",
       "      <td>330911</td>\n",
       "      <td>NaN</td>\n",
       "      <td>Q</td>\n",
       "      <td>test</td>\n",
       "      <td></td>\n",
       "    </tr>\n",
       "    <tr>\n",
       "      <th>1</th>\n",
       "      <td>Wilkes, Mrs. James (Ellen Needs)</td>\n",
       "      <td>female</td>\n",
       "      <td>363272</td>\n",
       "      <td>NaN</td>\n",
       "      <td>S</td>\n",
       "      <td>test</td>\n",
       "      <td></td>\n",
       "    </tr>\n",
       "  </tbody>\n",
       "</table>\n",
       "</div>"
      ],
      "text/plain": [
       "                               Name     Sex  Ticket Cabin Embarked Label  \\\n",
       "0                  Kelly, Mr. James    male  330911   NaN        Q  test   \n",
       "1  Wilkes, Mrs. James (Ellen Needs)  female  363272   NaN        S  test   \n",
       "\n",
       "  Survived  \n",
       "0           \n",
       "1           "
      ]
     },
     "execution_count": 69,
     "metadata": {},
     "output_type": "execute_result"
    }
   ],
   "source": [
    "# Separate data into categorical and numerical \n",
    "df.select_dtypes('object').head(2)"
   ]
  },
  {
   "cell_type": "code",
   "execution_count": 70,
   "metadata": {
    "ExecuteTime": {
     "end_time": "2021-01-14T13:54:30.780481Z",
     "start_time": "2021-01-14T13:54:30.768513Z"
    }
   },
   "outputs": [
    {
     "data": {
      "text/html": [
       "<div>\n",
       "<style scoped>\n",
       "    .dataframe tbody tr th:only-of-type {\n",
       "        vertical-align: middle;\n",
       "    }\n",
       "\n",
       "    .dataframe tbody tr th {\n",
       "        vertical-align: top;\n",
       "    }\n",
       "\n",
       "    .dataframe thead th {\n",
       "        text-align: right;\n",
       "    }\n",
       "</style>\n",
       "<table border=\"1\" class=\"dataframe\">\n",
       "  <thead>\n",
       "    <tr style=\"text-align: right;\">\n",
       "      <th></th>\n",
       "      <th>Age</th>\n",
       "      <th>Fare</th>\n",
       "    </tr>\n",
       "  </thead>\n",
       "  <tbody>\n",
       "    <tr>\n",
       "      <th>0</th>\n",
       "      <td>34.5</td>\n",
       "      <td>7.8292</td>\n",
       "    </tr>\n",
       "    <tr>\n",
       "      <th>1</th>\n",
       "      <td>47.0</td>\n",
       "      <td>7.0000</td>\n",
       "    </tr>\n",
       "  </tbody>\n",
       "</table>\n",
       "</div>"
      ],
      "text/plain": [
       "    Age    Fare\n",
       "0  34.5  7.8292\n",
       "1  47.0  7.0000"
      ]
     },
     "execution_count": 70,
     "metadata": {},
     "output_type": "execute_result"
    }
   ],
   "source": [
    "# check the caragorical variable \n",
    "df.select_dtypes('float').head(2)"
   ]
  },
  {
   "cell_type": "markdown",
   "metadata": {},
   "source": [
    "# Begin to Clean and Analyze Data\n",
    "\n",
    "## Delimit out the 'Name' column to become more relevant\n",
    "### Before (below)"
   ]
  },
  {
   "cell_type": "code",
   "execution_count": 71,
   "metadata": {
    "ExecuteTime": {
     "end_time": "2021-01-14T13:54:30.797436Z",
     "start_time": "2021-01-14T13:54:30.783473Z"
    }
   },
   "outputs": [
    {
     "data": {
      "text/plain": [
       "'Kelly, Mr. James'"
      ]
     },
     "execution_count": 71,
     "metadata": {},
     "output_type": "execute_result"
    }
   ],
   "source": [
    "df['Name'][0]"
   ]
  },
  {
   "cell_type": "markdown",
   "metadata": {},
   "source": [
    "### After (below)\n",
    "\n",
    "Prefix = Mr\n",
    "\n",
    "First_Name = Kelly\n",
    "\n",
    "Last_Name = James"
   ]
  },
  {
   "cell_type": "code",
   "execution_count": 72,
   "metadata": {
    "ExecuteTime": {
     "end_time": "2021-01-14T13:54:30.844310Z",
     "start_time": "2021-01-14T13:54:30.800429Z"
    }
   },
   "outputs": [],
   "source": [
    "df_name1 = df.Name.str.split(',', expand=True).add_prefix('Name_')\n",
    "df1 = df.join(df_name1)\n",
    "df1.rename(columns={'Name_0':'Last_Name', 'Name':'Full_Name', \n",
    "                    'Name_1':'Name'}, inplace=True)\n",
    "\n",
    "df_name2 = df1.Name.str.split('.', expand=True).add_prefix('Name_')\n",
    "df2 = df1.join(df_name2)\n",
    "\n",
    "df2.rename(columns={'Name_0':'Prefix', 'Name_1':'Name_Fix'}, inplace=True)\n",
    "df2.drop(columns=['Name_2'], inplace=True)\n",
    "\n",
    "df_name3 = df2.Name_Fix.str.split(' ', expand=True).add_prefix('Name_')\n",
    "df3 = df2.join(df_name3)\n",
    "\n",
    "df3.rename(columns={'Name_1':'First_Name'}, inplace=True)\n",
    "df3.drop(columns=['Name_0',\n",
    "                 'Name_2',\n",
    "                 'Name_3',\n",
    "                 'Name_4',\n",
    "                 'Name_5',\n",
    "                 'Name_6',\n",
    "                 'Name_7',\n",
    "                 'Name_8',\n",
    "                 'Name_9',\n",
    "                 'Name_10',\n",
    "                 'Name_Fix',\n",
    "                 'Name',\n",
    "                 'First_Name',\n",
    "                 'Last_Name',\n",
    "                 'index',\n",
    "                 'Full_Name',\n",
    "                 'Ticket',\n",
    "                 'Cabin',\n",
    "                 'PassengerId'], inplace=True)\n",
    "df3['Prefix'] = df3['Prefix'].str.strip()"
   ]
  },
  {
   "cell_type": "code",
   "execution_count": 73,
   "metadata": {
    "ExecuteTime": {
     "end_time": "2021-01-14T13:54:30.853296Z",
     "start_time": "2021-01-14T13:54:30.846303Z"
    }
   },
   "outputs": [],
   "source": [
    "df3['Age_factor'] = df3['Sex']+' '+df3['Prefix']+' '+df3['Pclass'].astype(str)\n",
    "df3['Age_factor'].replace(to_replace='female Ms 3', value='female Ms 2', inplace=True)"
   ]
  },
  {
   "cell_type": "code",
   "execution_count": 74,
   "metadata": {
    "ExecuteTime": {
     "end_time": "2021-01-14T13:54:30.872238Z",
     "start_time": "2021-01-14T13:54:30.856278Z"
    },
    "cell_style": "split"
   },
   "outputs": [
    {
     "data": {
      "text/html": [
       "<div>\n",
       "<style scoped>\n",
       "    .dataframe tbody tr th:only-of-type {\n",
       "        vertical-align: middle;\n",
       "    }\n",
       "\n",
       "    .dataframe tbody tr th {\n",
       "        vertical-align: top;\n",
       "    }\n",
       "\n",
       "    .dataframe thead th {\n",
       "        text-align: right;\n",
       "    }\n",
       "</style>\n",
       "<table border=\"1\" class=\"dataframe\">\n",
       "  <thead>\n",
       "    <tr style=\"text-align: right;\">\n",
       "      <th></th>\n",
       "      <th>Sex</th>\n",
       "      <th>Embarked</th>\n",
       "      <th>Label</th>\n",
       "      <th>Survived</th>\n",
       "      <th>Prefix</th>\n",
       "      <th>Age_factor</th>\n",
       "    </tr>\n",
       "  </thead>\n",
       "  <tbody>\n",
       "    <tr>\n",
       "      <th>0</th>\n",
       "      <td>male</td>\n",
       "      <td>Q</td>\n",
       "      <td>test</td>\n",
       "      <td></td>\n",
       "      <td>Mr</td>\n",
       "      <td>male Mr 3</td>\n",
       "    </tr>\n",
       "    <tr>\n",
       "      <th>1</th>\n",
       "      <td>female</td>\n",
       "      <td>S</td>\n",
       "      <td>test</td>\n",
       "      <td></td>\n",
       "      <td>Mrs</td>\n",
       "      <td>female Mrs 3</td>\n",
       "    </tr>\n",
       "    <tr>\n",
       "      <th>2</th>\n",
       "      <td>male</td>\n",
       "      <td>Q</td>\n",
       "      <td>test</td>\n",
       "      <td></td>\n",
       "      <td>Mr</td>\n",
       "      <td>male Mr 2</td>\n",
       "    </tr>\n",
       "    <tr>\n",
       "      <th>3</th>\n",
       "      <td>male</td>\n",
       "      <td>S</td>\n",
       "      <td>test</td>\n",
       "      <td></td>\n",
       "      <td>Mr</td>\n",
       "      <td>male Mr 3</td>\n",
       "    </tr>\n",
       "    <tr>\n",
       "      <th>4</th>\n",
       "      <td>female</td>\n",
       "      <td>S</td>\n",
       "      <td>test</td>\n",
       "      <td></td>\n",
       "      <td>Mrs</td>\n",
       "      <td>female Mrs 3</td>\n",
       "    </tr>\n",
       "  </tbody>\n",
       "</table>\n",
       "</div>"
      ],
      "text/plain": [
       "      Sex Embarked Label Survived Prefix    Age_factor\n",
       "0    male        Q  test              Mr     male Mr 3\n",
       "1  female        S  test             Mrs  female Mrs 3\n",
       "2    male        Q  test              Mr     male Mr 2\n",
       "3    male        S  test              Mr     male Mr 3\n",
       "4  female        S  test             Mrs  female Mrs 3"
      ]
     },
     "execution_count": 74,
     "metadata": {},
     "output_type": "execute_result"
    }
   ],
   "source": [
    "df3.select_dtypes('object').head()"
   ]
  },
  {
   "cell_type": "code",
   "execution_count": 75,
   "metadata": {
    "ExecuteTime": {
     "end_time": "2021-01-14T13:54:30.888192Z",
     "start_time": "2021-01-14T13:54:30.873248Z"
    },
    "cell_style": "split"
   },
   "outputs": [
    {
     "data": {
      "text/html": [
       "<div>\n",
       "<style scoped>\n",
       "    .dataframe tbody tr th:only-of-type {\n",
       "        vertical-align: middle;\n",
       "    }\n",
       "\n",
       "    .dataframe tbody tr th {\n",
       "        vertical-align: top;\n",
       "    }\n",
       "\n",
       "    .dataframe thead th {\n",
       "        text-align: right;\n",
       "    }\n",
       "</style>\n",
       "<table border=\"1\" class=\"dataframe\">\n",
       "  <thead>\n",
       "    <tr style=\"text-align: right;\">\n",
       "      <th></th>\n",
       "      <th>Pclass</th>\n",
       "      <th>Age</th>\n",
       "      <th>SibSp</th>\n",
       "      <th>Parch</th>\n",
       "      <th>Fare</th>\n",
       "      <th>Total</th>\n",
       "    </tr>\n",
       "  </thead>\n",
       "  <tbody>\n",
       "    <tr>\n",
       "      <th>0</th>\n",
       "      <td>3</td>\n",
       "      <td>34.5</td>\n",
       "      <td>0</td>\n",
       "      <td>0</td>\n",
       "      <td>7.8292</td>\n",
       "      <td>0</td>\n",
       "    </tr>\n",
       "    <tr>\n",
       "      <th>1</th>\n",
       "      <td>3</td>\n",
       "      <td>47.0</td>\n",
       "      <td>1</td>\n",
       "      <td>0</td>\n",
       "      <td>7.0000</td>\n",
       "      <td>0</td>\n",
       "    </tr>\n",
       "    <tr>\n",
       "      <th>2</th>\n",
       "      <td>2</td>\n",
       "      <td>62.0</td>\n",
       "      <td>0</td>\n",
       "      <td>0</td>\n",
       "      <td>9.6875</td>\n",
       "      <td>0</td>\n",
       "    </tr>\n",
       "    <tr>\n",
       "      <th>3</th>\n",
       "      <td>3</td>\n",
       "      <td>27.0</td>\n",
       "      <td>0</td>\n",
       "      <td>0</td>\n",
       "      <td>8.6625</td>\n",
       "      <td>0</td>\n",
       "    </tr>\n",
       "    <tr>\n",
       "      <th>4</th>\n",
       "      <td>3</td>\n",
       "      <td>22.0</td>\n",
       "      <td>1</td>\n",
       "      <td>1</td>\n",
       "      <td>12.2875</td>\n",
       "      <td>0</td>\n",
       "    </tr>\n",
       "  </tbody>\n",
       "</table>\n",
       "</div>"
      ],
      "text/plain": [
       "   Pclass   Age  SibSp  Parch     Fare  Total\n",
       "0       3  34.5      0      0   7.8292      0\n",
       "1       3  47.0      1      0   7.0000      0\n",
       "2       2  62.0      0      0   9.6875      0\n",
       "3       3  27.0      0      0   8.6625      0\n",
       "4       3  22.0      1      1  12.2875      0"
      ]
     },
     "execution_count": 75,
     "metadata": {},
     "output_type": "execute_result"
    }
   ],
   "source": [
    "df3.select_dtypes('number').head()"
   ]
  },
  {
   "cell_type": "code",
   "execution_count": null,
   "metadata": {},
   "outputs": [],
   "source": [
    "df3['fare_factor'] = df3['Sex']+' '+df3['Prefix']+' '+df3['Pclass'].astype(str)\n",
    "df3['fare_factor'].replace(to_replace='female Ms 3', value='female Ms 2', inplace=True)"
   ]
  },
  {
   "cell_type": "code",
   "execution_count": 76,
   "metadata": {
    "ExecuteTime": {
     "end_time": "2021-01-14T13:54:30.899188Z",
     "start_time": "2021-01-14T13:54:30.892192Z"
    },
    "scrolled": true
   },
   "outputs": [],
   "source": [
    "df_age = df3.groupby(by='Age_factor').agg({'Age':'mean'})\n",
    "df_age['Age_fill'] = df_age['Age']\n",
    "df_age.drop(columns='Age', inplace=True)"
   ]
  },
  {
   "cell_type": "code",
   "execution_count": 77,
   "metadata": {
    "ExecuteTime": {
     "end_time": "2021-01-14T13:54:30.920106Z",
     "start_time": "2021-01-14T13:54:30.903150Z"
    }
   },
   "outputs": [],
   "source": [
    "df3.set_index('Age_factor', inplace=True)\n",
    "df4 = df3.join(df_age)\n",
    "df4['Age'].fillna(df4['Age_fill'], inplace=True)\n",
    "df4.reset_index( inplace=True)\n",
    "df4.drop(columns=['Age_fill','Age_factor'], inplace=True)"
   ]
  },
  {
   "cell_type": "code",
   "execution_count": 78,
   "metadata": {
    "ExecuteTime": {
     "end_time": "2021-01-14T13:54:30.936062Z",
     "start_time": "2021-01-14T13:54:30.923098Z"
    }
   },
   "outputs": [
    {
     "data": {
      "text/html": [
       "<div>\n",
       "<style scoped>\n",
       "    .dataframe tbody tr th:only-of-type {\n",
       "        vertical-align: middle;\n",
       "    }\n",
       "\n",
       "    .dataframe tbody tr th {\n",
       "        vertical-align: top;\n",
       "    }\n",
       "\n",
       "    .dataframe thead th {\n",
       "        text-align: right;\n",
       "    }\n",
       "</style>\n",
       "<table border=\"1\" class=\"dataframe\">\n",
       "  <thead>\n",
       "    <tr style=\"text-align: right;\">\n",
       "      <th></th>\n",
       "      <th>Pclass</th>\n",
       "      <th>Sex</th>\n",
       "      <th>Age</th>\n",
       "      <th>SibSp</th>\n",
       "      <th>Parch</th>\n",
       "      <th>Fare</th>\n",
       "      <th>Embarked</th>\n",
       "      <th>Label</th>\n",
       "      <th>Survived</th>\n",
       "      <th>Total</th>\n",
       "      <th>Prefix</th>\n",
       "    </tr>\n",
       "  </thead>\n",
       "  <tbody>\n",
       "    <tr>\n",
       "      <th>0</th>\n",
       "      <td>1</td>\n",
       "      <td>female</td>\n",
       "      <td>39.0</td>\n",
       "      <td>0</td>\n",
       "      <td>0</td>\n",
       "      <td>108.9000</td>\n",
       "      <td>C</td>\n",
       "      <td>test</td>\n",
       "      <td></td>\n",
       "      <td>0</td>\n",
       "      <td>Dona</td>\n",
       "    </tr>\n",
       "    <tr>\n",
       "      <th>1</th>\n",
       "      <td>1</td>\n",
       "      <td>female</td>\n",
       "      <td>49.0</td>\n",
       "      <td>0</td>\n",
       "      <td>0</td>\n",
       "      <td>25.9292</td>\n",
       "      <td>S</td>\n",
       "      <td>train</td>\n",
       "      <td>1</td>\n",
       "      <td>0</td>\n",
       "      <td>Dr</td>\n",
       "    </tr>\n",
       "  </tbody>\n",
       "</table>\n",
       "</div>"
      ],
      "text/plain": [
       "   Pclass     Sex   Age  SibSp  Parch      Fare Embarked  Label Survived  \\\n",
       "0       1  female  39.0      0      0  108.9000        C   test            \n",
       "1       1  female  49.0      0      0   25.9292        S  train        1   \n",
       "\n",
       "   Total Prefix  \n",
       "0      0   Dona  \n",
       "1      0     Dr  "
      ]
     },
     "execution_count": 78,
     "metadata": {},
     "output_type": "execute_result"
    }
   ],
   "source": [
    "df4.head(2)"
   ]
  },
  {
   "cell_type": "code",
   "execution_count": null,
   "metadata": {},
   "outputs": [],
   "source": [
    "df_fare = df3.groupby(by='Age_factor').agg({'Age':'mean'})\n",
    "df_age['Age_fill'] = df_age['Age']\n",
    "df_age.drop(columns='Age', inplace=True)"
   ]
  },
  {
   "cell_type": "code",
   "execution_count": null,
   "metadata": {},
   "outputs": [],
   "source": [
    "df3.set_index('Age_factor', inplace=True)\n",
    "df4 = df3.join(df_age)\n",
    "df4['Age'].fillna(df4['Age_fill'], inplace=True)\n",
    "df4.reset_index( inplace=True)\n",
    "df4.drop(columns=['Age_fill','Age_factor'], inplace=True)"
   ]
  },
  {
   "cell_type": "code",
   "execution_count": null,
   "metadata": {},
   "outputs": [],
   "source": []
  },
  {
   "cell_type": "code",
   "execution_count": 20,
   "metadata": {
    "ExecuteTime": {
     "end_time": "2021-01-14T13:51:49.545970Z",
     "start_time": "2021-01-14T13:51:49.536994Z"
    }
   },
   "outputs": [],
   "source": [
    "train = df4.loc[df4['Label'] == 'train']\n",
    "train.reset_index(inplace=True)\n",
    "train.drop(columns='index', inplace=True)"
   ]
  },
  {
   "cell_type": "code",
   "execution_count": 21,
   "metadata": {
    "ExecuteTime": {
     "end_time": "2021-01-14T13:51:49.558962Z",
     "start_time": "2021-01-14T13:51:49.546967Z"
    },
    "cell_style": "split"
   },
   "outputs": [
    {
     "data": {
      "text/html": [
       "<div>\n",
       "<style scoped>\n",
       "    .dataframe tbody tr th:only-of-type {\n",
       "        vertical-align: middle;\n",
       "    }\n",
       "\n",
       "    .dataframe tbody tr th {\n",
       "        vertical-align: top;\n",
       "    }\n",
       "\n",
       "    .dataframe thead th {\n",
       "        text-align: right;\n",
       "    }\n",
       "</style>\n",
       "<table border=\"1\" class=\"dataframe\">\n",
       "  <thead>\n",
       "    <tr style=\"text-align: right;\">\n",
       "      <th></th>\n",
       "      <th>Sex</th>\n",
       "      <th>Embarked</th>\n",
       "      <th>Label</th>\n",
       "      <th>Survived</th>\n",
       "      <th>Prefix</th>\n",
       "    </tr>\n",
       "  </thead>\n",
       "  <tbody>\n",
       "    <tr>\n",
       "      <th>0</th>\n",
       "      <td>female</td>\n",
       "      <td>S</td>\n",
       "      <td>train</td>\n",
       "      <td>1</td>\n",
       "      <td>Dr</td>\n",
       "    </tr>\n",
       "    <tr>\n",
       "      <th>1</th>\n",
       "      <td>female</td>\n",
       "      <td>C</td>\n",
       "      <td>train</td>\n",
       "      <td>1</td>\n",
       "      <td>Lady</td>\n",
       "    </tr>\n",
       "    <tr>\n",
       "      <th>2</th>\n",
       "      <td>female</td>\n",
       "      <td>S</td>\n",
       "      <td>train</td>\n",
       "      <td>1</td>\n",
       "      <td>Miss</td>\n",
       "    </tr>\n",
       "    <tr>\n",
       "      <th>3</th>\n",
       "      <td>female</td>\n",
       "      <td>NaN</td>\n",
       "      <td>train</td>\n",
       "      <td>1</td>\n",
       "      <td>Miss</td>\n",
       "    </tr>\n",
       "    <tr>\n",
       "      <th>4</th>\n",
       "      <td>female</td>\n",
       "      <td>S</td>\n",
       "      <td>train</td>\n",
       "      <td>1</td>\n",
       "      <td>Miss</td>\n",
       "    </tr>\n",
       "  </tbody>\n",
       "</table>\n",
       "</div>"
      ],
      "text/plain": [
       "      Sex Embarked  Label Survived Prefix\n",
       "0  female        S  train        1     Dr\n",
       "1  female        C  train        1   Lady\n",
       "2  female        S  train        1   Miss\n",
       "3  female      NaN  train        1   Miss\n",
       "4  female        S  train        1   Miss"
      ]
     },
     "execution_count": 21,
     "metadata": {},
     "output_type": "execute_result"
    }
   ],
   "source": [
    "train.select_dtypes('object').head()"
   ]
  },
  {
   "cell_type": "code",
   "execution_count": 22,
   "metadata": {
    "ExecuteTime": {
     "end_time": "2021-01-14T13:51:49.575907Z",
     "start_time": "2021-01-14T13:51:49.560955Z"
    },
    "cell_style": "split"
   },
   "outputs": [
    {
     "data": {
      "text/html": [
       "<div>\n",
       "<style scoped>\n",
       "    .dataframe tbody tr th:only-of-type {\n",
       "        vertical-align: middle;\n",
       "    }\n",
       "\n",
       "    .dataframe tbody tr th {\n",
       "        vertical-align: top;\n",
       "    }\n",
       "\n",
       "    .dataframe thead th {\n",
       "        text-align: right;\n",
       "    }\n",
       "</style>\n",
       "<table border=\"1\" class=\"dataframe\">\n",
       "  <thead>\n",
       "    <tr style=\"text-align: right;\">\n",
       "      <th></th>\n",
       "      <th>Pclass</th>\n",
       "      <th>Age</th>\n",
       "      <th>SibSp</th>\n",
       "      <th>Parch</th>\n",
       "      <th>Fare</th>\n",
       "      <th>Total</th>\n",
       "    </tr>\n",
       "  </thead>\n",
       "  <tbody>\n",
       "    <tr>\n",
       "      <th>0</th>\n",
       "      <td>1</td>\n",
       "      <td>49.0</td>\n",
       "      <td>0</td>\n",
       "      <td>0</td>\n",
       "      <td>25.9292</td>\n",
       "      <td>0</td>\n",
       "    </tr>\n",
       "    <tr>\n",
       "      <th>1</th>\n",
       "      <td>1</td>\n",
       "      <td>48.0</td>\n",
       "      <td>1</td>\n",
       "      <td>0</td>\n",
       "      <td>39.6000</td>\n",
       "      <td>0</td>\n",
       "    </tr>\n",
       "    <tr>\n",
       "      <th>2</th>\n",
       "      <td>1</td>\n",
       "      <td>58.0</td>\n",
       "      <td>0</td>\n",
       "      <td>0</td>\n",
       "      <td>26.5500</td>\n",
       "      <td>0</td>\n",
       "    </tr>\n",
       "    <tr>\n",
       "      <th>3</th>\n",
       "      <td>1</td>\n",
       "      <td>38.0</td>\n",
       "      <td>0</td>\n",
       "      <td>0</td>\n",
       "      <td>80.0000</td>\n",
       "      <td>0</td>\n",
       "    </tr>\n",
       "    <tr>\n",
       "      <th>4</th>\n",
       "      <td>1</td>\n",
       "      <td>23.0</td>\n",
       "      <td>3</td>\n",
       "      <td>2</td>\n",
       "      <td>263.0000</td>\n",
       "      <td>0</td>\n",
       "    </tr>\n",
       "  </tbody>\n",
       "</table>\n",
       "</div>"
      ],
      "text/plain": [
       "   Pclass   Age  SibSp  Parch      Fare  Total\n",
       "0       1  49.0      0      0   25.9292      0\n",
       "1       1  48.0      1      0   39.6000      0\n",
       "2       1  58.0      0      0   26.5500      0\n",
       "3       1  38.0      0      0   80.0000      0\n",
       "4       1  23.0      3      2  263.0000      0"
      ]
     },
     "execution_count": 22,
     "metadata": {},
     "output_type": "execute_result"
    }
   ],
   "source": [
    "train.select_dtypes('number').head()"
   ]
  },
  {
   "cell_type": "code",
   "execution_count": 23,
   "metadata": {
    "ExecuteTime": {
     "end_time": "2021-01-14T13:51:49.585873Z",
     "start_time": "2021-01-14T13:51:49.580877Z"
    }
   },
   "outputs": [
    {
     "data": {
      "text/plain": [
       "(891, 11)"
      ]
     },
     "execution_count": 23,
     "metadata": {},
     "output_type": "execute_result"
    }
   ],
   "source": [
    "train.shape"
   ]
  },
  {
   "cell_type": "code",
   "execution_count": 24,
   "metadata": {
    "ExecuteTime": {
     "end_time": "2021-01-14T13:51:49.785802Z",
     "start_time": "2021-01-14T13:51:49.590849Z"
    }
   },
   "outputs": [
    {
     "name": "stdout",
     "output_type": "stream",
     "text": [
      "Sex       female      male     \n",
      "Total          0         0     \n",
      "Survived       0    1    0    1\n",
      "Survived      81  233  468  109\n",
      "pct_total      9   26   52   12\n"
     ]
    },
    {
     "data": {
      "image/png": "[encoded data removed]",
      "text/plain": [
       "<Figure size 432x288 with 1 Axes>"
      ]
     },
     "metadata": {
      "needs_background": "light"
     },
     "output_type": "display_data"
    }
   ],
   "source": [
    "review_detail(train,\n",
    "              'Sex', \"\", \n",
    "              'Total', '', \n",
    "              False,'count','not', False)"
   ]
  },
  {
   "cell_type": "markdown",
   "metadata": {},
   "source": [
    "Based on the above, there is a clear inverse relationship between survivors sex...."
   ]
  },
  {
   "cell_type": "code",
   "execution_count": 25,
   "metadata": {
    "ExecuteTime": {
     "end_time": "2021-01-14T13:51:49.968989Z",
     "start_time": "2021-01-14T13:51:49.787792Z"
    }
   },
   "outputs": [
    {
     "name": "stdout",
     "output_type": "stream",
     "text": [
      "Pclass         1                   2                   3             \n",
      "Sex       female     male     female     male     female     male    \n",
      "Survived       0   1    0   1      0   1    0   1      0   1    0   1\n",
      "Survived       3  91   77  45      6  70   91  17     72  72  300  47\n",
      "pct_total      0  10    8   5      0   7   10   1      8   8   33   5\n"
     ]
    },
    {
     "data": {
      "image/png": "[encoded data removed]",
      "text/plain": [
       "<Figure size 432x288 with 1 Axes>"
      ]
     },
     "metadata": {
      "needs_background": "light"
     },
     "output_type": "display_data"
    }
   ],
   "source": [
    "review_detail(train,\n",
    "              'Pclass', \"\", \n",
    "              'Sex', '', \n",
    "              False,'count','not', False)"
   ]
  },
  {
   "cell_type": "markdown",
   "metadata": {},
   "source": [
    "Based on the above, third class males are significanly disproportionate compared to the rest of the population."
   ]
  },
  {
   "cell_type": "code",
   "execution_count": 26,
   "metadata": {
    "ExecuteTime": {
     "end_time": "2021-01-14T13:51:49.976996Z",
     "start_time": "2021-01-14T13:51:49.970984Z"
    }
   },
   "outputs": [],
   "source": [
    "def plot_distribution_num(train, train_select, legend) :\n",
    "    sns.set_style('ticks')\n",
    "    s = sns.FacetGrid(train, hue = legend, aspect = 2.5, palette = {1 : 'Lightblue', 0 : 'gold'})\n",
    "    s.map(sns.kdeplot, train_select, shade = True, alpha = 0.8)\n",
    "    s.set(xlim=(0, train[train_select].max()))\n",
    "    s.add_legend()\n",
    "    s.set_axis_labels(train_select, 'proportion')\n",
    "    s.fig.suptitle(train_select)\n",
    "    plt.show()"
   ]
  },
  {
   "cell_type": "code",
   "execution_count": 27,
   "metadata": {
    "ExecuteTime": {
     "end_time": "2021-01-14T13:51:50.508127Z",
     "start_time": "2021-01-14T13:51:49.978996Z"
    }
   },
   "outputs": [
    {
     "data": {
      "image/png": "[encoded data removed]",
      "text/plain": [
       "<Figure size 587x216 with 1 Axes>"
      ]
     },
     "metadata": {},
     "output_type": "display_data"
    },
    {
     "data": {
      "image/png": "[encoded data removed]",
      "text/plain": [
       "<Figure size 587x216 with 1 Axes>"
      ]
     },
     "metadata": {},
     "output_type": "display_data"
    }
   ],
   "source": [
    "train_female = train.loc[train['Sex'] == 'female']\n",
    "train_male = train.loc[train['Sex'] == 'male']\n",
    "\n",
    "plot_distribution_num(train_female, 'Age', 'Survived')\n",
    "plot_distribution_num(train_male, 'Age', 'Survived')"
   ]
  },
  {
   "cell_type": "code",
   "execution_count": 28,
   "metadata": {
    "ExecuteTime": {
     "end_time": "2021-01-14T13:51:50.547995Z",
     "start_time": "2021-01-14T13:51:50.511094Z"
    }
   },
   "outputs": [],
   "source": [
    "ea = [train, df4]\n",
    "\n",
    "m_var = 17\n",
    "f_var = 50\n",
    "for ea in ea:\n",
    "    ea.loc[(ea['Age']<m_var) & (ea['Sex'] == 'male') , 'Age_Bins'] = 'male_under_17'\n",
    "    ea.loc[(ea['Age']>=m_var) & (ea['Sex'] == 'male'), 'Age_Bins'] = 'male_over_17'\n",
    "    ea.loc[(ea['Age']<f_var) & (ea['Sex'] == 'female'), 'Age_Bins'] = 'female_under_50'\n",
    "    ea.loc[(ea['Age']>=f_var) & (ea['Sex'] == 'female'), 'Age_Bins'] = 'female_over_50'"
   ]
  },
  {
   "cell_type": "code",
   "execution_count": 29,
   "metadata": {
    "ExecuteTime": {
     "end_time": "2021-01-14T13:51:50.700597Z",
     "start_time": "2021-01-14T13:51:50.549989Z"
    },
    "scrolled": false
   },
   "outputs": [
    {
     "name": "stdout",
     "output_type": "stream",
     "text": [
      "Age_Bins  male_over_17     male_under_17    \n",
      "Sex               male              male    \n",
      "Survived             0   1             0   1\n",
      "Survived           437  85            31  24\n",
      "pct_total           75  14             5   4\n"
     ]
    },
    {
     "data": {
      "image/png": "[encoded data removed]",
      "text/plain": [
       "<Figure size 432x288 with 1 Axes>"
      ]
     },
     "metadata": {},
     "output_type": "display_data"
    }
   ],
   "source": [
    "review_detail(train,\n",
    "              'Age_Bins', \"\", \n",
    "              'Sex', 'female', \n",
    "              False,'count','not', False)"
   ]
  },
  {
   "cell_type": "code",
   "execution_count": 30,
   "metadata": {
    "ExecuteTime": {
     "end_time": "2021-01-14T13:51:51.121548Z",
     "start_time": "2021-01-14T13:51:50.702624Z"
    }
   },
   "outputs": [
    {
     "data": {
      "image/png": "[encoded data removed]",
      "text/plain": [
       "<Figure size 587x216 with 1 Axes>"
      ]
     },
     "metadata": {},
     "output_type": "display_data"
    },
    {
     "data": {
      "image/png": "[encoded data removed]",
      "text/plain": [
       "<Figure size 587x216 with 1 Axes>"
      ]
     },
     "metadata": {},
     "output_type": "display_data"
    }
   ],
   "source": [
    "plot_distribution_num(train_female, 'Fare', 'Survived')\n",
    "plot_distribution_num(train_male, 'Fare', 'Survived')"
   ]
  },
  {
   "cell_type": "code",
   "execution_count": 31,
   "metadata": {
    "ExecuteTime": {
     "end_time": "2021-01-14T13:51:51.140620Z",
     "start_time": "2021-01-14T13:51:51.123544Z"
    }
   },
   "outputs": [],
   "source": [
    "ea = [train, df4]\n",
    "\n",
    "var = 50\n",
    "\n",
    "for ea in ea:\n",
    "    ea.loc[(ea['Fare']<var), 'Fare_Bins'] = 'Less than $50'\n",
    "    ea.loc[(ea['Fare']>=var), 'Fare_Bins'] = 'Greater than or equal to $50'"
   ]
  },
  {
   "cell_type": "code",
   "execution_count": 32,
   "metadata": {
    "ExecuteTime": {
     "end_time": "2021-01-14T13:51:51.161542Z",
     "start_time": "2021-01-14T13:51:51.143579Z"
    },
    "cell_style": "center"
   },
   "outputs": [
    {
     "data": {
      "text/html": [
       "<div>\n",
       "<style scoped>\n",
       "    .dataframe tbody tr th:only-of-type {\n",
       "        vertical-align: middle;\n",
       "    }\n",
       "\n",
       "    .dataframe tbody tr th {\n",
       "        vertical-align: top;\n",
       "    }\n",
       "\n",
       "    .dataframe thead th {\n",
       "        text-align: right;\n",
       "    }\n",
       "</style>\n",
       "<table border=\"1\" class=\"dataframe\">\n",
       "  <thead>\n",
       "    <tr style=\"text-align: right;\">\n",
       "      <th></th>\n",
       "      <th>Sex</th>\n",
       "      <th>Embarked</th>\n",
       "      <th>Label</th>\n",
       "      <th>Survived</th>\n",
       "      <th>Prefix</th>\n",
       "      <th>Age_Bins</th>\n",
       "      <th>Fare_Bins</th>\n",
       "    </tr>\n",
       "  </thead>\n",
       "  <tbody>\n",
       "    <tr>\n",
       "      <th>0</th>\n",
       "      <td>female</td>\n",
       "      <td>C</td>\n",
       "      <td>test</td>\n",
       "      <td></td>\n",
       "      <td>Dona</td>\n",
       "      <td>female_under_50</td>\n",
       "      <td>Greater than or equal to $50</td>\n",
       "    </tr>\n",
       "    <tr>\n",
       "      <th>1</th>\n",
       "      <td>female</td>\n",
       "      <td>S</td>\n",
       "      <td>train</td>\n",
       "      <td>1</td>\n",
       "      <td>Dr</td>\n",
       "      <td>female_under_50</td>\n",
       "      <td>Less than $50</td>\n",
       "    </tr>\n",
       "  </tbody>\n",
       "</table>\n",
       "</div>"
      ],
      "text/plain": [
       "      Sex Embarked  Label Survived Prefix         Age_Bins  \\\n",
       "0  female        C   test            Dona  female_under_50   \n",
       "1  female        S  train        1     Dr  female_under_50   \n",
       "\n",
       "                      Fare_Bins  \n",
       "0  Greater than or equal to $50  \n",
       "1                 Less than $50  "
      ]
     },
     "execution_count": 32,
     "metadata": {},
     "output_type": "execute_result"
    }
   ],
   "source": [
    "df4.select_dtypes('object').head(2)"
   ]
  },
  {
   "cell_type": "code",
   "execution_count": 33,
   "metadata": {
    "ExecuteTime": {
     "end_time": "2021-01-14T13:51:51.180487Z",
     "start_time": "2021-01-14T13:51:51.163533Z"
    },
    "cell_style": "center"
   },
   "outputs": [
    {
     "data": {
      "text/html": [
       "<div>\n",
       "<style scoped>\n",
       "    .dataframe tbody tr th:only-of-type {\n",
       "        vertical-align: middle;\n",
       "    }\n",
       "\n",
       "    .dataframe tbody tr th {\n",
       "        vertical-align: top;\n",
       "    }\n",
       "\n",
       "    .dataframe thead th {\n",
       "        text-align: right;\n",
       "    }\n",
       "</style>\n",
       "<table border=\"1\" class=\"dataframe\">\n",
       "  <thead>\n",
       "    <tr style=\"text-align: right;\">\n",
       "      <th></th>\n",
       "      <th>Pclass</th>\n",
       "      <th>Age</th>\n",
       "      <th>SibSp</th>\n",
       "      <th>Parch</th>\n",
       "      <th>Fare</th>\n",
       "      <th>Total</th>\n",
       "    </tr>\n",
       "  </thead>\n",
       "  <tbody>\n",
       "    <tr>\n",
       "      <th>0</th>\n",
       "      <td>1</td>\n",
       "      <td>39.0</td>\n",
       "      <td>0</td>\n",
       "      <td>0</td>\n",
       "      <td>108.9000</td>\n",
       "      <td>0</td>\n",
       "    </tr>\n",
       "    <tr>\n",
       "      <th>1</th>\n",
       "      <td>1</td>\n",
       "      <td>49.0</td>\n",
       "      <td>0</td>\n",
       "      <td>0</td>\n",
       "      <td>25.9292</td>\n",
       "      <td>0</td>\n",
       "    </tr>\n",
       "  </tbody>\n",
       "</table>\n",
       "</div>"
      ],
      "text/plain": [
       "   Pclass   Age  SibSp  Parch      Fare  Total\n",
       "0       1  39.0      0      0  108.9000      0\n",
       "1       1  49.0      0      0   25.9292      0"
      ]
     },
     "execution_count": 33,
     "metadata": {},
     "output_type": "execute_result"
    }
   ],
   "source": [
    "df4.select_dtypes('number').head(2)"
   ]
  },
  {
   "cell_type": "code",
   "execution_count": 34,
   "metadata": {
    "ExecuteTime": {
     "end_time": "2021-01-14T13:51:51.190486Z",
     "start_time": "2021-01-14T13:51:51.182482Z"
    },
    "scrolled": false
   },
   "outputs": [],
   "source": [
    "# review_detail(train,\n",
    "#               'Prefix', \"\", \n",
    "#               'Total', '', \n",
    "#               False,'count','not', True)"
   ]
  },
  {
   "cell_type": "markdown",
   "metadata": {},
   "source": [
    "Based on the above, the prefix is not very important to the survival rate"
   ]
  },
  {
   "cell_type": "code",
   "execution_count": 35,
   "metadata": {
    "ExecuteTime": {
     "end_time": "2021-01-14T13:51:51.216431Z",
     "start_time": "2021-01-14T13:51:51.191458Z"
    }
   },
   "outputs": [],
   "source": [
    "# Load cleaned data to begin modeling steps\n",
    "df4.to_csv('../data/modified/df4.csv')"
   ]
  },
  {
   "cell_type": "markdown",
   "metadata": {},
   "source": [
    "# Chapter 2: Begin Machine Learning"
   ]
  },
  {
   "cell_type": "code",
   "execution_count": 36,
   "metadata": {
    "ExecuteTime": {
     "end_time": "2021-01-14T13:51:51.220412Z",
     "start_time": "2021-01-14T13:51:51.217422Z"
    }
   },
   "outputs": [],
   "source": [
    "train_backup = train"
   ]
  },
  {
   "cell_type": "code",
   "execution_count": 37,
   "metadata": {
    "ExecuteTime": {
     "end_time": "2021-01-14T13:51:51.232348Z",
     "start_time": "2021-01-14T13:51:51.223372Z"
    }
   },
   "outputs": [],
   "source": [
    "ea = ['Pclass', 'SibSp', 'Parch', 'Total', 'Survived']\n",
    "\n",
    "for ea in ea:\n",
    "    train[ea] = train[ea].astype('object')"
   ]
  },
  {
   "cell_type": "code",
   "execution_count": 38,
   "metadata": {
    "ExecuteTime": {
     "end_time": "2021-01-14T13:51:51.251298Z",
     "start_time": "2021-01-14T13:51:51.234344Z"
    }
   },
   "outputs": [
    {
     "data": {
      "text/html": [
       "<div>\n",
       "<style scoped>\n",
       "    .dataframe tbody tr th:only-of-type {\n",
       "        vertical-align: middle;\n",
       "    }\n",
       "\n",
       "    .dataframe tbody tr th {\n",
       "        vertical-align: top;\n",
       "    }\n",
       "\n",
       "    .dataframe thead th {\n",
       "        text-align: right;\n",
       "    }\n",
       "</style>\n",
       "<table border=\"1\" class=\"dataframe\">\n",
       "  <thead>\n",
       "    <tr style=\"text-align: right;\">\n",
       "      <th></th>\n",
       "      <th>Age</th>\n",
       "      <th>Fare</th>\n",
       "    </tr>\n",
       "  </thead>\n",
       "  <tbody>\n",
       "    <tr>\n",
       "      <th>0</th>\n",
       "      <td>49.0</td>\n",
       "      <td>25.9292</td>\n",
       "    </tr>\n",
       "    <tr>\n",
       "      <th>1</th>\n",
       "      <td>48.0</td>\n",
       "      <td>39.6000</td>\n",
       "    </tr>\n",
       "  </tbody>\n",
       "</table>\n",
       "</div>"
      ],
      "text/plain": [
       "    Age     Fare\n",
       "0  49.0  25.9292\n",
       "1  48.0  39.6000"
      ]
     },
     "execution_count": 38,
     "metadata": {},
     "output_type": "execute_result"
    }
   ],
   "source": [
    "train.select_dtypes('number').head(2)"
   ]
  },
  {
   "cell_type": "code",
   "execution_count": 39,
   "metadata": {
    "ExecuteTime": {
     "end_time": "2021-01-14T13:51:51.269250Z",
     "start_time": "2021-01-14T13:51:51.256289Z"
    }
   },
   "outputs": [],
   "source": [
    "# group the categorical columns together\n",
    "categorical = list(train.select_dtypes('object'))\n",
    "numerical = list(train.select_dtypes('number'))"
   ]
  },
  {
   "cell_type": "code",
   "execution_count": 40,
   "metadata": {
    "ExecuteTime": {
     "end_time": "2021-01-14T13:51:51.282224Z",
     "start_time": "2021-01-14T13:51:51.273238Z"
    }
   },
   "outputs": [
    {
     "name": "stdout",
     "output_type": "stream",
     "text": [
      "<class 'pandas.core.frame.DataFrame'>\n",
      "RangeIndex: 891 entries, 0 to 890\n",
      "Data columns (total 2 columns):\n",
      "Age     891 non-null float64\n",
      "Fare    891 non-null float64\n",
      "dtypes: float64(2)\n",
      "memory usage: 14.0 KB\n"
     ]
    }
   ],
   "source": [
    "train[numerical].info()"
   ]
  },
  {
   "cell_type": "code",
   "execution_count": 41,
   "metadata": {
    "ExecuteTime": {
     "end_time": "2021-01-14T13:51:51.314129Z",
     "start_time": "2021-01-14T13:51:51.285208Z"
    }
   },
   "outputs": [
    {
     "data": {
      "text/html": [
       "<div>\n",
       "<style scoped>\n",
       "    .dataframe tbody tr th:only-of-type {\n",
       "        vertical-align: middle;\n",
       "    }\n",
       "\n",
       "    .dataframe tbody tr th {\n",
       "        vertical-align: top;\n",
       "    }\n",
       "\n",
       "    .dataframe thead th {\n",
       "        text-align: right;\n",
       "    }\n",
       "</style>\n",
       "<table border=\"1\" class=\"dataframe\">\n",
       "  <thead>\n",
       "    <tr style=\"text-align: right;\">\n",
       "      <th></th>\n",
       "      <th>Pclass</th>\n",
       "      <th>Sex</th>\n",
       "      <th>Age</th>\n",
       "      <th>SibSp</th>\n",
       "      <th>Parch</th>\n",
       "      <th>Fare</th>\n",
       "      <th>Embarked</th>\n",
       "      <th>Label</th>\n",
       "      <th>Survived</th>\n",
       "      <th>Total</th>\n",
       "      <th>Prefix</th>\n",
       "      <th>Age_Bins</th>\n",
       "      <th>Fare_Bins</th>\n",
       "    </tr>\n",
       "  </thead>\n",
       "  <tbody>\n",
       "    <tr>\n",
       "      <th>0</th>\n",
       "      <td>1</td>\n",
       "      <td>female</td>\n",
       "      <td>49.0</td>\n",
       "      <td>0</td>\n",
       "      <td>0</td>\n",
       "      <td>25.9292</td>\n",
       "      <td>S</td>\n",
       "      <td>train</td>\n",
       "      <td>1</td>\n",
       "      <td>0</td>\n",
       "      <td>Dr</td>\n",
       "      <td>female_under_50</td>\n",
       "      <td>Less than $50</td>\n",
       "    </tr>\n",
       "    <tr>\n",
       "      <th>1</th>\n",
       "      <td>1</td>\n",
       "      <td>female</td>\n",
       "      <td>48.0</td>\n",
       "      <td>1</td>\n",
       "      <td>0</td>\n",
       "      <td>39.6000</td>\n",
       "      <td>C</td>\n",
       "      <td>train</td>\n",
       "      <td>1</td>\n",
       "      <td>0</td>\n",
       "      <td>Lady</td>\n",
       "      <td>female_under_50</td>\n",
       "      <td>Less than $50</td>\n",
       "    </tr>\n",
       "    <tr>\n",
       "      <th>2</th>\n",
       "      <td>1</td>\n",
       "      <td>female</td>\n",
       "      <td>58.0</td>\n",
       "      <td>0</td>\n",
       "      <td>0</td>\n",
       "      <td>26.5500</td>\n",
       "      <td>S</td>\n",
       "      <td>train</td>\n",
       "      <td>1</td>\n",
       "      <td>0</td>\n",
       "      <td>Miss</td>\n",
       "      <td>female_over_50</td>\n",
       "      <td>Less than $50</td>\n",
       "    </tr>\n",
       "    <tr>\n",
       "      <th>3</th>\n",
       "      <td>1</td>\n",
       "      <td>female</td>\n",
       "      <td>38.0</td>\n",
       "      <td>0</td>\n",
       "      <td>0</td>\n",
       "      <td>80.0000</td>\n",
       "      <td>NaN</td>\n",
       "      <td>train</td>\n",
       "      <td>1</td>\n",
       "      <td>0</td>\n",
       "      <td>Miss</td>\n",
       "      <td>female_under_50</td>\n",
       "      <td>Greater than or equal to $50</td>\n",
       "    </tr>\n",
       "    <tr>\n",
       "      <th>4</th>\n",
       "      <td>1</td>\n",
       "      <td>female</td>\n",
       "      <td>23.0</td>\n",
       "      <td>3</td>\n",
       "      <td>2</td>\n",
       "      <td>263.0000</td>\n",
       "      <td>S</td>\n",
       "      <td>train</td>\n",
       "      <td>1</td>\n",
       "      <td>0</td>\n",
       "      <td>Miss</td>\n",
       "      <td>female_under_50</td>\n",
       "      <td>Greater than or equal to $50</td>\n",
       "    </tr>\n",
       "    <tr>\n",
       "      <th>...</th>\n",
       "      <td>...</td>\n",
       "      <td>...</td>\n",
       "      <td>...</td>\n",
       "      <td>...</td>\n",
       "      <td>...</td>\n",
       "      <td>...</td>\n",
       "      <td>...</td>\n",
       "      <td>...</td>\n",
       "      <td>...</td>\n",
       "      <td>...</td>\n",
       "      <td>...</td>\n",
       "      <td>...</td>\n",
       "      <td>...</td>\n",
       "    </tr>\n",
       "    <tr>\n",
       "      <th>886</th>\n",
       "      <td>2</td>\n",
       "      <td>male</td>\n",
       "      <td>54.0</td>\n",
       "      <td>1</td>\n",
       "      <td>0</td>\n",
       "      <td>26.0000</td>\n",
       "      <td>S</td>\n",
       "      <td>train</td>\n",
       "      <td>0</td>\n",
       "      <td>0</td>\n",
       "      <td>Rev</td>\n",
       "      <td>male_over_17</td>\n",
       "      <td>Less than $50</td>\n",
       "    </tr>\n",
       "    <tr>\n",
       "      <th>887</th>\n",
       "      <td>2</td>\n",
       "      <td>male</td>\n",
       "      <td>57.0</td>\n",
       "      <td>0</td>\n",
       "      <td>0</td>\n",
       "      <td>12.3500</td>\n",
       "      <td>Q</td>\n",
       "      <td>train</td>\n",
       "      <td>0</td>\n",
       "      <td>0</td>\n",
       "      <td>Rev</td>\n",
       "      <td>male_over_17</td>\n",
       "      <td>Less than $50</td>\n",
       "    </tr>\n",
       "    <tr>\n",
       "      <th>888</th>\n",
       "      <td>2</td>\n",
       "      <td>male</td>\n",
       "      <td>28.0</td>\n",
       "      <td>0</td>\n",
       "      <td>1</td>\n",
       "      <td>33.0000</td>\n",
       "      <td>S</td>\n",
       "      <td>train</td>\n",
       "      <td>0</td>\n",
       "      <td>0</td>\n",
       "      <td>Rev</td>\n",
       "      <td>male_over_17</td>\n",
       "      <td>Less than $50</td>\n",
       "    </tr>\n",
       "    <tr>\n",
       "      <th>889</th>\n",
       "      <td>2</td>\n",
       "      <td>male</td>\n",
       "      <td>27.0</td>\n",
       "      <td>0</td>\n",
       "      <td>0</td>\n",
       "      <td>13.0000</td>\n",
       "      <td>S</td>\n",
       "      <td>train</td>\n",
       "      <td>0</td>\n",
       "      <td>0</td>\n",
       "      <td>Rev</td>\n",
       "      <td>male_over_17</td>\n",
       "      <td>Less than $50</td>\n",
       "    </tr>\n",
       "    <tr>\n",
       "      <th>890</th>\n",
       "      <td>1</td>\n",
       "      <td>male</td>\n",
       "      <td>49.0</td>\n",
       "      <td>1</td>\n",
       "      <td>0</td>\n",
       "      <td>56.9292</td>\n",
       "      <td>C</td>\n",
       "      <td>train</td>\n",
       "      <td>1</td>\n",
       "      <td>0</td>\n",
       "      <td>Sir</td>\n",
       "      <td>male_over_17</td>\n",
       "      <td>Greater than or equal to $50</td>\n",
       "    </tr>\n",
       "  </tbody>\n",
       "</table>\n",
       "<p>891 rows × 13 columns</p>\n",
       "</div>"
      ],
      "text/plain": [
       "    Pclass     Sex   Age SibSp Parch      Fare Embarked  Label Survived Total  \\\n",
       "0        1  female  49.0     0     0   25.9292        S  train        1     0   \n",
       "1        1  female  48.0     1     0   39.6000        C  train        1     0   \n",
       "2        1  female  58.0     0     0   26.5500        S  train        1     0   \n",
       "3        1  female  38.0     0     0   80.0000      NaN  train        1     0   \n",
       "4        1  female  23.0     3     2  263.0000        S  train        1     0   \n",
       "..     ...     ...   ...   ...   ...       ...      ...    ...      ...   ...   \n",
       "886      2    male  54.0     1     0   26.0000        S  train        0     0   \n",
       "887      2    male  57.0     0     0   12.3500        Q  train        0     0   \n",
       "888      2    male  28.0     0     1   33.0000        S  train        0     0   \n",
       "889      2    male  27.0     0     0   13.0000        S  train        0     0   \n",
       "890      1    male  49.0     1     0   56.9292        C  train        1     0   \n",
       "\n",
       "    Prefix         Age_Bins                     Fare_Bins  \n",
       "0       Dr  female_under_50                 Less than $50  \n",
       "1     Lady  female_under_50                 Less than $50  \n",
       "2     Miss   female_over_50                 Less than $50  \n",
       "3     Miss  female_under_50  Greater than or equal to $50  \n",
       "4     Miss  female_under_50  Greater than or equal to $50  \n",
       "..     ...              ...                           ...  \n",
       "886    Rev     male_over_17                 Less than $50  \n",
       "887    Rev     male_over_17                 Less than $50  \n",
       "888    Rev     male_over_17                 Less than $50  \n",
       "889    Rev     male_over_17                 Less than $50  \n",
       "890    Sir     male_over_17  Greater than or equal to $50  \n",
       "\n",
       "[891 rows x 13 columns]"
      ]
     },
     "execution_count": 41,
     "metadata": {},
     "output_type": "execute_result"
    }
   ],
   "source": [
    "train"
   ]
  },
  {
   "cell_type": "code",
   "execution_count": 42,
   "metadata": {
    "ExecuteTime": {
     "end_time": "2021-01-14T13:51:51.325101Z",
     "start_time": "2021-01-14T13:51:51.316125Z"
    }
   },
   "outputs": [],
   "source": [
    "# Create scaler\n",
    "scaler = StandardScaler()\n",
    "# Transform the feature\n",
    "standardized = scaler.fit_transform (train[numerical])\n",
    "standardized_df = pd.DataFrame(standardized, columns=['Age', 'Fare'])"
   ]
  },
  {
   "cell_type": "code",
   "execution_count": 43,
   "metadata": {
    "ExecuteTime": {
     "end_time": "2021-01-14T13:51:51.339065Z",
     "start_time": "2021-01-14T13:51:51.328093Z"
    },
    "scrolled": true
   },
   "outputs": [
    {
     "data": {
      "text/html": [
       "<div>\n",
       "<style scoped>\n",
       "    .dataframe tbody tr th:only-of-type {\n",
       "        vertical-align: middle;\n",
       "    }\n",
       "\n",
       "    .dataframe tbody tr th {\n",
       "        vertical-align: top;\n",
       "    }\n",
       "\n",
       "    .dataframe thead th {\n",
       "        text-align: right;\n",
       "    }\n",
       "</style>\n",
       "<table border=\"1\" class=\"dataframe\">\n",
       "  <thead>\n",
       "    <tr style=\"text-align: right;\">\n",
       "      <th></th>\n",
       "      <th>Age</th>\n",
       "      <th>Fare</th>\n",
       "    </tr>\n",
       "  </thead>\n",
       "  <tbody>\n",
       "    <tr>\n",
       "      <th>0</th>\n",
       "      <td>1.448687</td>\n",
       "      <td>-0.126345</td>\n",
       "    </tr>\n",
       "    <tr>\n",
       "      <th>1</th>\n",
       "      <td>1.374651</td>\n",
       "      <td>0.148912</td>\n",
       "    </tr>\n",
       "    <tr>\n",
       "      <th>2</th>\n",
       "      <td>2.115007</td>\n",
       "      <td>-0.113846</td>\n",
       "    </tr>\n",
       "    <tr>\n",
       "      <th>3</th>\n",
       "      <td>0.634295</td>\n",
       "      <td>0.962353</td>\n",
       "    </tr>\n",
       "    <tr>\n",
       "      <th>4</th>\n",
       "      <td>-0.476238</td>\n",
       "      <td>4.647001</td>\n",
       "    </tr>\n",
       "    <tr>\n",
       "      <th>...</th>\n",
       "      <td>...</td>\n",
       "      <td>...</td>\n",
       "    </tr>\n",
       "    <tr>\n",
       "      <th>886</th>\n",
       "      <td>1.818865</td>\n",
       "      <td>-0.124920</td>\n",
       "    </tr>\n",
       "    <tr>\n",
       "      <th>887</th>\n",
       "      <td>2.040971</td>\n",
       "      <td>-0.399758</td>\n",
       "    </tr>\n",
       "    <tr>\n",
       "      <th>888</th>\n",
       "      <td>-0.106060</td>\n",
       "      <td>0.016023</td>\n",
       "    </tr>\n",
       "    <tr>\n",
       "      <th>889</th>\n",
       "      <td>-0.180096</td>\n",
       "      <td>-0.386671</td>\n",
       "    </tr>\n",
       "    <tr>\n",
       "      <th>890</th>\n",
       "      <td>1.448687</td>\n",
       "      <td>0.497830</td>\n",
       "    </tr>\n",
       "  </tbody>\n",
       "</table>\n",
       "<p>891 rows × 2 columns</p>\n",
       "</div>"
      ],
      "text/plain": [
       "          Age      Fare\n",
       "0    1.448687 -0.126345\n",
       "1    1.374651  0.148912\n",
       "2    2.115007 -0.113846\n",
       "3    0.634295  0.962353\n",
       "4   -0.476238  4.647001\n",
       "..        ...       ...\n",
       "886  1.818865 -0.124920\n",
       "887  2.040971 -0.399758\n",
       "888 -0.106060  0.016023\n",
       "889 -0.180096 -0.386671\n",
       "890  1.448687  0.497830\n",
       "\n",
       "[891 rows x 2 columns]"
      ]
     },
     "execution_count": 43,
     "metadata": {},
     "output_type": "execute_result"
    }
   ],
   "source": [
    "standardized_df"
   ]
  },
  {
   "cell_type": "code",
   "execution_count": 44,
   "metadata": {
    "ExecuteTime": {
     "end_time": "2021-01-14T13:51:51.347046Z",
     "start_time": "2021-01-14T13:51:51.342056Z"
    }
   },
   "outputs": [],
   "source": [
    "# Drop the non- scaled numerical columns\n",
    "train = train.drop(columns = numerical, axis = 1)"
   ]
  },
  {
   "cell_type": "code",
   "execution_count": 45,
   "metadata": {
    "ExecuteTime": {
     "end_time": "2021-01-14T13:51:51.368984Z",
     "start_time": "2021-01-14T13:51:51.348039Z"
    }
   },
   "outputs": [
    {
     "data": {
      "text/html": [
       "<div>\n",
       "<style scoped>\n",
       "    .dataframe tbody tr th:only-of-type {\n",
       "        vertical-align: middle;\n",
       "    }\n",
       "\n",
       "    .dataframe tbody tr th {\n",
       "        vertical-align: top;\n",
       "    }\n",
       "\n",
       "    .dataframe thead th {\n",
       "        text-align: right;\n",
       "    }\n",
       "</style>\n",
       "<table border=\"1\" class=\"dataframe\">\n",
       "  <thead>\n",
       "    <tr style=\"text-align: right;\">\n",
       "      <th></th>\n",
       "      <th>Pclass</th>\n",
       "      <th>Sex</th>\n",
       "      <th>SibSp</th>\n",
       "      <th>Parch</th>\n",
       "      <th>Embarked</th>\n",
       "      <th>Label</th>\n",
       "      <th>Survived</th>\n",
       "      <th>Total</th>\n",
       "      <th>Prefix</th>\n",
       "      <th>Age_Bins</th>\n",
       "      <th>Fare_Bins</th>\n",
       "    </tr>\n",
       "  </thead>\n",
       "  <tbody>\n",
       "    <tr>\n",
       "      <th>0</th>\n",
       "      <td>1</td>\n",
       "      <td>female</td>\n",
       "      <td>0</td>\n",
       "      <td>0</td>\n",
       "      <td>S</td>\n",
       "      <td>train</td>\n",
       "      <td>1</td>\n",
       "      <td>0</td>\n",
       "      <td>Dr</td>\n",
       "      <td>female_under_50</td>\n",
       "      <td>Less than $50</td>\n",
       "    </tr>\n",
       "    <tr>\n",
       "      <th>1</th>\n",
       "      <td>1</td>\n",
       "      <td>female</td>\n",
       "      <td>1</td>\n",
       "      <td>0</td>\n",
       "      <td>C</td>\n",
       "      <td>train</td>\n",
       "      <td>1</td>\n",
       "      <td>0</td>\n",
       "      <td>Lady</td>\n",
       "      <td>female_under_50</td>\n",
       "      <td>Less than $50</td>\n",
       "    </tr>\n",
       "    <tr>\n",
       "      <th>2</th>\n",
       "      <td>1</td>\n",
       "      <td>female</td>\n",
       "      <td>0</td>\n",
       "      <td>0</td>\n",
       "      <td>S</td>\n",
       "      <td>train</td>\n",
       "      <td>1</td>\n",
       "      <td>0</td>\n",
       "      <td>Miss</td>\n",
       "      <td>female_over_50</td>\n",
       "      <td>Less than $50</td>\n",
       "    </tr>\n",
       "    <tr>\n",
       "      <th>3</th>\n",
       "      <td>1</td>\n",
       "      <td>female</td>\n",
       "      <td>0</td>\n",
       "      <td>0</td>\n",
       "      <td>NaN</td>\n",
       "      <td>train</td>\n",
       "      <td>1</td>\n",
       "      <td>0</td>\n",
       "      <td>Miss</td>\n",
       "      <td>female_under_50</td>\n",
       "      <td>Greater than or equal to $50</td>\n",
       "    </tr>\n",
       "    <tr>\n",
       "      <th>4</th>\n",
       "      <td>1</td>\n",
       "      <td>female</td>\n",
       "      <td>3</td>\n",
       "      <td>2</td>\n",
       "      <td>S</td>\n",
       "      <td>train</td>\n",
       "      <td>1</td>\n",
       "      <td>0</td>\n",
       "      <td>Miss</td>\n",
       "      <td>female_under_50</td>\n",
       "      <td>Greater than or equal to $50</td>\n",
       "    </tr>\n",
       "    <tr>\n",
       "      <th>...</th>\n",
       "      <td>...</td>\n",
       "      <td>...</td>\n",
       "      <td>...</td>\n",
       "      <td>...</td>\n",
       "      <td>...</td>\n",
       "      <td>...</td>\n",
       "      <td>...</td>\n",
       "      <td>...</td>\n",
       "      <td>...</td>\n",
       "      <td>...</td>\n",
       "      <td>...</td>\n",
       "    </tr>\n",
       "    <tr>\n",
       "      <th>886</th>\n",
       "      <td>2</td>\n",
       "      <td>male</td>\n",
       "      <td>1</td>\n",
       "      <td>0</td>\n",
       "      <td>S</td>\n",
       "      <td>train</td>\n",
       "      <td>0</td>\n",
       "      <td>0</td>\n",
       "      <td>Rev</td>\n",
       "      <td>male_over_17</td>\n",
       "      <td>Less than $50</td>\n",
       "    </tr>\n",
       "    <tr>\n",
       "      <th>887</th>\n",
       "      <td>2</td>\n",
       "      <td>male</td>\n",
       "      <td>0</td>\n",
       "      <td>0</td>\n",
       "      <td>Q</td>\n",
       "      <td>train</td>\n",
       "      <td>0</td>\n",
       "      <td>0</td>\n",
       "      <td>Rev</td>\n",
       "      <td>male_over_17</td>\n",
       "      <td>Less than $50</td>\n",
       "    </tr>\n",
       "    <tr>\n",
       "      <th>888</th>\n",
       "      <td>2</td>\n",
       "      <td>male</td>\n",
       "      <td>0</td>\n",
       "      <td>1</td>\n",
       "      <td>S</td>\n",
       "      <td>train</td>\n",
       "      <td>0</td>\n",
       "      <td>0</td>\n",
       "      <td>Rev</td>\n",
       "      <td>male_over_17</td>\n",
       "      <td>Less than $50</td>\n",
       "    </tr>\n",
       "    <tr>\n",
       "      <th>889</th>\n",
       "      <td>2</td>\n",
       "      <td>male</td>\n",
       "      <td>0</td>\n",
       "      <td>0</td>\n",
       "      <td>S</td>\n",
       "      <td>train</td>\n",
       "      <td>0</td>\n",
       "      <td>0</td>\n",
       "      <td>Rev</td>\n",
       "      <td>male_over_17</td>\n",
       "      <td>Less than $50</td>\n",
       "    </tr>\n",
       "    <tr>\n",
       "      <th>890</th>\n",
       "      <td>1</td>\n",
       "      <td>male</td>\n",
       "      <td>1</td>\n",
       "      <td>0</td>\n",
       "      <td>C</td>\n",
       "      <td>train</td>\n",
       "      <td>1</td>\n",
       "      <td>0</td>\n",
       "      <td>Sir</td>\n",
       "      <td>male_over_17</td>\n",
       "      <td>Greater than or equal to $50</td>\n",
       "    </tr>\n",
       "  </tbody>\n",
       "</table>\n",
       "<p>891 rows × 11 columns</p>\n",
       "</div>"
      ],
      "text/plain": [
       "    Pclass     Sex SibSp Parch Embarked  Label Survived Total Prefix  \\\n",
       "0        1  female     0     0        S  train        1     0     Dr   \n",
       "1        1  female     1     0        C  train        1     0   Lady   \n",
       "2        1  female     0     0        S  train        1     0   Miss   \n",
       "3        1  female     0     0      NaN  train        1     0   Miss   \n",
       "4        1  female     3     2        S  train        1     0   Miss   \n",
       "..     ...     ...   ...   ...      ...    ...      ...   ...    ...   \n",
       "886      2    male     1     0        S  train        0     0    Rev   \n",
       "887      2    male     0     0        Q  train        0     0    Rev   \n",
       "888      2    male     0     1        S  train        0     0    Rev   \n",
       "889      2    male     0     0        S  train        0     0    Rev   \n",
       "890      1    male     1     0        C  train        1     0    Sir   \n",
       "\n",
       "            Age_Bins                     Fare_Bins  \n",
       "0    female_under_50                 Less than $50  \n",
       "1    female_under_50                 Less than $50  \n",
       "2     female_over_50                 Less than $50  \n",
       "3    female_under_50  Greater than or equal to $50  \n",
       "4    female_under_50  Greater than or equal to $50  \n",
       "..               ...                           ...  \n",
       "886     male_over_17                 Less than $50  \n",
       "887     male_over_17                 Less than $50  \n",
       "888     male_over_17                 Less than $50  \n",
       "889     male_over_17                 Less than $50  \n",
       "890     male_over_17  Greater than or equal to $50  \n",
       "\n",
       "[891 rows x 11 columns]"
      ]
     },
     "execution_count": 45,
     "metadata": {},
     "output_type": "execute_result"
    }
   ],
   "source": [
    "train"
   ]
  },
  {
   "cell_type": "code",
   "execution_count": 46,
   "metadata": {
    "ExecuteTime": {
     "end_time": "2021-01-14T13:51:51.387932Z",
     "start_time": "2021-01-14T13:51:51.371978Z"
    },
    "cell_style": "split"
   },
   "outputs": [
    {
     "data": {
      "text/html": [
       "<div>\n",
       "<style scoped>\n",
       "    .dataframe tbody tr th:only-of-type {\n",
       "        vertical-align: middle;\n",
       "    }\n",
       "\n",
       "    .dataframe tbody tr th {\n",
       "        vertical-align: top;\n",
       "    }\n",
       "\n",
       "    .dataframe thead th {\n",
       "        text-align: right;\n",
       "    }\n",
       "</style>\n",
       "<table border=\"1\" class=\"dataframe\">\n",
       "  <thead>\n",
       "    <tr style=\"text-align: right;\">\n",
       "      <th></th>\n",
       "      <th>Pclass</th>\n",
       "      <th>Sex</th>\n",
       "      <th>SibSp</th>\n",
       "      <th>Parch</th>\n",
       "      <th>Embarked</th>\n",
       "      <th>Label</th>\n",
       "      <th>Survived</th>\n",
       "      <th>Total</th>\n",
       "      <th>Prefix</th>\n",
       "      <th>Age_Bins</th>\n",
       "      <th>Fare_Bins</th>\n",
       "    </tr>\n",
       "  </thead>\n",
       "  <tbody>\n",
       "    <tr>\n",
       "      <th>0</th>\n",
       "      <td>1</td>\n",
       "      <td>female</td>\n",
       "      <td>0</td>\n",
       "      <td>0</td>\n",
       "      <td>S</td>\n",
       "      <td>train</td>\n",
       "      <td>1</td>\n",
       "      <td>0</td>\n",
       "      <td>Dr</td>\n",
       "      <td>female_under_50</td>\n",
       "      <td>Less than $50</td>\n",
       "    </tr>\n",
       "    <tr>\n",
       "      <th>1</th>\n",
       "      <td>1</td>\n",
       "      <td>female</td>\n",
       "      <td>1</td>\n",
       "      <td>0</td>\n",
       "      <td>C</td>\n",
       "      <td>train</td>\n",
       "      <td>1</td>\n",
       "      <td>0</td>\n",
       "      <td>Lady</td>\n",
       "      <td>female_under_50</td>\n",
       "      <td>Less than $50</td>\n",
       "    </tr>\n",
       "  </tbody>\n",
       "</table>\n",
       "</div>"
      ],
      "text/plain": [
       "  Pclass     Sex SibSp Parch Embarked  Label Survived Total Prefix  \\\n",
       "0      1  female     0     0        S  train        1     0     Dr   \n",
       "1      1  female     1     0        C  train        1     0   Lady   \n",
       "\n",
       "          Age_Bins      Fare_Bins  \n",
       "0  female_under_50  Less than $50  \n",
       "1  female_under_50  Less than $50  "
      ]
     },
     "execution_count": 46,
     "metadata": {},
     "output_type": "execute_result"
    }
   ],
   "source": [
    "train.head(2)"
   ]
  },
  {
   "cell_type": "code",
   "execution_count": 47,
   "metadata": {
    "ExecuteTime": {
     "end_time": "2021-01-14T13:51:51.397906Z",
     "start_time": "2021-01-14T13:51:51.389926Z"
    },
    "cell_style": "split",
    "scrolled": true
   },
   "outputs": [
    {
     "data": {
      "text/html": [
       "<div>\n",
       "<style scoped>\n",
       "    .dataframe tbody tr th:only-of-type {\n",
       "        vertical-align: middle;\n",
       "    }\n",
       "\n",
       "    .dataframe tbody tr th {\n",
       "        vertical-align: top;\n",
       "    }\n",
       "\n",
       "    .dataframe thead th {\n",
       "        text-align: right;\n",
       "    }\n",
       "</style>\n",
       "<table border=\"1\" class=\"dataframe\">\n",
       "  <thead>\n",
       "    <tr style=\"text-align: right;\">\n",
       "      <th></th>\n",
       "      <th>Age</th>\n",
       "      <th>Fare</th>\n",
       "    </tr>\n",
       "  </thead>\n",
       "  <tbody>\n",
       "    <tr>\n",
       "      <th>0</th>\n",
       "      <td>1.448687</td>\n",
       "      <td>-0.126345</td>\n",
       "    </tr>\n",
       "    <tr>\n",
       "      <th>1</th>\n",
       "      <td>1.374651</td>\n",
       "      <td>0.148912</td>\n",
       "    </tr>\n",
       "  </tbody>\n",
       "</table>\n",
       "</div>"
      ],
      "text/plain": [
       "        Age      Fare\n",
       "0  1.448687 -0.126345\n",
       "1  1.374651  0.148912"
      ]
     },
     "execution_count": 47,
     "metadata": {},
     "output_type": "execute_result"
    }
   ],
   "source": [
    "standardized_df.head(2)"
   ]
  },
  {
   "cell_type": "code",
   "execution_count": 48,
   "metadata": {
    "ExecuteTime": {
     "end_time": "2021-01-14T13:51:51.408876Z",
     "start_time": "2021-01-14T13:51:51.401897Z"
    }
   },
   "outputs": [],
   "source": [
    "# Merge the non-numerical and the scaled numerical columns\n",
    "train1 = pd.merge(train,standardized_df, left_index=True, right_index=True, how = 'left')"
   ]
  },
  {
   "cell_type": "code",
   "execution_count": 49,
   "metadata": {
    "ExecuteTime": {
     "end_time": "2021-01-14T13:51:51.428823Z",
     "start_time": "2021-01-14T13:51:51.410886Z"
    }
   },
   "outputs": [
    {
     "data": {
      "text/html": [
       "<div>\n",
       "<style scoped>\n",
       "    .dataframe tbody tr th:only-of-type {\n",
       "        vertical-align: middle;\n",
       "    }\n",
       "\n",
       "    .dataframe tbody tr th {\n",
       "        vertical-align: top;\n",
       "    }\n",
       "\n",
       "    .dataframe thead th {\n",
       "        text-align: right;\n",
       "    }\n",
       "</style>\n",
       "<table border=\"1\" class=\"dataframe\">\n",
       "  <thead>\n",
       "    <tr style=\"text-align: right;\">\n",
       "      <th></th>\n",
       "      <th>Pclass</th>\n",
       "      <th>Sex</th>\n",
       "      <th>SibSp</th>\n",
       "      <th>Parch</th>\n",
       "      <th>Embarked</th>\n",
       "      <th>Label</th>\n",
       "      <th>Survived</th>\n",
       "      <th>Total</th>\n",
       "      <th>Prefix</th>\n",
       "      <th>Age_Bins</th>\n",
       "      <th>Fare_Bins</th>\n",
       "      <th>Age</th>\n",
       "      <th>Fare</th>\n",
       "    </tr>\n",
       "  </thead>\n",
       "  <tbody>\n",
       "    <tr>\n",
       "      <th>0</th>\n",
       "      <td>1</td>\n",
       "      <td>female</td>\n",
       "      <td>0</td>\n",
       "      <td>0</td>\n",
       "      <td>S</td>\n",
       "      <td>train</td>\n",
       "      <td>1</td>\n",
       "      <td>0</td>\n",
       "      <td>Dr</td>\n",
       "      <td>female_under_50</td>\n",
       "      <td>Less than $50</td>\n",
       "      <td>1.448687</td>\n",
       "      <td>-0.126345</td>\n",
       "    </tr>\n",
       "    <tr>\n",
       "      <th>1</th>\n",
       "      <td>1</td>\n",
       "      <td>female</td>\n",
       "      <td>1</td>\n",
       "      <td>0</td>\n",
       "      <td>C</td>\n",
       "      <td>train</td>\n",
       "      <td>1</td>\n",
       "      <td>0</td>\n",
       "      <td>Lady</td>\n",
       "      <td>female_under_50</td>\n",
       "      <td>Less than $50</td>\n",
       "      <td>1.374651</td>\n",
       "      <td>0.148912</td>\n",
       "    </tr>\n",
       "  </tbody>\n",
       "</table>\n",
       "</div>"
      ],
      "text/plain": [
       "  Pclass     Sex SibSp Parch Embarked  Label Survived Total Prefix  \\\n",
       "0      1  female     0     0        S  train        1     0     Dr   \n",
       "1      1  female     1     0        C  train        1     0   Lady   \n",
       "\n",
       "          Age_Bins      Fare_Bins       Age      Fare  \n",
       "0  female_under_50  Less than $50  1.448687 -0.126345  \n",
       "1  female_under_50  Less than $50  1.374651  0.148912  "
      ]
     },
     "execution_count": 49,
     "metadata": {},
     "output_type": "execute_result"
    }
   ],
   "source": [
    "train1.head(2)"
   ]
  },
  {
   "cell_type": "code",
   "execution_count": 50,
   "metadata": {
    "ExecuteTime": {
     "end_time": "2021-01-14T13:51:51.449766Z",
     "start_time": "2021-01-14T13:51:51.430818Z"
    }
   },
   "outputs": [],
   "source": [
    "for ea in train1.select_dtypes('object').columns:\n",
    "    train1[ea] = train1[ea].astype('category').cat.codes"
   ]
  },
  {
   "cell_type": "code",
   "execution_count": 51,
   "metadata": {
    "ExecuteTime": {
     "end_time": "2021-01-14T13:51:51.463732Z",
     "start_time": "2021-01-14T13:51:51.450764Z"
    }
   },
   "outputs": [
    {
     "data": {
      "text/html": [
       "<div>\n",
       "<style scoped>\n",
       "    .dataframe tbody tr th:only-of-type {\n",
       "        vertical-align: middle;\n",
       "    }\n",
       "\n",
       "    .dataframe tbody tr th {\n",
       "        vertical-align: top;\n",
       "    }\n",
       "\n",
       "    .dataframe thead th {\n",
       "        text-align: right;\n",
       "    }\n",
       "</style>\n",
       "<table border=\"1\" class=\"dataframe\">\n",
       "  <thead>\n",
       "    <tr style=\"text-align: right;\">\n",
       "      <th></th>\n",
       "      <th>Pclass</th>\n",
       "      <th>Sex</th>\n",
       "      <th>SibSp</th>\n",
       "      <th>Parch</th>\n",
       "      <th>Embarked</th>\n",
       "      <th>Label</th>\n",
       "      <th>Survived</th>\n",
       "      <th>Total</th>\n",
       "      <th>Prefix</th>\n",
       "      <th>Age_Bins</th>\n",
       "      <th>Fare_Bins</th>\n",
       "      <th>Age</th>\n",
       "      <th>Fare</th>\n",
       "    </tr>\n",
       "  </thead>\n",
       "  <tbody>\n",
       "    <tr>\n",
       "      <th>0</th>\n",
       "      <td>0</td>\n",
       "      <td>0</td>\n",
       "      <td>0</td>\n",
       "      <td>0</td>\n",
       "      <td>2</td>\n",
       "      <td>0</td>\n",
       "      <td>1</td>\n",
       "      <td>0</td>\n",
       "      <td>3</td>\n",
       "      <td>1</td>\n",
       "      <td>1</td>\n",
       "      <td>1.448687</td>\n",
       "      <td>-0.126345</td>\n",
       "    </tr>\n",
       "    <tr>\n",
       "      <th>1</th>\n",
       "      <td>0</td>\n",
       "      <td>0</td>\n",
       "      <td>1</td>\n",
       "      <td>0</td>\n",
       "      <td>0</td>\n",
       "      <td>0</td>\n",
       "      <td>1</td>\n",
       "      <td>0</td>\n",
       "      <td>5</td>\n",
       "      <td>1</td>\n",
       "      <td>1</td>\n",
       "      <td>1.374651</td>\n",
       "      <td>0.148912</td>\n",
       "    </tr>\n",
       "  </tbody>\n",
       "</table>\n",
       "</div>"
      ],
      "text/plain": [
       "   Pclass  Sex  SibSp  Parch  Embarked  Label  Survived  Total  Prefix  \\\n",
       "0       0    0      0      0         2      0         1      0       3   \n",
       "1       0    0      1      0         0      0         1      0       5   \n",
       "\n",
       "   Age_Bins  Fare_Bins       Age      Fare  \n",
       "0         1          1  1.448687 -0.126345  \n",
       "1         1          1  1.374651  0.148912  "
      ]
     },
     "execution_count": 51,
     "metadata": {},
     "output_type": "execute_result"
    }
   ],
   "source": [
    "train1.head(2)"
   ]
  },
  {
   "cell_type": "code",
   "execution_count": 52,
   "metadata": {
    "ExecuteTime": {
     "end_time": "2021-01-14T13:51:51.483681Z",
     "start_time": "2021-01-14T13:51:51.465729Z"
    }
   },
   "outputs": [
    {
     "name": "stdout",
     "output_type": "stream",
     "text": [
      "Column Pclass has 0 missing values out of 891.  0%\n",
      "Column Sex has 0 missing values out of 891.  0%\n",
      "Column SibSp has 0 missing values out of 891.  0%\n",
      "Column Parch has 0 missing values out of 891.  0%\n",
      "Column Embarked has 0 missing values out of 891.  0%\n",
      "Column Label has 0 missing values out of 891.  0%\n",
      "Column Survived has 0 missing values out of 891.  0%\n",
      "Column Total has 0 missing values out of 891.  0%\n",
      "Column Prefix has 0 missing values out of 891.  0%\n",
      "Column Age_Bins has 0 missing values out of 891.  0%\n",
      "Column Fare_Bins has 0 missing values out of 891.  0%\n",
      "Column Age has 0 missing values out of 891.  0%\n",
      "Column Fare has 0 missing values out of 891.  0%\n"
     ]
    }
   ],
   "source": [
    "identify_blanks(train1)"
   ]
  },
  {
   "cell_type": "code",
   "execution_count": 53,
   "metadata": {
    "ExecuteTime": {
     "end_time": "2021-01-14T13:51:51.489664Z",
     "start_time": "2021-01-14T13:51:51.485685Z"
    }
   },
   "outputs": [],
   "source": [
    "# fig, (ax1, ax2) = plt.subplots(ncols=2,figsize=(15, 5))\n",
    "\n",
    "# print('Before (Left) \\n')\n",
    "# sns.distplot(train1['Fare'], ax=ax1, color='#36688D')\n",
    "# Fare = round(train1['Fare'].skew(),5)\n",
    "\n",
    "# print ('the skew of Fare is', Fare, '\\n')\n",
    "# train1['Fare']= np.sqrt(train1.Fare)\n",
    "\n",
    "# print('After (Right)')\n",
    "# sns.distplot(train1['Fare'], ax=ax2, color='#36688D')\n",
    "# train1['Fare']= np.sqrt(train1.Fare)\n",
    "\n",
    "# Fare = round(train1['Fare'].skew(),5)\n",
    "# print ('the skew of Fare is', Fare)"
   ]
  },
  {
   "cell_type": "code",
   "execution_count": 54,
   "metadata": {
    "ExecuteTime": {
     "end_time": "2021-01-14T13:51:51.497645Z",
     "start_time": "2021-01-14T13:51:51.491660Z"
    }
   },
   "outputs": [],
   "source": [
    "# # Plot temp on y bar\n",
    "# fig, (ax7, ax8) = plt.subplots(ncols=2,figsize=(30, 5))\n",
    "# sns.distplot(train1['Age'], ax=ax7, color='#36688D')\n",
    "# sns.distplot(train1['Fare'], ax=ax8, color='#36688D')"
   ]
  },
  {
   "cell_type": "code",
   "execution_count": 55,
   "metadata": {
    "ExecuteTime": {
     "end_time": "2021-01-14T13:51:51.508617Z",
     "start_time": "2021-01-14T13:51:51.499638Z"
    }
   },
   "outputs": [
    {
     "data": {
      "text/plain": [
       "Index(['Pclass', 'Sex', 'SibSp', 'Parch', 'Embarked', 'Label', 'Survived',\n",
       "       'Total', 'Prefix', 'Age_Bins', 'Fare_Bins', 'Age', 'Fare'],\n",
       "      dtype='object')"
      ]
     },
     "execution_count": 55,
     "metadata": {},
     "output_type": "execute_result"
    }
   ],
   "source": [
    "train1.columns"
   ]
  },
  {
   "cell_type": "code",
   "execution_count": 56,
   "metadata": {
    "ExecuteTime": {
     "end_time": "2021-01-14T13:51:51.515598Z",
     "start_time": "2021-01-14T13:51:51.510611Z"
    }
   },
   "outputs": [],
   "source": [
    "train1.drop(columns='Survived', inplace=True)"
   ]
  },
  {
   "cell_type": "code",
   "execution_count": 57,
   "metadata": {
    "ExecuteTime": {
     "end_time": "2021-01-14T13:51:51.533551Z",
     "start_time": "2021-01-14T13:51:51.517597Z"
    }
   },
   "outputs": [
    {
     "name": "stdout",
     "output_type": "stream",
     "text": [
      "<class 'pandas.core.frame.DataFrame'>\n",
      "RangeIndex: 891 entries, 0 to 890\n",
      "Data columns (total 12 columns):\n",
      "Pclass       891 non-null object\n",
      "Sex          891 non-null object\n",
      "SibSp        891 non-null object\n",
      "Parch        891 non-null object\n",
      "Embarked     891 non-null object\n",
      "Label        891 non-null object\n",
      "Total        891 non-null object\n",
      "Prefix       891 non-null object\n",
      "Age_Bins     891 non-null object\n",
      "Fare_Bins    891 non-null object\n",
      "Age          891 non-null float64\n",
      "Fare         891 non-null float64\n",
      "dtypes: float64(2), object(10)\n",
      "memory usage: 83.7+ KB\n"
     ]
    }
   ],
   "source": [
    "ea = ['Pclass', 'Sex', 'SibSp', 'Parch', 'Embarked', 'Label',\n",
    "       'Total', 'Prefix', 'Age_Bins', 'Fare_Bins']\n",
    "\n",
    "for ea in ea:\n",
    "    train1[ea] = train1[ea].astype('object')\n",
    "\n",
    "train1.info()"
   ]
  },
  {
   "cell_type": "code",
   "execution_count": 58,
   "metadata": {
    "ExecuteTime": {
     "end_time": "2021-01-14T13:51:51.577018Z",
     "start_time": "2021-01-14T13:51:51.537544Z"
    }
   },
   "outputs": [
    {
     "data": {
      "text/html": [
       "<div>\n",
       "<style scoped>\n",
       "    .dataframe tbody tr th:only-of-type {\n",
       "        vertical-align: middle;\n",
       "    }\n",
       "\n",
       "    .dataframe tbody tr th {\n",
       "        vertical-align: top;\n",
       "    }\n",
       "\n",
       "    .dataframe thead th {\n",
       "        text-align: right;\n",
       "    }\n",
       "</style>\n",
       "<table border=\"1\" class=\"dataframe\">\n",
       "  <thead>\n",
       "    <tr style=\"text-align: right;\">\n",
       "      <th></th>\n",
       "      <th>Age</th>\n",
       "      <th>Fare</th>\n",
       "      <th>Pclass_1</th>\n",
       "      <th>Pclass_2</th>\n",
       "      <th>Sex_1</th>\n",
       "      <th>SibSp_1</th>\n",
       "      <th>SibSp_2</th>\n",
       "      <th>SibSp_3</th>\n",
       "      <th>SibSp_4</th>\n",
       "      <th>SibSp_5</th>\n",
       "      <th>...</th>\n",
       "      <th>Prefix_11</th>\n",
       "      <th>Prefix_12</th>\n",
       "      <th>Prefix_13</th>\n",
       "      <th>Prefix_14</th>\n",
       "      <th>Prefix_15</th>\n",
       "      <th>Prefix_16</th>\n",
       "      <th>Age_Bins_1</th>\n",
       "      <th>Age_Bins_2</th>\n",
       "      <th>Age_Bins_3</th>\n",
       "      <th>Fare_Bins_1</th>\n",
       "    </tr>\n",
       "  </thead>\n",
       "  <tbody>\n",
       "    <tr>\n",
       "      <th>0</th>\n",
       "      <td>1.448687</td>\n",
       "      <td>-0.126345</td>\n",
       "      <td>0</td>\n",
       "      <td>0</td>\n",
       "      <td>0</td>\n",
       "      <td>0</td>\n",
       "      <td>0</td>\n",
       "      <td>0</td>\n",
       "      <td>0</td>\n",
       "      <td>0</td>\n",
       "      <td>...</td>\n",
       "      <td>0</td>\n",
       "      <td>0</td>\n",
       "      <td>0</td>\n",
       "      <td>0</td>\n",
       "      <td>0</td>\n",
       "      <td>0</td>\n",
       "      <td>1</td>\n",
       "      <td>0</td>\n",
       "      <td>0</td>\n",
       "      <td>1</td>\n",
       "    </tr>\n",
       "    <tr>\n",
       "      <th>1</th>\n",
       "      <td>1.374651</td>\n",
       "      <td>0.148912</td>\n",
       "      <td>0</td>\n",
       "      <td>0</td>\n",
       "      <td>0</td>\n",
       "      <td>1</td>\n",
       "      <td>0</td>\n",
       "      <td>0</td>\n",
       "      <td>0</td>\n",
       "      <td>0</td>\n",
       "      <td>...</td>\n",
       "      <td>0</td>\n",
       "      <td>0</td>\n",
       "      <td>0</td>\n",
       "      <td>0</td>\n",
       "      <td>0</td>\n",
       "      <td>0</td>\n",
       "      <td>1</td>\n",
       "      <td>0</td>\n",
       "      <td>0</td>\n",
       "      <td>1</td>\n",
       "    </tr>\n",
       "  </tbody>\n",
       "</table>\n",
       "<p>2 rows × 40 columns</p>\n",
       "</div>"
      ],
      "text/plain": [
       "        Age      Fare  Pclass_1  Pclass_2  Sex_1  SibSp_1  SibSp_2  SibSp_3  \\\n",
       "0  1.448687 -0.126345         0         0      0        0        0        0   \n",
       "1  1.374651  0.148912         0         0      0        1        0        0   \n",
       "\n",
       "   SibSp_4  SibSp_5  ...  Prefix_11  Prefix_12  Prefix_13  Prefix_14  \\\n",
       "0        0        0  ...          0          0          0          0   \n",
       "1        0        0  ...          0          0          0          0   \n",
       "\n",
       "   Prefix_15  Prefix_16  Age_Bins_1  Age_Bins_2  Age_Bins_3  Fare_Bins_1  \n",
       "0          0          0           1           0           0            1  \n",
       "1          0          0           1           0           0            1  \n",
       "\n",
       "[2 rows x 40 columns]"
      ]
     },
     "execution_count": 58,
     "metadata": {},
     "output_type": "execute_result"
    }
   ],
   "source": [
    "#One-hot Encoding Categorical Variable \n",
    "categorical = list(train1.select_dtypes('object'))\n",
    "train1 = pd.get_dummies(data = train1, columns = categorical, drop_first = True)\n",
    "train1.head(2)"
   ]
  },
  {
   "cell_type": "code",
   "execution_count": 59,
   "metadata": {
    "ExecuteTime": {
     "end_time": "2021-01-14T13:51:51.591985Z",
     "start_time": "2021-01-14T13:51:51.579012Z"
    }
   },
   "outputs": [
    {
     "data": {
      "text/plain": [
       "['Age',\n",
       " 'Fare',\n",
       " 'Pclass_1',\n",
       " 'Pclass_2',\n",
       " 'Sex_1',\n",
       " 'SibSp_1',\n",
       " 'SibSp_2',\n",
       " 'SibSp_3',\n",
       " 'SibSp_4',\n",
       " 'SibSp_5',\n",
       " 'SibSp_6',\n",
       " 'Parch_1',\n",
       " 'Parch_2',\n",
       " 'Parch_3',\n",
       " 'Parch_4',\n",
       " 'Parch_5',\n",
       " 'Parch_6',\n",
       " 'Embarked_0',\n",
       " 'Embarked_1',\n",
       " 'Embarked_2',\n",
       " 'Prefix_1',\n",
       " 'Prefix_2',\n",
       " 'Prefix_3',\n",
       " 'Prefix_4',\n",
       " 'Prefix_5',\n",
       " 'Prefix_6',\n",
       " 'Prefix_7',\n",
       " 'Prefix_8',\n",
       " 'Prefix_9',\n",
       " 'Prefix_10',\n",
       " 'Prefix_11',\n",
       " 'Prefix_12',\n",
       " 'Prefix_13',\n",
       " 'Prefix_14',\n",
       " 'Prefix_15',\n",
       " 'Prefix_16',\n",
       " 'Age_Bins_1',\n",
       " 'Age_Bins_2',\n",
       " 'Age_Bins_3',\n",
       " 'Fare_Bins_1']"
      ]
     },
     "execution_count": 59,
     "metadata": {},
     "output_type": "execute_result"
    }
   ],
   "source": [
    "categorical = list(train1.select_dtypes('number'))\n",
    "categorical"
   ]
  },
  {
   "cell_type": "code",
   "execution_count": null,
   "metadata": {},
   "outputs": [],
   "source": [
    "# df.groupby(by=[col, col3, col2]).agg({'Total'+equil:meas})"
   ]
  },
  {
   "cell_type": "code",
   "execution_count": 60,
   "metadata": {
    "ExecuteTime": {
     "end_time": "2021-01-14T13:51:51.598962Z",
     "start_time": "2021-01-14T13:51:51.593974Z"
    }
   },
   "outputs": [],
   "source": [
    "# # Plot temp on y bar\n",
    "# fig, (ax1, ax2) = plt.subplots(ncols=2,figsize=(15, 5))\n",
    "# sns.distplot(test['Age'], ax=ax1, color='#36688D')\n",
    "# sns.distplot(test['Fare'], ax=ax2, color='#36688D')"
   ]
  },
  {
   "cell_type": "code",
   "execution_count": 61,
   "metadata": {
    "ExecuteTime": {
     "end_time": "2021-01-14T13:51:51.607936Z",
     "start_time": "2021-01-14T13:51:51.600956Z"
    }
   },
   "outputs": [],
   "source": [
    "# Age = round(test['Age'].skew(),5)\n",
    "# print ('the skew of Age is', Age) \n",
    "\n",
    "# Fare = round(test['Fare'].skew(),5)\n",
    "# print ('the skew of Fare is', Fare)"
   ]
  }
 ],
 "metadata": {
  "hide_input": false,
  "kernelspec": {
   "display_name": "Python 3",
   "language": "python",
   "name": "python3"
  },
  "language_info": {
   "codemirror_mode": {
    "name": "ipython",
    "version": 3
   },
   "file_extension": ".py",
   "mimetype": "text/x-python",
   "name": "python",
   "nbconvert_exporter": "python",
   "pygments_lexer": "ipython3",
   "version": "3.7.3"
  },
  "toc": {
   "base_numbering": 1,
   "nav_menu": {},
   "number_sections": true,
   "sideBar": true,
   "skip_h1_title": false,
   "title_cell": "Table of Contents",
   "title_sidebar": "Contents",
   "toc_cell": false,
   "toc_position": {},
   "toc_section_display": true,
   "toc_window_display": false
  },
  "varInspector": {
   "cols": {
    "lenName": 16,
    "lenType": 16,
    "lenVar": 40
   },
   "kernels_config": {
    "python": {
     "delete_cmd_postfix": "",
     "delete_cmd_prefix": "del ",
     "library": "var_list.py",
     "varRefreshCmd": "print(var_dic_list())"
    },
    "r": {
     "delete_cmd_postfix": ") ",
     "delete_cmd_prefix": "rm(",
     "library": "var_list.r",
     "varRefreshCmd": "cat(var_dic_list()) "
    }
   },
   "position": {
    "height": "391.719px",
    "left": "1202.44px",
    "right": "20px",
    "top": "120px",
    "width": "523.011px"
   },
   "types_to_exclude": [
    "module",
    "function",
    "builtin_function_or_method",
    "instance",
    "_Feature"
   ],
   "window_display": false
  }
 },
 "nbformat": 4,
 "nbformat_minor": 2
}
