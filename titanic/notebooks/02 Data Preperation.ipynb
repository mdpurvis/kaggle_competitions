{
 "cells": [
  {
   "cell_type": "markdown",
   "metadata": {},
   "source": [
    "# Import Packages"
   ]
  },
  {
   "cell_type": "code",
   "execution_count": null,
   "metadata": {
    "ExecuteTime": {
     "end_time": "2021-01-15T03:23:53.061090Z",
     "start_time": "2021-01-15T03:23:53.043108Z"
    }
   },
   "outputs": [],
   "source": [
    "# Data Cleaning\n",
    "import pandas as pd\n",
    "import numpy as np\n",
    "import missingno\n",
    "from collections import Counter\n",
    "\n",
    "# Data Visualizations\n",
    "import matplotlib.pyplot as plt\n",
    "import seaborn as sns\n",
    "\n",
    "# Remove warnings\n",
    "import warnings\n",
    "warnings.filterwarnings('ignore')"
   ]
  },
  {
   "cell_type": "markdown",
   "metadata": {},
   "source": [
    "# Import and read data"
   ]
  },
  {
   "cell_type": "code",
   "execution_count": null,
   "metadata": {
    "ExecuteTime": {
     "end_time": "2021-01-15T03:23:53.079342Z",
     "start_time": "2021-01-15T03:23:53.064349Z"
    }
   },
   "outputs": [],
   "source": [
    "train = pd.read_csv('../data/modified/train_preperation.csv')\n",
    "test = pd.read_csv('../data/raw/test.csv')\n",
    "ss = pd.read_csv('../data/raw/gender_submission.csv')"
   ]
  },
  {
   "cell_type": "markdown",
   "metadata": {},
   "source": [
    "# Data preprocessing\n",
    "\n",
    "Data preprocessing is the process of getting our dataset ready for model training. In this section, we will perform the following preprocessing steps:\n",
    "\n",
    "- Drop and fill missing values\n",
    "- Data trasformation (log transformation)\n",
    "- Feature engineering\n",
    "- Feature encoding"
   ]
  },
  {
   "cell_type": "markdown",
   "metadata": {},
   "source": [
    "## Drop and fill missing values"
   ]
  },
  {
   "cell_type": "code",
   "execution_count": null,
   "metadata": {
    "ExecuteTime": {
     "end_time": "2021-01-15T03:23:53.089281Z",
     "start_time": "2021-01-15T03:23:53.081303Z"
    }
   },
   "outputs": [],
   "source": [
    "# Drop ticket and cabin features from training and test set\n",
    "\n",
    "train = train.drop(['Ticket', 'Cabin'], axis = 1)\n",
    "test = test.drop(['Ticket', 'Cabin'], axis = 1)"
   ]
  },
  {
   "cell_type": "code",
   "execution_count": null,
   "metadata": {
    "ExecuteTime": {
     "end_time": "2021-01-15T03:23:53.102422Z",
     "start_time": "2021-01-15T03:23:53.092274Z"
    }
   },
   "outputs": [],
   "source": [
    "# Missing values in training set \n",
    "\n",
    "train.isnull().sum().sort_values(ascending = False)"
   ]
  },
  {
   "cell_type": "code",
   "execution_count": null,
   "metadata": {
    "ExecuteTime": {
     "end_time": "2021-01-15T03:23:53.113488Z",
     "start_time": "2021-01-15T03:23:53.104414Z"
    }
   },
   "outputs": [],
   "source": [
    "# Compute the most frequent value of Embarked in training set\n",
    "\n",
    "mode = train['Embarked'].dropna().mode()[0]\n",
    "mode"
   ]
  },
  {
   "cell_type": "code",
   "execution_count": null,
   "metadata": {
    "ExecuteTime": {
     "end_time": "2021-01-15T03:23:53.122575Z",
     "start_time": "2021-01-15T03:23:53.114595Z"
    }
   },
   "outputs": [],
   "source": [
    "# Fill missing value in Embarked with mode\n",
    "\n",
    "train['Embarked'].fillna(mode, inplace = True)"
   ]
  },
  {
   "cell_type": "code",
   "execution_count": null,
   "metadata": {
    "ExecuteTime": {
     "end_time": "2021-01-15T03:23:53.134574Z",
     "start_time": "2021-01-15T03:23:53.124600Z"
    }
   },
   "outputs": [],
   "source": [
    "# Missing values in test set\n",
    "\n",
    "test.isnull().sum().sort_values(ascending = False)"
   ]
  },
  {
   "cell_type": "code",
   "execution_count": null,
   "metadata": {
    "ExecuteTime": {
     "end_time": "2021-01-15T03:23:53.147652Z",
     "start_time": "2021-01-15T03:23:53.137533Z"
    }
   },
   "outputs": [],
   "source": [
    "# Compute median of Fare in test set \n",
    "\n",
    "median = test['Fare'].dropna().median()\n",
    "median"
   ]
  },
  {
   "cell_type": "code",
   "execution_count": null,
   "metadata": {
    "ExecuteTime": {
     "end_time": "2021-01-15T03:23:53.165881Z",
     "start_time": "2021-01-15T03:23:53.150667Z"
    }
   },
   "outputs": [],
   "source": [
    "# Fill missing value in Fare with median\n",
    "\n",
    "test['Fare'].fillna(median, inplace = True)"
   ]
  },
  {
   "cell_type": "code",
   "execution_count": null,
   "metadata": {
    "ExecuteTime": {
     "end_time": "2021-01-15T03:23:53.186068Z",
     "start_time": "2021-01-15T03:23:53.168115Z"
    }
   },
   "outputs": [],
   "source": [
    "# Combine training set and test set\n",
    "\n",
    "df = pd.concat([train, test], axis = 0).reset_index(drop = True)\n",
    "df.head()"
   ]
  },
  {
   "cell_type": "code",
   "execution_count": null,
   "metadata": {
    "ExecuteTime": {
     "end_time": "2021-01-15T03:23:53.196067Z",
     "start_time": "2021-01-15T03:23:53.188063Z"
    }
   },
   "outputs": [],
   "source": [
    "df['Title'] = [name.split(',')[1].split('.')[0].strip() for name in df['Name']]\n",
    "df[['Name', 'Title']].head()\n",
    "df.drop(columns='Name', inplace=True)"
   ]
  },
  {
   "cell_type": "code",
   "execution_count": null,
   "metadata": {
    "ExecuteTime": {
     "end_time": "2021-01-15T03:23:53.225590Z",
     "start_time": "2021-01-15T03:23:53.198037Z"
    }
   },
   "outputs": [],
   "source": [
    "df['Age_factor'] = df['Sex']+' '+df['Title']+' '+df['Pclass'].astype(str)\n",
    "df['Age_factor'].replace(to_replace='female Ms 3', value='female Ms 2', inplace=True)\n",
    "\n",
    "df_age = df.groupby(by='Age_factor').agg({'Age':'mean'})\n",
    "df_age['Age_fill'] = df_age['Age']\n",
    "df_age.drop(columns='Age', inplace=True)\n",
    "\n",
    "df.set_index('Age_factor', inplace=True)\n",
    "df = df.join(df_age)\n",
    "df['Age'].fillna(df['Age_fill'], inplace=True)\n",
    "df.reset_index( inplace=True)\n",
    "df.drop(columns=['Age_fill','Age_factor'], inplace=True)\n",
    "\n",
    "df.loc[df['Age'].isna()]"
   ]
  },
  {
   "cell_type": "code",
   "execution_count": null,
   "metadata": {
    "ExecuteTime": {
     "end_time": "2021-01-15T03:23:53.269851Z",
     "start_time": "2021-01-15T03:23:53.246903Z"
    },
    "cell_style": "split"
   },
   "outputs": [],
   "source": [
    "# Separate data into categorical and numerical \n",
    "df.select_dtypes('object').head(2)"
   ]
  },
  {
   "cell_type": "code",
   "execution_count": null,
   "metadata": {
    "ExecuteTime": {
     "end_time": "2021-01-15T03:23:53.287924Z",
     "start_time": "2021-01-15T03:23:53.273960Z"
    },
    "cell_style": "split"
   },
   "outputs": [],
   "source": [
    "# check the caragorical variable \n",
    "df.select_dtypes('float').head(2)"
   ]
  },
  {
   "cell_type": "code",
   "execution_count": null,
   "metadata": {
    "ExecuteTime": {
     "end_time": "2021-01-15T03:23:53.299865Z",
     "start_time": "2021-01-15T03:23:53.289889Z"
    }
   },
   "outputs": [],
   "source": [
    "# Simplify title\n",
    "\n",
    "df['Title'] = df['Title'].replace(['Dr', 'Rev', 'Col', 'Major', 'Lady', 'Jonkheer', 'Don', 'Capt', 'the Countess',\n",
    "                                             'Sir', 'Dona'], 'Rare')\n",
    "df['Title'] = df['Title'].replace(['Mlle', 'Ms'], 'Miss')\n",
    "df['Title'] = df['Title'].replace('Mme', 'Mrs')"
   ]
  },
  {
   "cell_type": "code",
   "execution_count": null,
   "metadata": {
    "ExecuteTime": {
     "end_time": "2021-01-15T03:23:53.454489Z",
     "start_time": "2021-01-15T03:23:53.303144Z"
    }
   },
   "outputs": [],
   "source": [
    "sns.countplot(df['Title'])"
   ]
  },
  {
   "cell_type": "code",
   "execution_count": null,
   "metadata": {
    "ExecuteTime": {
     "end_time": "2021-01-15T03:23:53.470557Z",
     "start_time": "2021-01-15T03:23:53.456481Z"
    },
    "cell_style": "split"
   },
   "outputs": [],
   "source": [
    "# Mean of survival by name title\n",
    "\n",
    "df[['Title', 'Survived']].groupby(['Title'], as_index = False).mean().sort_values(by = 'Survived', ascending = False)"
   ]
  },
  {
   "cell_type": "code",
   "execution_count": null,
   "metadata": {
    "ExecuteTime": {
     "end_time": "2021-01-15T03:23:53.787001Z",
     "start_time": "2021-01-15T03:23:53.471644Z"
    },
    "cell_style": "split"
   },
   "outputs": [],
   "source": [
    "sns.factorplot(x = 'Title', y = 'Survived', data = df, kind = 'bar')\n",
    "plt.ylabel('Survival Probability')\n",
    "plt.title('Mean of survival by Title')"
   ]
  },
  {
   "cell_type": "code",
   "execution_count": null,
   "metadata": {
    "ExecuteTime": {
     "end_time": "2021-01-15T03:23:54.658479Z",
     "start_time": "2021-01-15T03:23:53.788971Z"
    }
   },
   "outputs": [],
   "source": [
    "sns.factorplot(y = 'Age', x = 'Sex', hue = 'Pclass', kind = 'box', data = df)\n",
    "sns.factorplot(y = 'Age', x = 'Parch', kind = 'box', data = df)\n",
    "sns.factorplot(y = 'Age', x = 'SibSp', kind = 'box', data = df)"
   ]
  },
  {
   "cell_type": "code",
   "execution_count": null,
   "metadata": {
    "ExecuteTime": {
     "end_time": "2021-01-15T03:23:54.730591Z",
     "start_time": "2021-01-15T03:23:54.661472Z"
    }
   },
   "outputs": [],
   "source": [
    "df['Age_factor'] = df['Sex']+' '+df['Title']+' '+df['Pclass'].astype(str)+' '+df['Parch'].astype(str)+' '+df['Pclass'].astype(str)\n",
    "df['Age_factor'].replace(to_replace='female Ms 3', value='female Ms 2', inplace=True)\n",
    "\n",
    "df_age = df.groupby(by='Age_factor').agg({'Age':'mean'})\n",
    "df_age['Age_fill'] = df_age['Age']\n",
    "df_age.drop(columns='Age', inplace=True)\n",
    "\n",
    "df.set_index('Age_factor', inplace=True)\n",
    "df = df.join(df_age)\n",
    "df['Age'].fillna(df['Age_fill'], inplace=True)\n",
    "df.reset_index( inplace=True)\n",
    "df.drop(columns=['Age_fill','Age_factor'], inplace=True)\n",
    "\n",
    "df.loc[df['Age'].isna()]"
   ]
  },
  {
   "cell_type": "markdown",
   "metadata": {},
   "source": [
    "## Data transformation\n",
    "\n",
    "Recall that our passenger fare column has a very high positive skewness. Therefore, we will apply a log transformation to address this issue."
   ]
  },
  {
   "cell_type": "code",
   "execution_count": null,
   "metadata": {
    "ExecuteTime": {
     "end_time": "2021-01-15T03:23:55.055772Z",
     "start_time": "2021-01-15T03:23:54.730591Z"
    }
   },
   "outputs": [],
   "source": [
    "# Passenger fare distribution\n",
    "\n",
    "sns.distplot(df['Fare'], label = 'Skewness: %.2f'%(df['Fare'].skew()))\n",
    "plt.legend(loc = 'best')\n",
    "plt.title('Passenger Fare Distribution')"
   ]
  },
  {
   "cell_type": "code",
   "execution_count": null,
   "metadata": {
    "ExecuteTime": {
     "end_time": "2021-01-15T03:23:55.063751Z",
     "start_time": "2021-01-15T03:23:55.057770Z"
    }
   },
   "outputs": [],
   "source": [
    "# Apply log transformation to Fare column to reduce skewness\n",
    "\n",
    "df['Fare'] = df['Fare'].map(lambda x: np.log(x) if x > 0 else 0)"
   ]
  },
  {
   "cell_type": "markdown",
   "metadata": {},
   "source": [
    "## Feature engineering\n",
    "\n",
    "Feature engineering is arguably the most important art in machine learning. It is the process of creating new features from existing features to better represent the underlying problem to the predictive models resulting in improved model accuracy on unseen data.\n",
    "\n",
    "In this section, I will construct 3 new features:\n",
    "- Title\n",
    "- Age_Bins\n",
    "- Fare_Bins\n",
    "\n",
    "*Used title in above section after seeing it as important for filling missing ages"
   ]
  },
  {
   "cell_type": "code",
   "execution_count": null,
   "metadata": {
    "ExecuteTime": {
     "end_time": "2021-01-15T03:23:55.090873Z",
     "start_time": "2021-01-15T03:23:55.067741Z"
    }
   },
   "outputs": [],
   "source": [
    "def plot_distribution_num(train, train_select, legend) :\n",
    "    sns.set_style('ticks')\n",
    "    s = sns.FacetGrid(train, \n",
    "                      hue = legend,\n",
    "                      height = 5,\n",
    "                      aspect = 1, \n",
    "                      palette = {1 : 'Lightblue', \n",
    "                                 0 : 'gold'})\n",
    "    s.map(sns.kdeplot, \n",
    "          train_select, \n",
    "          shade = True, \n",
    "          alpha = 0.8)\n",
    "    s.set(xlim=(0, \n",
    "                train[train_select].max()))\n",
    "    s.add_legend()\n",
    "    s.set_axis_labels(train_select, \n",
    "                      'proportion')\n",
    "    s.fig.suptitle(train_select)\n",
    "    plt.show()"
   ]
  },
  {
   "cell_type": "code",
   "execution_count": null,
   "metadata": {
    "ExecuteTime": {
     "end_time": "2021-01-15T03:23:55.578563Z",
     "start_time": "2021-01-15T03:23:55.095859Z"
    }
   },
   "outputs": [],
   "source": [
    "train_female = train.loc[train['Sex'] == 'female']\n",
    "train_male = train.loc[train['Sex'] == 'male']\n",
    "\n",
    "plot_distribution_num(train_female, 'Age', 'Survived')\n",
    "plot_distribution_num(train_male, 'Age', 'Survived')"
   ]
  },
  {
   "cell_type": "code",
   "execution_count": null,
   "metadata": {
    "ExecuteTime": {
     "end_time": "2021-01-15T03:23:55.829509Z",
     "start_time": "2021-01-15T03:23:55.580564Z"
    }
   },
   "outputs": [],
   "source": [
    "plot_distribution_num(df, 'Fare', 'Survived')"
   ]
  },
  {
   "cell_type": "code",
   "execution_count": null,
   "metadata": {
    "ExecuteTime": {
     "end_time": "2021-01-15T03:23:55.853696Z",
     "start_time": "2021-01-15T03:23:55.832503Z"
    }
   },
   "outputs": [],
   "source": [
    "# Create Age_Bins column\n",
    "ea = [df]\n",
    "\n",
    "m_var = 17\n",
    "f_var = 50\n",
    "for ea in ea:\n",
    "    ea.loc[(ea['Age']<m_var) & (ea['Sex'] == 'male') , 'Age_Bins'] = 0\n",
    "    ea.loc[(ea['Age']>=m_var) & (ea['Sex'] == 'male'), 'Age_Bins'] = 1\n",
    "    ea.loc[(ea['Age']<f_var) & (ea['Sex'] == 'female'), 'Age_Bins'] = 2\n",
    "    ea.loc[(ea['Age']>=f_var) & (ea['Sex'] == 'female'), 'Age_Bins'] = 3"
   ]
  },
  {
   "cell_type": "code",
   "execution_count": null,
   "metadata": {
    "ExecuteTime": {
     "end_time": "2021-01-15T03:23:55.868625Z",
     "start_time": "2021-01-15T03:23:55.855662Z"
    }
   },
   "outputs": [],
   "source": [
    "#Create Fare_Bins column\n",
    "ea = [df]\n",
    "\n",
    "var = 2.5\n",
    "\n",
    "for ea in ea:\n",
    "    ea.loc[(ea['Fare']<var), 'Fare_Bins'] = 0\n",
    "    ea.loc[(ea['Fare']>=var), 'Fare_Bins'] = 1"
   ]
  },
  {
   "cell_type": "code",
   "execution_count": null,
   "metadata": {
    "ExecuteTime": {
     "end_time": "2021-01-15T03:23:55.881741Z",
     "start_time": "2021-01-15T03:23:55.871617Z"
    }
   },
   "outputs": [],
   "source": [
    "# Convert Male to 0 and Female to 1\n",
    "\n",
    "df.loc[df['Sex'] == 'male', 'Sex'] = 0\n",
    "df.loc[df['Sex'] == 'female', 'Sex'] = 1"
   ]
  },
  {
   "cell_type": "markdown",
   "metadata": {},
   "source": [
    "Age Bins:\n",
    "\n",
    "    - 0 = Males under 17\n",
    "    - 1 = Males Over (or equal to) 17\n",
    "    - 2 = Females under 50\n",
    "    - 3 = Females Over (or equal to) 50\n",
    "    \n",
    "Fare Bins:\n",
    "\n",
    "    1) 0 = Less than 50\n",
    "    2) 1 = Greater than or equal to 50"
   ]
  },
  {
   "cell_type": "code",
   "execution_count": null,
   "metadata": {
    "ExecuteTime": {
     "end_time": "2021-01-15T03:23:55.897268Z",
     "start_time": "2021-01-15T03:23:55.881741Z"
    }
   },
   "outputs": [],
   "source": [
    "# Drop SibSp, Parch and FamilySize features from combine dataframe\n",
    "\n",
    "df = df.drop(['SibSp', 'Parch', 'Age', 'Fare'], axis = 1)\n",
    "df.head()"
   ]
  },
  {
   "cell_type": "code",
   "execution_count": null,
   "metadata": {
    "ExecuteTime": {
     "end_time": "2021-01-15T03:23:55.909232Z",
     "start_time": "2021-01-15T03:23:55.900271Z"
    },
    "cell_style": "split"
   },
   "outputs": [],
   "source": [
    "# Separate data into categorical and numerical \n",
    "df.select_dtypes('object').head(2)"
   ]
  },
  {
   "cell_type": "code",
   "execution_count": null,
   "metadata": {
    "ExecuteTime": {
     "end_time": "2021-01-15T03:23:55.926695Z",
     "start_time": "2021-01-15T03:23:55.910804Z"
    },
    "cell_style": "split"
   },
   "outputs": [],
   "source": [
    "# Separate data into categorical and numerical \n",
    "df.select_dtypes('number').head(2)"
   ]
  },
  {
   "cell_type": "markdown",
   "metadata": {},
   "source": [
    "## Feature encoding \n",
    "\n",
    "Machine learning models require all input and output variables to be numeric. Therefore, we need to encode all of our categorical data before we can fit the models to our data.\n",
    "\n",
    "Previously, we have encoded the sex column such that 0 = male and 1 = female. We need to repeat this process for Title and Embarked. In addition, similar to the age column, I will also transform Fare into an ordinal variable rather than a continuous variable."
   ]
  },
  {
   "cell_type": "code",
   "execution_count": null,
   "metadata": {
    "ExecuteTime": {
     "end_time": "2021-01-15T03:23:55.949625Z",
     "start_time": "2021-01-15T03:23:55.929709Z"
    }
   },
   "outputs": [],
   "source": [
    "df.head()"
   ]
  },
  {
   "cell_type": "code",
   "execution_count": null,
   "metadata": {
    "ExecuteTime": {
     "end_time": "2021-01-15T03:23:55.959203Z",
     "start_time": "2021-01-15T03:23:55.952223Z"
    }
   },
   "outputs": [],
   "source": [
    "# Convert Age_Bins, and Fare_Bins to int\n",
    "\n",
    "ea = ['Age_Bins', 'Fare_Bins']\n",
    "\n",
    "for ea in ea:\n",
    "    df[ea] = df[ea].astype(int)"
   ]
  },
  {
   "cell_type": "code",
   "execution_count": null,
   "metadata": {
    "ExecuteTime": {
     "end_time": "2021-01-15T03:23:55.989123Z",
     "start_time": "2021-01-15T03:23:55.962196Z"
    }
   },
   "outputs": [],
   "source": [
    "# Encode Title and Embarked feature\n",
    "\n",
    "df = pd.get_dummies(df, columns = ['Title'])\n",
    "df = pd.get_dummies(df, columns = ['Embarked'], prefix = 'Em')\n",
    "df.head()"
   ]
  },
  {
   "cell_type": "code",
   "execution_count": null,
   "metadata": {
    "ExecuteTime": {
     "end_time": "2021-01-15T03:24:21.331527Z",
     "start_time": "2021-01-15T03:24:21.325547Z"
    }
   },
   "outputs": [],
   "source": [
    "df.shape"
   ]
  },
  {
   "cell_type": "code",
   "execution_count": null,
   "metadata": {
    "ExecuteTime": {
     "end_time": "2021-01-15T03:26:01.670626Z",
     "start_time": "2021-01-15T03:26:01.645453Z"
    }
   },
   "outputs": [],
   "source": [
    "# Separate training and test set from the combined dataframe\n",
    "\n",
    "train = df.loc[df['Survived'].notnull()]\n",
    "test = df.loc[df['Survived'].isnull()]"
   ]
  },
  {
   "cell_type": "code",
   "execution_count": null,
   "metadata": {
    "ExecuteTime": {
     "end_time": "2021-01-15T03:26:03.170774Z",
     "start_time": "2021-01-15T03:26:03.142262Z"
    }
   },
   "outputs": [],
   "source": [
    "train.head()"
   ]
  },
  {
   "cell_type": "code",
   "execution_count": null,
   "metadata": {
    "ExecuteTime": {
     "end_time": "2021-01-15T03:26:36.794928Z",
     "start_time": "2021-01-15T03:26:36.781926Z"
    }
   },
   "outputs": [],
   "source": [
    "# Drop passenger ID column from and training set\n",
    "\n",
    "train = train.drop('PassengerId', axis = 1)\n",
    "train.head()"
   ]
  },
  {
   "cell_type": "code",
   "execution_count": null,
   "metadata": {
    "ExecuteTime": {
     "end_time": "2021-01-15T03:26:56.630594Z",
     "start_time": "2021-01-15T03:26:56.613178Z"
    }
   },
   "outputs": [],
   "source": [
    "# Convert survived back to integer in the training set\n",
    "\n",
    "train['Survived'] = train['Survived'].astype('int')\n",
    "train.head()"
   ]
  },
  {
   "cell_type": "code",
   "execution_count": null,
   "metadata": {
    "ExecuteTime": {
     "end_time": "2021-01-15T03:27:27.450306Z",
     "start_time": "2021-01-15T03:27:27.423327Z"
    }
   },
   "outputs": [],
   "source": [
    "# Drop passenger survived column from test set\n",
    "\n",
    "test = test.drop('Survived', axis = 1)\n",
    "test.head()"
   ]
  },
  {
   "cell_type": "markdown",
   "metadata": {},
   "source": [
    "# Data Preperation - Complete\n",
    "\n",
    "Export the train dataset to the 'modified' folder to begin the next steps - Data Processing"
   ]
  },
  {
   "cell_type": "code",
   "execution_count": null,
   "metadata": {
    "ExecuteTime": {
     "end_time": "2021-01-15T03:29:28.390822Z",
     "start_time": "2021-01-15T03:29:28.358879Z"
    }
   },
   "outputs": [],
   "source": [
    "train.to_csv('../data/modified/train_preperation.csv', index=False)\n",
    "test.to_csv('../data/modified/test_preperation.csv', index=False)"
   ]
  }
 ],
 "metadata": {
  "hide_input": false,
  "kernelspec": {
   "display_name": "Python 3",
   "language": "python",
   "name": "python3"
  },
  "language_info": {
   "codemirror_mode": {
    "name": "ipython",
    "version": 3
   },
   "file_extension": ".py",
   "mimetype": "text/x-python",
   "name": "python",
   "nbconvert_exporter": "python",
   "pygments_lexer": "ipython3",
   "version": "3.7.3"
  },
  "toc": {
   "base_numbering": 1,
   "nav_menu": {},
   "number_sections": true,
   "sideBar": true,
   "skip_h1_title": false,
   "title_cell": "Table of Contents",
   "title_sidebar": "Contents",
   "toc_cell": false,
   "toc_position": {},
   "toc_section_display": true,
   "toc_window_display": false
  },
  "varInspector": {
   "cols": {
    "lenName": 16,
    "lenType": 16,
    "lenVar": 40
   },
   "kernels_config": {
    "python": {
     "delete_cmd_postfix": "",
     "delete_cmd_prefix": "del ",
     "library": "var_list.py",
     "varRefreshCmd": "print(var_dic_list())"
    },
    "r": {
     "delete_cmd_postfix": ") ",
     "delete_cmd_prefix": "rm(",
     "library": "var_list.r",
     "varRefreshCmd": "cat(var_dic_list()) "
    }
   },
   "types_to_exclude": [
    "module",
    "function",
    "builtin_function_or_method",
    "instance",
    "_Feature"
   ],
   "window_display": false
  }
 },
 "nbformat": 4,
 "nbformat_minor": 2
}
